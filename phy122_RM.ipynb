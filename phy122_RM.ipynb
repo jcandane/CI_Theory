{
  "nbformat": 4,
  "nbformat_minor": 0,
  "metadata": {
    "colab": {
      "provenance": [],
      "collapsed_sections": [
        "CZJ9inuumGfS",
        "Pk9ELXX6UEN2",
        "-VD4zN8OWfze",
        "k4jeA9q2UfH1",
        "wYk7vr6uUt4t"
      ],
      "include_colab_link": true
    },
    "kernelspec": {
      "name": "python3",
      "display_name": "Python 3"
    },
    "language_info": {
      "name": "python"
    }
  },
  "cells": [
    {
      "cell_type": "markdown",
      "metadata": {
        "id": "view-in-github",
        "colab_type": "text"
      },
      "source": [
        "<a href=\"https://colab.research.google.com/github/jcandane/CI_Theory/blob/main/phy122_RM.ipynb\" target=\"_parent\"><img src=\"https://colab.research.google.com/assets/colab-badge.svg\" alt=\"Open In Colab\"/></a>"
      ]
    },
    {
      "cell_type": "markdown",
      "source": [
        "Title of Work\n",
        "\n",
        "Name\n",
        "\n",
        "Date"
      ],
      "metadata": {
        "id": "ktbMd1V1U2FG"
      }
    },
    {
      "cell_type": "markdown",
      "source": [
        "#   <font color='Green'> **Objective** </font>\n",
        "\n",
        "##Fully Explain the physics of the following equaiton:\n",
        "# \\begin{align*}\n",
        "\\mathbf{f} &= \\frac{mv^2}{R} \\,\\mathbf{\\hat{R}} \\quad\\quad.\n",
        "\\end{align*}"
      ],
      "metadata": {
        "id": "ihvs08eohtuX"
      }
    },
    {
      "cell_type": "markdown",
      "source": [
        "#   <font color='Green'> **Setup** </font>"
      ],
      "metadata": {
        "id": "CZJ9inuumGfS"
      }
    },
    {
      "cell_type": "code",
      "execution_count": null,
      "metadata": {
        "id": "TWlI_-aaNKz3"
      },
      "outputs": [],
      "source": [
        "import numpy as np\n",
        "import matplotlib.pyplot as plt\n",
        "\n",
        "np.set_printoptions(precision=4, linewidth=200, threshold=2000, suppress=True)\n",
        "\n",
        "π = np.pi\n",
        "\n",
        "def VelocityVerletRot(T, x0=np.array([1.,0.,0.]), v0=np.zeros(3), mass=1., xcenter=np.zeros(3)): \n",
        "    Δt = T[1] - T[0]\n",
        "\n",
        "    x_t = np.zeros((len(T),3))\n",
        "    v_t = np.zeros((len(T),3))\n",
        "    f_t = np.zeros((len(T),3))\n",
        "\n",
        "    x_t[0] = x0\n",
        "    v_t[0] = v0\n",
        "    f_t[0] = -np.dot( v_t[0], v_t[0]) / (np.linalg.norm(x_t[0])**2) * ( x_t[0] - xcenter )\n",
        "    a_told = np.zeros(3)\n",
        "    for t in range(len(T)-1):\n",
        "        x_t[t+1] = x_t[t] + v_t[t] * Δt + 0.5 * a_told * (Δt*Δt) \n",
        "\n",
        "        a_tnew = -np.dot( v_t[t], v_t[t]) / (np.linalg.norm(x_t[t])**2) * ( x_t[t] - xcenter )\n",
        "        f_t[t+1] = mass* a_tnew \n",
        "\n",
        "        v_t[t+1]  = v_t[t] + 0.5 * (a_told + a_tnew) * Δt \n",
        "        a_told    = a_tnew\n",
        "\n",
        "    return x_t, v_t, f_t"
      ]
    },
    {
      "cell_type": "markdown",
      "source": [
        "#   <font color='Red'> **Experiment 1** </font>\n",
        "\n",
        "### <font color='Red'>  Let's get acquainted with rotational motion. </font>"
      ],
      "metadata": {
        "id": "Pk9ELXX6UEN2"
      }
    },
    {
      "cell_type": "markdown",
      "source": [
        "#### <font color='Red'>  Lets define a time array to indicate all moment of time considered, i.e. as done in previous labs. And define an initial position, velocity, and particle mass. </font>"
      ],
      "metadata": {
        "id": "oVtXaZj0seMr"
      }
    },
    {
      "cell_type": "code",
      "source": [
        "Δt = 0.001 ### s(detector)\n",
        "t0 = 0.\n",
        "tf = 20*π\n",
        "timeline = np.arange(t0,tf,Δt)\n",
        "\n",
        "x0   = np.array([3.14,0.,0.])\n",
        "v0   = np.array([0.00,1.,0.])\n",
        "mass = 1. ## kg"
      ],
      "metadata": {
        "id": "SQ5qMQiusn6r"
      },
      "execution_count": null,
      "outputs": []
    },
    {
      "cell_type": "markdown",
      "source": [
        "#### <font color='Red'>  Let's begin with Lab 2's Velocity Verlet Method as implemented in $\\S$2.4.1 (free fall motion). Feel-free to copy-n-paste your result from there into the code-cell below, and plot your dynamics showing that your code-cell works. </font>"
      ],
      "metadata": {
        "id": "8piaQsEf_YXR"
      }
    },
    {
      "cell_type": "code",
      "source": [],
      "metadata": {
        "id": "Lq-KobdN_9xj"
      },
      "execution_count": null,
      "outputs": []
    },
    {
      "cell_type": "markdown",
      "source": [
        "### <font color='Red'>  Next copy-n-paste the earlier VelocityVerlet algorthim but with a modification: </font>\n",
        "```\n",
        "a_t[t] = -np.dot( v_t[t], v_t[t]) / (np.linalg.norm(x_t[t])**2) * ( x_t[t] - np.zeros(3) )\n",
        "```\n",
        "### <font color='Red'> use this to our equations-of-motion, and obtain a trajectory and accelerations.</font>\n",
        "\n",
        "### <font color='Red'> I.e. implement Velocity Verlet with the Centripetal acceleration. </font>"
      ],
      "metadata": {
        "id": "EAPsr0PQsH1D"
      }
    },
    {
      "cell_type": "code",
      "source": [
        "x_t, v_t, f_t = VelocityVerletRot(timeline, x0=x0, v0=v0)"
      ],
      "metadata": {
        "id": "4dZjmlUmsaag"
      },
      "execution_count": null,
      "outputs": []
    },
    {
      "cell_type": "markdown",
      "source": [
        "####   <font color='Red'> Plot x(t), y(t), z(t) trajectories (in time) on 1 graph, be sure to include caption. Then Plot v_x(t), v_y(t), v_z(t) velocities (in time) on 1 graph, in conclusion explain this graph </font>"
      ],
      "metadata": {
        "id": "-VD4zN8OWfze"
      }
    },
    {
      "cell_type": "code",
      "source": [
        "fig, (ax1, ax2) = plt.subplots(1, 2)\n",
        "fig.subplots_adjust(hspace=0.01, wspace=0.25, right=2)\n",
        "\n",
        "ax1.scatter(timeline, x_t[:,0])\n",
        "ax1.scatter(timeline, x_t[:,1])\n",
        "ax1.scatter(timeline, x_t[:,2])\n",
        "ax1.set_title(\"Uniform Circular Motion\")\n",
        "ax1.set(xlabel=\"time (s)\", ylabel=\"position (m)\")\n",
        "\n",
        "#ax2.plot(t, field2.getEE(t).real[:,1])\n",
        "ax2.scatter(timeline, v_t[:,0])\n",
        "ax2.scatter(timeline, v_t[:,1])\n",
        "ax2.scatter(timeline, v_t[:,2])\n",
        "ax2.set_title(\"Uniform Circular Motion\")\n",
        "ax2.set(xlabel=\"time (s)\", ylabel=\"velocity (m/s)\")\n",
        "\n",
        "fig.show()"
      ],
      "metadata": {
        "colab": {
          "base_uri": "https://localhost:8080/",
          "height": 295
        },
        "id": "uqKASgFqVxfc",
        "outputId": "f6b4ff02-8331-4a23-943a-5221de4c345d"
      },
      "execution_count": null,
      "outputs": [
        {
          "output_type": "display_data",
          "data": {
            "text/plain": [
              "<Figure size 432x288 with 2 Axes>"
            ],
            "image/png": "[encoded data removed]"
          },
          "metadata": {
            "needs_background": "light"
          }
        }
      ]
    },
    {
      "cell_type": "markdown",
      "source": [],
      "metadata": {
        "id": "Mg8sOIRoBAEd"
      }
    },
    {
      "cell_type": "markdown",
      "source": [
        "###   <font color='Red'> Plot a parametric plot with x and y </font>"
      ],
      "metadata": {
        "id": "Gi5OnGDuWys_"
      }
    },
    {
      "cell_type": "code",
      "source": [
        "plt.figure(figsize=(4,4)) ## ax.set_aspect('equal','box')\n",
        "plt.scatter(x_t[:,0], x_t[:,1])\n",
        "plt.ylim([-4,4])\n",
        "plt.xlim([-4,4])\n",
        "plt.show()"
      ],
      "metadata": {
        "colab": {
          "base_uri": "https://localhost:8080/",
          "height": 269
        },
        "id": "rhJ3jbowV8Dy",
        "outputId": "ed22894e-b479-4a38-9a99-691d95fd3fe0"
      },
      "execution_count": null,
      "outputs": [
        {
          "output_type": "display_data",
          "data": {
            "text/plain": [
              "<Figure size 288x288 with 1 Axes>"
            ],
            "image/png": "[encoded data removed]"
          },
          "metadata": {
            "needs_background": "light"
          }
        }
      ]
    },
    {
      "cell_type": "markdown",
      "source": [],
      "metadata": {
        "id": "Wrz3yhr1BBX4"
      }
    },
    {
      "cell_type": "markdown",
      "source": [
        "#   <font color='Red'> **Experiment 2**  </font>\n",
        "\n",
        "### <font color='Red'>  Let's now implement the  *for-loop over object configurations*; by **varying the velocity**, keeping the objects mass and radius fixed. You may use the VelocityVerletRot method defined above. </font>\n",
        "\n"
      ],
      "metadata": {
        "id": "k4jeA9q2UfH1"
      }
    },
    {
      "cell_type": "markdown",
      "source": [
        "#### <font color='Red'> Specify a range of speeds, you'd like to test. And an empty array of what you'd like to measure, i.e. the force (of the same length of the array of speeds). </font>"
      ],
      "metadata": {
        "id": "GD1Pxyq6ZK8F"
      }
    },
    {
      "cell_type": "code",
      "source": [
        "v_test   = np.arange(0, 2.5, 0.1)\n",
        "f_v_test = np.zeros(len(v_test))"
      ],
      "metadata": {
        "id": "6rcp2sxIZYKI"
      },
      "execution_count": null,
      "outputs": []
    },
    {
      "cell_type": "markdown",
      "source": [
        "#### <font color='Red'> Setup a time-array like before to test the dynamics.  </font>"
      ],
      "metadata": {
        "id": "-pIVk4UIaOwx"
      }
    },
    {
      "cell_type": "code",
      "source": [
        "Δt = 0.01 ### s(detector)\n",
        "t0 = 0 \n",
        "tf = 10*π\n",
        "timeline = np.arange(t0,tf,Δt)"
      ],
      "metadata": {
        "id": "EOM_-tguaPDT"
      },
      "execution_count": null,
      "outputs": []
    },
    {
      "cell_type": "markdown",
      "source": [
        "#### <font color='Red'> Let's run the for-loop, over the velocities we wish to experiment over. </font>"
      ],
      "metadata": {
        "id": "J0L8orcyZYeV"
      }
    },
    {
      "cell_type": "code",
      "source": [
        "mass = 1. ## kg\n",
        "x0   = np.array([3.14,0.,0.])\n",
        "for i in range(len(v_test)):\n",
        "    vv = v_test[i] * np.array([0.00, 1.0, 0.])\n",
        "    x_t, v_t, f_t = VelocityVerletRot(timeline, x0=x0, v0=vv, mass=mass)\n",
        "\n",
        "    f_v_test[i]   = np.sum( np.linalg.norm(f_t, axis=1) ) / len(f_t)"
      ],
      "metadata": {
        "id": "3dywnlORRHMv"
      },
      "execution_count": null,
      "outputs": []
    },
    {
      "cell_type": "markdown",
      "source": [
        "#### <font color='Red'> Plot your data: F vs. v </font>"
      ],
      "metadata": {
        "id": "2P09jGnKbYXa"
      }
    },
    {
      "cell_type": "code",
      "source": [
        "plt.scatter(v_test, f_v_test)\n",
        "plt.title(\"Uniform Circular Motion\")\n",
        "plt.xlabel(\"velocity (m/s)\")\n",
        "plt.ylabel(\"Force (N)\")\n",
        "plt.show()"
      ],
      "metadata": {
        "colab": {
          "base_uri": "https://localhost:8080/",
          "height": 295
        },
        "id": "KK2hKycVaonS",
        "outputId": "e8918542-dda5-477a-96f9-46905dfc10be"
      },
      "execution_count": null,
      "outputs": [
        {
          "output_type": "display_data",
          "data": {
            "text/plain": [
              "<Figure size 432x288 with 1 Axes>"
            ],
            "image/png": "[encoded data removed]"
          },
          "metadata": {
            "needs_background": "light"
          }
        }
      ]
    },
    {
      "cell_type": "markdown",
      "source": [
        "#### <font color='Red'> Solve Least-Squares Linear fit to the Data, i.e. obtain a linear form of your data (e.g. f ~ x). Get linear coefficients y = m * x + c, i.e. get m and c (with y = f, and x = v$^2$). And print the values of m and c with units. </font>"
      ],
      "metadata": {
        "id": "BUbC-8TzrCSC"
      }
    },
    {
      "cell_type": "code",
      "source": [
        "v2   = v_test**2\n",
        "A    = np.vstack([v2, np.ones(len(v2))]).T\n",
        "m, c = np.linalg.lstsq(A, f_v_test, rcond=None)[0]\n",
        "\n",
        "print(\"slope       = %4.3f kg/m\" % m)\n",
        "print(\"y-intercept = %4.3f N\" % c)"
      ],
      "metadata": {
        "colab": {
          "base_uri": "https://localhost:8080/"
        },
        "id": "P36q3OaMrDiz",
        "outputId": "d1068884-7d27-4f35-c84f-f3ef4c58bfe3"
      },
      "execution_count": null,
      "outputs": [
        {
          "output_type": "stream",
          "name": "stdout",
          "text": [
            "slope       = 0.329 kg/m\n",
            "y-intercept = -0.005 N\n"
          ]
        }
      ]
    },
    {
      "cell_type": "markdown",
      "source": [
        "### <font color='Red'> Get the theoretical slope ratio, e.g. m/R, and print it with units how does it compare with your linear fit? </font>"
      ],
      "metadata": {
        "id": "mSDdnRTrrQ7G"
      }
    },
    {
      "cell_type": "code",
      "source": [
        "mtheory = mass / np.linalg.norm(x0)\n",
        "\n",
        "print(\"slope-theory= %4.3f kg/m\" % mtheory)"
      ],
      "metadata": {
        "colab": {
          "base_uri": "https://localhost:8080/"
        },
        "id": "4wejb6kIrT9e",
        "outputId": "8d5ec607-63b4-46aa-8bfe-b41b09648cab"
      },
      "execution_count": null,
      "outputs": [
        {
          "output_type": "stream",
          "name": "stdout",
          "text": [
            "slope-theory= 0.318 kg/m\n"
          ]
        }
      ]
    },
    {
      "cell_type": "markdown",
      "source": [
        "#### <font color='Red'> Let's plot this linear function (in F vs. v^2): data, simulation-fit, and theory-fit </font>"
      ],
      "metadata": {
        "id": "Fd1eJkGTqkWr"
      }
    },
    {
      "cell_type": "code",
      "source": [
        "plt.scatter(v_test**2, f_v_test)\n",
        "plt.plot(v_test**2, m*v_test**2 + c, color=\"red\")\n",
        "plt.plot(v_test**2, mtheory*v_test**2, color=\"green\" )\n",
        "plt.title(\"Uniform Circular Motion\")\n",
        "plt.xlabel(\"velocity^2 (m$^2$/s$^2$)\")\n",
        "plt.ylabel(\"Force (N)\")\n",
        "plt.show()"
      ],
      "metadata": {
        "colab": {
          "base_uri": "https://localhost:8080/",
          "height": 301
        },
        "id": "mWPwMDOEqzfv",
        "outputId": "26554f35-4c24-44db-d84e-7aa32b75adb6"
      },
      "execution_count": null,
      "outputs": [
        {
          "output_type": "display_data",
          "data": {
            "text/plain": [
              "<Figure size 432x288 with 1 Axes>"
            ],
            "image/png": "[encoded data removed]"
          },
          "metadata": {
            "needs_background": "light"
          }
        }
      ]
    },
    {
      "cell_type": "markdown",
      "source": [],
      "metadata": {
        "id": "V_bCVgEg8imm"
      }
    },
    {
      "cell_type": "markdown",
      "source": [
        "#   <font color='Red'> **Experiment 3** </font>\n",
        "\n",
        "### <font color='Red'>  Let's now implement the *for-loop over object configurations*, but this time by **varying the Radius** of rotation, keeping the objects mass and velocity fixed. </font>"
      ],
      "metadata": {
        "id": "wYk7vr6uUt4t"
      }
    },
    {
      "cell_type": "code",
      "source": [
        "R_test   = np.arange(1, 2.5, 0.1)\n",
        "f_R_test = np.zeros(len(R_test))"
      ],
      "metadata": {
        "id": "Xe7r9-MLPnxl"
      },
      "execution_count": null,
      "outputs": []
    },
    {
      "cell_type": "markdown",
      "source": [
        "### <font color='Red'> Define the time array, indicating all moments of time considered </font>"
      ],
      "metadata": {
        "id": "UzmiqNTTpLms"
      }
    },
    {
      "cell_type": "code",
      "source": [
        "Δt = 0.01 ### s(detector)\n",
        "t0 = 0 \n",
        "tf = 10*π\n",
        "timeline = np.arange(t0,tf,Δt)"
      ],
      "metadata": {
        "id": "n0tRfvadcYJH"
      },
      "execution_count": null,
      "outputs": []
    },
    {
      "cell_type": "markdown",
      "source": [
        "### <font color='Red'> For-loop over Radii considered </font>"
      ],
      "metadata": {
        "id": "bne4xgM6pXLU"
      }
    },
    {
      "cell_type": "code",
      "source": [
        "mass = 1. ## kg\n",
        "v0   = np.array([0., 1., 0.])\n",
        "for i in range(len(R_test)):\n",
        "\n",
        "    RR = np.array([R_test[i], 0.,0.])\n",
        "    x_t, v_t, f_t = VelocityVerletRot(timeline, x0=RR, v0=v0, mass=mass)\n",
        "\n",
        "    f_R_test[i]   = np.sum( np.linalg.norm(f_t, axis=1) ) / len(f_t)"
      ],
      "metadata": {
        "id": "MZhpx73Acc10"
      },
      "execution_count": null,
      "outputs": []
    },
    {
      "cell_type": "markdown",
      "source": [
        "### <font color='Red'> Plot the Radii vs. Force graph </font>"
      ],
      "metadata": {
        "id": "LOVeZdtNpf9X"
      }
    },
    {
      "cell_type": "code",
      "source": [
        "plt.scatter(R_test, f_R_test)\n",
        "plt.title(\"Uniform Circular Motion\")\n",
        "plt.xlabel(\"Radius (m)\")\n",
        "plt.ylabel(\"Force (N)\")\n",
        "plt.show()"
      ],
      "metadata": {
        "colab": {
          "base_uri": "https://localhost:8080/",
          "height": 295
        },
        "id": "fWOEbONtc6zz",
        "outputId": "e470213a-784a-4e33-bab8-34da64a48476"
      },
      "execution_count": null,
      "outputs": [
        {
          "output_type": "display_data",
          "data": {
            "text/plain": [
              "<Figure size 432x288 with 1 Axes>"
            ],
            "image/png": "[encoded data removed]"
          },
          "metadata": {
            "needs_background": "light"
          }
        }
      ]
    },
    {
      "cell_type": "markdown",
      "source": [],
      "metadata": {
        "id": "-srUTF8hBo6t"
      }
    },
    {
      "cell_type": "markdown",
      "source": [
        "### <font color='Red'> Solve Least-Squares Linear fit to the Data, i.e. obtain a linear form of your data (e.g. f(R) ~ x). Get linear coefficients y = m * x + c, i.e. get m and c (with y = f, and x = 1/R). And print the values of m and c with units. </font>"
      ],
      "metadata": {
        "id": "e9poKN70pnnZ"
      }
    },
    {
      "cell_type": "code",
      "source": [
        "iR   = 1/R_test\n",
        "A    = np.vstack([iR, np.ones(len(iR))]).T\n",
        "m, c = np.linalg.lstsq(A, f_R_test, rcond=None)[0]\n",
        "\n",
        "print(\"slope       =  %4.3f Nm\" % m)\n",
        "print(\"y-intercept = %4.3f N\" % c)"
      ],
      "metadata": {
        "colab": {
          "base_uri": "https://localhost:8080/"
        },
        "id": "GcaLN46xdD39",
        "outputId": "1ab5ea93-40b1-458b-b988-0e59763b8c27"
      },
      "execution_count": null,
      "outputs": [
        {
          "output_type": "stream",
          "name": "stdout",
          "text": [
            "slope       =  1.075 Nm\n",
            "y-intercept = -0.028 N\n"
          ]
        }
      ]
    },
    {
      "cell_type": "markdown",
      "source": [
        "### <font color='Red'> Get the theoretical slope ratio, e.g. m v^2, and print it with units how does it compare with your linear fit? </font>"
      ],
      "metadata": {
        "id": "eOaSFAq-qJfE"
      }
    },
    {
      "cell_type": "code",
      "source": [
        "mtheory = mass * np.dot( v0, v0 )\n",
        "\n",
        "print(\"theory-slope=  %4.3f Nm\" % mtheory)"
      ],
      "metadata": {
        "id": "NX6VQ2Bvef4F",
        "colab": {
          "base_uri": "https://localhost:8080/"
        },
        "outputId": "32913a01-8ff0-4b49-aa49-21df96541a96"
      },
      "execution_count": null,
      "outputs": [
        {
          "output_type": "stream",
          "name": "stdout",
          "text": [
            "theory-slope=  1.000 Nm\n"
          ]
        }
      ]
    },
    {
      "cell_type": "markdown",
      "source": [
        "#   <font color='Red'> **Conclusion** </font>\n",
        "\n",
        "### <font color='Red'> Explain all graphs, and relevant physics invovled in the simulations. Explain the need for a good integration time step $\\Delta$t. </font>"
      ],
      "metadata": {
        "id": "z_yz6tYtUwO_"
      }
    },
    {
      "cell_type": "markdown",
      "source": [
        "Write your Conclusion here"
      ],
      "metadata": {
        "id": "r5QcxHQvfy0Y"
      }
    },
    {
      "cell_type": "markdown",
      "source": [
        "### <font color='Red'> Why is it called Uniform Circular Motion if there is acceleration? </font>"
      ],
      "metadata": {
        "id": "lEY0XdFaBSsQ"
      }
    },
    {
      "cell_type": "markdown",
      "source": [],
      "metadata": {
        "id": "81lGbz7wBS_m"
      }
    },
    {
      "cell_type": "markdown",
      "source": [
        "### <font color='Red'> In Circular Motion, where is the Acceleration and Velocity vector pointing at any given time? </font>"
      ],
      "metadata": {
        "id": "EgYM6D8sBTFs"
      }
    },
    {
      "cell_type": "markdown",
      "source": [],
      "metadata": {
        "id": "fCu_YPfPBTMN"
      }
    }
  ]
}