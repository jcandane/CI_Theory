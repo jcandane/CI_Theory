{
  "nbformat": 4,
  "nbformat_minor": 0,
  "metadata": {
    "colab": {
      "name": "SlaterCondon.ipynb",
      "provenance": [],
      "authorship_tag": "ABX9TyPYSuZ5e6s9bGeNbQFlhp0Y",
      "include_colab_link": true
    },
    "kernelspec": {
      "name": "python3",
      "display_name": "Python 3"
    },
    "language_info": {
      "name": "python"
    }
  },
  "cells": [
    {
      "cell_type": "markdown",
      "metadata": {
        "id": "view-in-github",
        "colab_type": "text"
      },
      "source": [
        "<a href=\"https://colab.research.google.com/github/jcandane/CI_Theory/blob/main/SlaterCondon.ipynb\" target=\"_parent\"><img src=\"https://colab.research.google.com/assets/colab-badge.svg\" alt=\"Open In Colab\"/></a>"
      ]
    },
    {
      "cell_type": "code",
      "execution_count": 1,
      "metadata": {
        "id": "0NzUUNA7x9ZP",
        "colab": {
          "base_uri": "https://localhost:8080/"
        },
        "outputId": "7eb645de-5646-4f26-f763-7f0ea27a1c14"
      },
      "outputs": [
        {
          "output_type": "stream",
          "name": "stdout",
          "text": [
            "fatal: destination path 'CI_Theory' already exists and is not an empty directory.\n"
          ]
        }
      ],
      "source": [
        "import numpy as np\n",
        "\n",
        "!git clone https://github.com/jcandane/CI_Theory\n",
        "\n",
        "from CI_Theory.CI_combos import MR_X"
      ]
    },
    {
      "cell_type": "code",
      "source": [
        "ref4_sp = np.array([[1, 1, 0, 0, 0], [1, 1, 0, 0, 0]], dtype=np.int8)\n",
        "CI, SF = MR_X(ref4_sp, RAS=None, CIm=[1], SFm=None)"
      ],
      "metadata": {
        "id": "Y2lypUW9y2_T"
      },
      "execution_count": 2,
      "outputs": []
    },
    {
      "cell_type": "markdown",
      "source": [
        "# Slater Condon Rules"
      ],
      "metadata": {
        "id": "shph52jdyHX3"
      }
    },
    {
      "cell_type": "code",
      "source": [
        "def givenBgetΛ(B):\n",
        "  \"Given B (entire MO binary occupation) get Λ (i occupied)\"\n",
        "\n",
        "  numA = len( (B[0,0])[ B[0,0] == 1 ] ) ## count num. of A occupied\n",
        "  numB = len( (B[0,1])[ B[0,1] == 1 ] ) ## count num. of B occupied\n",
        "\n",
        "  ΛA = np.zeros((B.shape[0], numA), dtype=np.int8)\n",
        "  ΛB = np.zeros((B.shape[0], numB), dtype=np.int8)\n",
        "  for I in range(len(B)):\n",
        "    ΛA[I] = np.where(B[I,0] == 1)[0]\n",
        "    ΛB[I] = np.where(B[I,1] == 1)[0]\n",
        "\n",
        "  return ΛA, ΛB"
      ],
      "metadata": {
        "id": "upkNQfGMyJOQ"
      },
      "execution_count": 3,
      "outputs": []
    },
    {
      "cell_type": "code",
      "source": [
        "### for proformance reasons, list of determinants should be in np.int8 (1 B, upto 127 dets), np.int16 (2 B, upto 32,767 dets)), np.int32 (4 B, upto 2 billon dets)\n",
        "CI_dt  = np.int32 ### index that labels CI states, i.e. I, J, K in notes\n",
        "\n",
        "def SlaterCondon(Binary):\n",
        "    Binary = Binary.swapaxes(0,1)\n",
        "    N_s    = np.einsum(\"sp -> s\", Binary[0])\n",
        "    Difference     = np.einsum(\"Isp, J -> IJsp\", Binary, np.ones(len(Binary), dtype=np.int8)) - np.einsum(\"Isp, J -> JIsp\", Binary, np.ones(len(Binary), dtype=np.int8))\n",
        "    Sum            = np.einsum(\"Isp, J -> IJsp\", Binary, np.ones(len(Binary), dtype=np.int8)) + np.einsum(\"Isp, J -> JIsp\", Binary, np.ones(len(Binary), dtype=np.int8))\n",
        "    SpinDifference = np.einsum(\"IJsp -> IJs\", np.abs(Difference))//2\n",
        "\n",
        "    ##  indices for 1-difference\n",
        "    I_A, J_A = np.where( np.all(SpinDifference==np.array([1,0], dtype=CI_dt), axis=2) )\n",
        "    I_B, J_B = np.where( np.all(SpinDifference==np.array([0,1], dtype=CI_dt), axis=2) )\n",
        "    I_A = I_A.astype(CI_dt)\n",
        "    J_A = J_A.astype(CI_dt)\n",
        "    I_B = I_B.astype(CI_dt)\n",
        "    J_B = J_B.astype(CI_dt)\n",
        "\n",
        "    A_t  = (np.where( Difference[I_A, J_A, 0] ==  1 )[1]).astype(CI_dt)\n",
        "    A    = (np.where( Difference[I_A, J_A, 0] == -1 )[1]).astype(CI_dt)\n",
        "    B_t  = (np.where( Difference[I_B, J_B, 1] ==  1 )[1]).astype(CI_dt)\n",
        "    B    = (np.where( Difference[I_B, J_B, 1] == -1 )[1]).astype(CI_dt)\n",
        "    CA_i = ((np.where( Sum[I_A, J_A, 0] == 2 )[1]).reshape(len(I_A), N_s[0]-1)).astype(CI_dt)\n",
        "    CB_i = ((np.where( Sum[I_B, J_B, 1] == 2 )[1]).reshape(len(I_B), N_s[1]-1)).astype(CI_dt)\n",
        "\n",
        "    ## indices for 2-differences\n",
        "    I_AA, J_AA = np.where( np.all(SpinDifference==np.array([2,0], dtype=CI_dt), axis=2) )\n",
        "    I_BB, J_BB = np.where( np.all(SpinDifference==np.array([0,2], dtype=CI_dt), axis=2) )\n",
        "    I_AB, J_AB = np.where( np.all(SpinDifference==np.array([1,1], dtype=CI_dt), axis=2) )\n",
        "    I_AA = I_AA.astype(CI_dt)\n",
        "    J_AA = J_AA.astype(CI_dt)\n",
        "    I_BB = I_BB.astype(CI_dt)\n",
        "    J_BB = J_BB.astype(CI_dt)\n",
        "    I_AB = I_AB.astype(CI_dt)\n",
        "    J_AB = J_AB.astype(CI_dt)\n",
        "\n",
        "    AA   = (np.where( Difference[I_AA, J_AA, 0] == -1)[1].reshape(len(I_AA),2).T).astype(CI_dt)\n",
        "    AA_t = (np.where( Difference[I_AA, J_AA, 0] ==  1)[1].reshape(len(I_AA),2).T).astype(CI_dt)\n",
        "    BB   = (np.where( Difference[I_BB, J_BB, 1] == -1)[1].reshape(len(I_BB),2).T).astype(CI_dt)\n",
        "    BB_t = (np.where( Difference[I_BB, J_BB, 1] ==  1)[1].reshape(len(I_BB),2).T).astype(CI_dt)\n",
        "    AB   = np.asarray([ np.where( Difference[I_AB, J_AB, 0] == -1 )[1], np.where( Difference[I_AB, J_AB, 1] == -1 )[1] ], dtype=CI_dt)\n",
        "    AB_t = np.asarray([ np.where( Difference[I_AB, J_AB, 0] ==  1 )[1], np.where( Difference[I_AB, J_AB, 1] ==  1 )[1] ], dtype=CI_dt)\n",
        "\n",
        "    ## get orbital occupations for each up-xor-down\n",
        "    ΛA, ΛB = givenBgetΛ(Binary)\n",
        "\n",
        "    ## get sign\n",
        "    sign  = np.cumsum( Binary, axis=2)\n",
        "    for I in range(len(Binary)):\n",
        "        sign[I, 0, ΛA[I]] = np.arange(0, N_s[0], 1)\n",
        "        sign[I, 1, ΛB[I]] = np.arange(0, N_s[1], 1)\n",
        "\n",
        "    Γ_Isp = ( (-1)**(sign) ).astype(np.int8)\n",
        "\n",
        "    return [I_A, J_A, A, A_t, I_B, J_B, B, B_t, CA_i, CB_i], [I_AA, J_AA, AA, AA_t, I_AB, J_AB, AB, AB_t, I_BB, J_BB, BB, BB_t], Γ_Isp\n",
        "\n",
        "SC1, SC2, sign = SlaterCondon(CI)"
      ],
      "metadata": {
        "id": "JWWgc6B8yLXH"
      },
      "execution_count": 8,
      "outputs": []
    },
    {
      "cell_type": "markdown",
      "source": [
        "## Export to SlaterCondon.py"
      ],
      "metadata": {
        "id": "5bmYlqa0z1Mm"
      }
    },
    {
      "cell_type": "code",
      "source": [
        "!git clone https://github.com/jcandane/pyprototyp\n",
        "from pyprototyp.pyprototyp import pyprototyp\n",
        "\n",
        "pyprototyp(\"SlaterCondon\", packages=[], useful=[\"CI_dt  = np.int32\"], defs=[givenBgetΛ, SlaterCondon], classes=[])"
      ],
      "metadata": {
        "colab": {
          "base_uri": "https://localhost:8080/"
        },
        "id": "WDNrSSCIzW2p",
        "outputId": "1a926b34-580e-4ee9-a4d4-3c27569d2a21"
      },
      "execution_count": 7,
      "outputs": [
        {
          "output_type": "stream",
          "name": "stdout",
          "text": [
            "fatal: destination path 'pyprototyp' already exists and is not an empty directory.\n"
          ]
        }
      ]
    },
    {
      "cell_type": "code",
      "source": [
        ""
      ],
      "metadata": {
        "id": "mZP3emzyzjiT"
      },
      "execution_count": 5,
      "outputs": []
    }
  ]
}