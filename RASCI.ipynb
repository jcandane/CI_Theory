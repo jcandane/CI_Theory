{
  "nbformat": 4,
  "nbformat_minor": 0,
  "metadata": {
    "colab": {
      "name": "RASCI.ipynb",
      "provenance": [],
      "collapsed_sections": [
        "t0_ItCrYr8YO",
        "f08HOIOwsBqV",
        "9lxnOfZ9siom"
      ],
      "authorship_tag": "ABX9TyMhG3UK+vgoqRdKwYnUE79J",
      "include_colab_link": true
    },
    "kernelspec": {
      "name": "python3",
      "display_name": "Python 3"
    },
    "language_info": {
      "name": "python"
    }
  },
  "cells": [
    {
      "cell_type": "markdown",
      "metadata": {
        "id": "view-in-github",
        "colab_type": "text"
      },
      "source": [
        "<a href=\"https://colab.research.google.com/github/jcandane/CI_Theory/blob/main/RASCI.ipynb\" target=\"_parent\"><img src=\"https://colab.research.google.com/assets/colab-badge.svg\" alt=\"Open In Colab\"/></a>"
      ]
    },
    {
      "cell_type": "markdown",
      "source": [
        "## import packages"
      ],
      "metadata": {
        "id": "okatzS6tr0zY"
      }
    },
    {
      "cell_type": "code",
      "execution_count": null,
      "metadata": {
        "id": "ZFJg4EEbrv-S"
      },
      "outputs": [],
      "source": [
        "import numpy as np\n",
        "from itertools import combinations, permutations\n",
        "\n",
        "π = np.pi\n",
        "α = 0.007297352\n",
        "c = 1.0/α\n",
        "np.set_printoptions(precision=4, linewidth=200, threshold=2000, suppress=True)\n",
        "\n",
        "### for proformance reasons, list of determinants should be in np.int8 (1 B, upto 127 dets), np.int16 (2 B, upto 32,767 dets)), np.int32 (4 B, upto 2 billon dets)\n",
        "CI_dt  = np.int16 ### index that labels CI states, i.e. I, J, K in notes"
      ]
    },
    {
      "cell_type": "markdown",
      "source": [
        "### sample references"
      ],
      "metadata": {
        "id": "DfpTHwYAsPGf"
      }
    },
    {
      "cell_type": "code",
      "source": [
        "ref1_sp = np.array([[1, 1, 1, 1, 1, 0, 0], [1, 1, 1, 1, 0, 0, 0]], dtype=np.int8)\n",
        "ref2_sp = np.array([[0, 1, 0, 1, 1, 0, 0], [0, 1, 1, 0, 0, 1, 0]], dtype=np.int8)\n",
        "ref3_sp = np.array([[1, 1, 1, 0, 1, 0, 0, 1, 0], [0, 1, 1, 1, 1, 1, 0, 0, 0]], dtype=np.int8)\n",
        "ref4_sp = np.array([[1, 1, 0, 0, 0], [1, 1, 0, 0, 0]], dtype=np.int8)\n",
        "ref5_sp = np.array([[[1, 1, 1, 1, 1, 0, 0], [1, 1, 1, 1, 0, 0, 0]], [[1, 1, 0, 1, 1, 0, 1], [0, 1, 1, 1, 0, 1, 0]]], dtype=np.int8)\n",
        "ref6_sp = np.array([[[1, 1, 0, 0, 0], [1, 1, 0, 0, 0]], [[1, 0, 0, 1, 0], [1, 1, 0, 0, 0]], [[1, 1, 0, 0, 0], [1, 0, 0, 0, 1]]], dtype=np.int8)"
      ],
      "metadata": {
        "id": "L7wSINOdsQ3s"
      },
      "execution_count": null,
      "outputs": []
    },
    {
      "cell_type": "markdown",
      "source": [
        "## General Defintions"
      ],
      "metadata": {
        "id": "4NKtnJuBr32t"
      }
    },
    {
      "cell_type": "code",
      "source": [
        "def Ext(A, N, numtype=np.int8):\n",
        "    if A.ndim == 1:\n",
        "        return np.einsum(\"I, j -> Ij\", A, np.ones( N, dtype=numtype))\n",
        "    if A.ndim == 2:\n",
        "        return np.einsum(\"uI, j -> uIj\", A, np.ones( N, dtype=numtype))\n",
        "\n",
        "def ΛMOgetB(Λ, N_mo):\n",
        "  \"Given Λ (i occupied orbitals for each determinant) get B (binary rep.)\"\n",
        "\n",
        "  Binary  = np.zeros((Λ.shape[0], N_mo), dtype=np.int8)\n",
        "  for I in range(len(Binary)):\n",
        "      Binary[I, Λ[I,:]] = 1\n",
        "\n",
        "  return Binary\n",
        "\n",
        "def SpinOuterProduct(A, B, stack=False):\n",
        "  ΛA = np.einsum(\"Ii, J -> IJi\", A, np.ones(B.shape[0], dtype=np.int8)).reshape( (A.shape[0]*B.shape[0], A.shape[1]) )\n",
        "  ΛB = np.einsum(\"Ii, J -> JIi\", B, np.ones(A.shape[0], dtype=np.int8)).reshape( (A.shape[0]*B.shape[0], B.shape[1]) )\n",
        "  \n",
        "  if stack:\n",
        "    return np.array([ΛA,ΛB])\n",
        "  else:\n",
        "    return ΛA, ΛB\n",
        "\n",
        "def combine_arrays(Λ_sample, V_sample):\n",
        "\n",
        "    if V_sample.size == 0:\n",
        "        return Λ_sample\n",
        "\n",
        "    else:\n",
        "        l = V_sample.shape[1] + Λ_sample.shape[1] # length of new array\n",
        "        m = V_sample.shape[1] # level of excitation\n",
        "        a_new = np.empty((V_sample.shape[0] * Λ_sample.shape[0], V_sample.shape[1] + Λ_sample.shape[1] ), dtype=np.int8)\n",
        "        a_new[:,:l - m ] = np.repeat(Λ_sample, len(V_sample), axis=0)\n",
        "        a_new[:, l - m:] = np.repeat(V_sample, len(Λ_sample), axis=1).reshape((len(Λ_sample)*len(V_sample), V_sample.shape[1]), order=\"F\")\n",
        "\n",
        "        return np.sort(a_new, axis=1)\n",
        "\n",
        "def CIunique(dets):\n",
        "    BB = np.unique( ( dets.swapaxes(0,1)).reshape(dets.shape[1], dets.shape[0]*dets.shape[2], order=\"C\") , axis=0)\n",
        "    return BB.reshape(BB.shape[0], 2, BB.shape[1]//2, order=\"C\").swapaxes(0,1)\n",
        "\n",
        "def TEST_electronnumber(AA): ## with B_sIp\n",
        "    arr = np.einsum(\"sIp -> I\", AA)\n",
        "    if np.all(arr == arr[0]):\n",
        "        return True\n",
        "    else:\n",
        "        return arr\n",
        "\n",
        "def TEST_unquineness(AA): ## with B_sIp\n",
        "    return AA.shape[1] == len( np.unique( (AA.swapaxes(0,1)).reshape((AA.shape[1], 2*AA.shape[2])) ,axis=1 ) )"
      ],
      "metadata": {
        "id": "87Ctt2smr4Zu"
      },
      "execution_count": null,
      "outputs": []
    },
    {
      "cell_type": "markdown",
      "source": [
        "## MO Excitation"
      ],
      "metadata": {
        "id": "t0_ItCrYr8YO"
      }
    },
    {
      "cell_type": "code",
      "source": [
        "def MO_X(MO_p, m, SF=False):\n",
        "    \"\"\" \n",
        "    m-level CI excitations on an MO \n",
        "    m=0 should return the reference\n",
        "    \"\"\"\n",
        "\n",
        "    occ = np.asarray([ np.where(MO_p == 1)[0] ]) ## occupied space\n",
        "    vac = np.asarray([ np.where(MO_p == 0)[0] ]) ## vacant   space\n",
        "\n",
        "    if SF: ### do SF-calculation\n",
        "        if m < 0 and abs(m) <= len(occ[0]): ## if m is negative, then we do all combinations deleting occupied orbital(s) \n",
        "            Occ_choices = np.asarray( list(combinations(  occ[0], len(occ[0]) + m ) ) , dtype=np.int8)\n",
        "            return ΛMOgetB(Occ_choices, len(MO_p))\n",
        "        if m == 0: ## if m = 0 , return reference\n",
        "            return np.asarray([MO_p])\n",
        "        if m > 0 and m <= len(vac[0]): ## if m is positive, we will do all combinations by adding occupied orbital(s) \n",
        "            Vac_choices = np.asarray( list(combinations(  vac[0], m ) ) , dtype=np.int8)\n",
        "            return ΛMOgetB(combine_arrays(occ, Vac_choices), len(MO_p))\n",
        "        else:\n",
        "            return None\n",
        "\n",
        "    else: ### MO-conserved-calculation\n",
        "        ## excitation order must be less than avaiable orbitals\n",
        "        if m <= len(occ[0]) and m <= len(vac[0]): \n",
        "            Occ_choices = np.asarray( list(combinations(  occ[0], len(occ[0]) - m ) ) , dtype=np.int8)\n",
        "            Vac_choices = np.asarray( list(combinations(  vac[0], m ) ) , dtype=np.int8)\n",
        "            return ΛMOgetB(combine_arrays(Occ_choices, Vac_choices), len(MO_p))\n",
        "        else:\n",
        "            return None\n",
        "\n",
        "reff = np.array([1, 1, 1, 0, 1, 0, 0, 1, 0, 0]) ## ref3_sp[0] #\n",
        "print(reff)\n",
        "MOexcite = MO_X(reff, 0, SF=True)\n",
        "\n",
        "### Test 1\n",
        "print( np.all(np.einsum(\"Ip -> I\", MOexcite) == np.sum(reff)) ) ## 5 electrons\n",
        "\n",
        "### Test 2\n",
        "print( MOexcite.shape[0] == (np.unique( MOexcite, axis=1)).shape[0] )\n",
        "\n",
        "\n",
        "print( MO_X(reff, -6, SF=True) )"
      ],
      "metadata": {
        "colab": {
          "base_uri": "https://localhost:8080/"
        },
        "id": "cPROHoAjr8eN",
        "outputId": "e35bbd4a-eaa8-443c-df15-7d375733b7d0"
      },
      "execution_count": null,
      "outputs": [
        {
          "output_type": "stream",
          "name": "stdout",
          "text": [
            "[1 1 1 0 1 0 0 1 0 0]\n",
            "True\n",
            "True\n",
            "None\n"
          ]
        }
      ]
    },
    {
      "cell_type": "markdown",
      "source": [
        "## SO Excitation"
      ],
      "metadata": {
        "id": "f08HOIOwsBqV"
      }
    },
    {
      "cell_type": "code",
      "source": [
        "def SO_X(ref_SO, m, SF=False):\n",
        "\n",
        "    if SF:\n",
        "        C = None\n",
        "        D = None\n",
        "        ## +3 & -3\n",
        "        A = MO_X(ref_SO[0],  m, SF=True)\n",
        "        B = MO_X(ref_SO[1], -m, SF=True)\n",
        "        if A is not None and B is not None:\n",
        "            C = SpinOuterProduct(A, B, stack=True)\n",
        "        \n",
        "        ## -3 & +3\n",
        "        A = MO_X(ref_SO[0], -m, SF=True)\n",
        "        B = MO_X(ref_SO[1],  m, SF=True)\n",
        "        if A is not None and B is not None:\n",
        "            D = SpinOuterProduct(A, B, stack=True)\n",
        "        \n",
        "        if C is not None and D is not None:\n",
        "            return np.append(D, C, axis=1)\n",
        "        if C is not None:\n",
        "            return C\n",
        "        if D is not None:\n",
        "            return D\n",
        "        else:\n",
        "            return None\n",
        "\n",
        "    else:\n",
        "        D     = None\n",
        "        first = True\n",
        "        for j in range(m+1):\n",
        "            A = MO_X(ref_SO[0],   j)\n",
        "            B = MO_X(ref_SO[1], m-j)\n",
        "            if A is not None and B is not None:\n",
        "                C = SpinOuterProduct(A, B, stack=True)\n",
        "                if first:\n",
        "                    D = C\n",
        "                    first = False\n",
        "                else:\n",
        "                    D = np.append(D, C, axis=1)\n",
        "            else:\n",
        "                continue\n",
        "        return D\n",
        "\n",
        "SO_X(ref4_sp, 2, SF=False)"
      ],
      "metadata": {
        "colab": {
          "base_uri": "https://localhost:8080/"
        },
        "id": "HlqHzt4vsB5P",
        "outputId": "9655420f-2e9b-4df0-ee3d-387db15a390c"
      },
      "execution_count": null,
      "outputs": [
        {
          "output_type": "execute_result",
          "data": {
            "text/plain": [
              "array([[[1, 1, 0, 0, 0],\n",
              "        [1, 1, 0, 0, 0],\n",
              "        [1, 1, 0, 0, 0],\n",
              "        [1, 0, 1, 0, 0],\n",
              "        [1, 0, 1, 0, 0],\n",
              "        [1, 0, 1, 0, 0],\n",
              "        [1, 0, 1, 0, 0],\n",
              "        [1, 0, 1, 0, 0],\n",
              "        [1, 0, 1, 0, 0],\n",
              "        [1, 0, 0, 1, 0],\n",
              "        [1, 0, 0, 1, 0],\n",
              "        [1, 0, 0, 1, 0],\n",
              "        [1, 0, 0, 1, 0],\n",
              "        [1, 0, 0, 1, 0],\n",
              "        [1, 0, 0, 1, 0],\n",
              "        [1, 0, 0, 0, 1],\n",
              "        [1, 0, 0, 0, 1],\n",
              "        [1, 0, 0, 0, 1],\n",
              "        [1, 0, 0, 0, 1],\n",
              "        [1, 0, 0, 0, 1],\n",
              "        [1, 0, 0, 0, 1],\n",
              "        [0, 1, 1, 0, 0],\n",
              "        [0, 1, 1, 0, 0],\n",
              "        [0, 1, 1, 0, 0],\n",
              "        [0, 1, 1, 0, 0],\n",
              "        [0, 1, 1, 0, 0],\n",
              "        [0, 1, 1, 0, 0],\n",
              "        [0, 1, 0, 1, 0],\n",
              "        [0, 1, 0, 1, 0],\n",
              "        [0, 1, 0, 1, 0],\n",
              "        [0, 1, 0, 1, 0],\n",
              "        [0, 1, 0, 1, 0],\n",
              "        [0, 1, 0, 1, 0],\n",
              "        [0, 1, 0, 0, 1],\n",
              "        [0, 1, 0, 0, 1],\n",
              "        [0, 1, 0, 0, 1],\n",
              "        [0, 1, 0, 0, 1],\n",
              "        [0, 1, 0, 0, 1],\n",
              "        [0, 1, 0, 0, 1],\n",
              "        [0, 0, 1, 1, 0],\n",
              "        [0, 0, 1, 0, 1],\n",
              "        [0, 0, 0, 1, 1]],\n",
              "\n",
              "       [[0, 0, 1, 1, 0],\n",
              "        [0, 0, 1, 0, 1],\n",
              "        [0, 0, 0, 1, 1],\n",
              "        [1, 0, 1, 0, 0],\n",
              "        [1, 0, 0, 1, 0],\n",
              "        [1, 0, 0, 0, 1],\n",
              "        [0, 1, 1, 0, 0],\n",
              "        [0, 1, 0, 1, 0],\n",
              "        [0, 1, 0, 0, 1],\n",
              "        [1, 0, 1, 0, 0],\n",
              "        [1, 0, 0, 1, 0],\n",
              "        [1, 0, 0, 0, 1],\n",
              "        [0, 1, 1, 0, 0],\n",
              "        [0, 1, 0, 1, 0],\n",
              "        [0, 1, 0, 0, 1],\n",
              "        [1, 0, 1, 0, 0],\n",
              "        [1, 0, 0, 1, 0],\n",
              "        [1, 0, 0, 0, 1],\n",
              "        [0, 1, 1, 0, 0],\n",
              "        [0, 1, 0, 1, 0],\n",
              "        [0, 1, 0, 0, 1],\n",
              "        [1, 0, 1, 0, 0],\n",
              "        [1, 0, 0, 1, 0],\n",
              "        [1, 0, 0, 0, 1],\n",
              "        [0, 1, 1, 0, 0],\n",
              "        [0, 1, 0, 1, 0],\n",
              "        [0, 1, 0, 0, 1],\n",
              "        [1, 0, 1, 0, 0],\n",
              "        [1, 0, 0, 1, 0],\n",
              "        [1, 0, 0, 0, 1],\n",
              "        [0, 1, 1, 0, 0],\n",
              "        [0, 1, 0, 1, 0],\n",
              "        [0, 1, 0, 0, 1],\n",
              "        [1, 0, 1, 0, 0],\n",
              "        [1, 0, 0, 1, 0],\n",
              "        [1, 0, 0, 0, 1],\n",
              "        [0, 1, 1, 0, 0],\n",
              "        [0, 1, 0, 1, 0],\n",
              "        [0, 1, 0, 0, 1],\n",
              "        [1, 1, 0, 0, 0],\n",
              "        [1, 1, 0, 0, 0],\n",
              "        [1, 1, 0, 0, 0]]], dtype=int8)"
            ]
          },
          "metadata": {},
          "execution_count": 5
        }
      ]
    },
    {
      "cell_type": "markdown",
      "source": [
        "## Reference Excitation"
      ],
      "metadata": {
        "id": "9lxnOfZ9siom"
      }
    },
    {
      "cell_type": "code",
      "source": [
        "CIm = [0,1,2]\n",
        "SFm = [1,3]\n",
        "\n",
        "def Ref_X(ref_SO, RAS=None, CIm=None, SFm=None):\n",
        "\n",
        "    if RAS is None:\n",
        "        RAS = np.arange(0, ref_SO.shape[1], 1, dtype=int)\n",
        "\n",
        "    RASref = ref_SO[:, RAS]\n",
        "    #loop   = Ext(reference, RASCI.shape[1]).swapaxes(1,2)\n",
        "    \n",
        "\n",
        "    ### CIm Loop\n",
        "    outCII = None\n",
        "    if CIm is not None:\n",
        "        first = True\n",
        "        for i in range(len(CIm)):\n",
        "            CIm_sIp = SO_X(RASref, CIm[i], SF=False)\n",
        "            if first and CIm_sIp is not None:\n",
        "                outCI = CIm_sIp\n",
        "                first = False\n",
        "                continue\n",
        "            if CIm_sIp is not None:\n",
        "                outCI = np.append(outCI, CIm_sIp, axis=1)\n",
        "            else:\n",
        "                continue\n",
        "        ## refit with RAS \n",
        "        outCII = Ext(ref_SO, outCI.shape[1]).swapaxes(1,2)\n",
        "        outCII[:,:,RAS] = outCI\n",
        "\n",
        "    ### SFm Loop\n",
        "    outSFF = None\n",
        "    if SFm is not None:\n",
        "        first = True\n",
        "        for i in range(len(SFm)):\n",
        "            SFm_sIp = SO_X(RASref, SFm[i], SF=True)\n",
        "            if first and SFm_sIp is not None:\n",
        "                outSF = SFm_sIp\n",
        "                first = False\n",
        "                continue\n",
        "            if SFm_sIp is not None:\n",
        "                outSF = np.append(outSF, SFm_sIp, axis=1)\n",
        "            else:\n",
        "                continue\n",
        "        ## refit with RAS \n",
        "        outSFF = Ext(ref_SO, outSF.shape[1]).swapaxes(1,2)\n",
        "        outSFF[:,:,RAS] = outSF\n",
        "\n",
        "    return outCII, outSFF\n",
        "\n",
        "outCI, outSF = Ref_X(ref4_sp, CIm=CIm, SFm=SFm)\n",
        "\n",
        "print( TEST_electronnumber(outCI) )\n",
        "print( outCI.shape[1] == CIunique(outCI).shape[1] )"
      ],
      "metadata": {
        "colab": {
          "base_uri": "https://localhost:8080/"
        },
        "id": "EVjltQqqsiwU",
        "outputId": "e283af19-9d89-4fd5-d99d-2ccecf0a9cee"
      },
      "execution_count": null,
      "outputs": [
        {
          "output_type": "stream",
          "name": "stdout",
          "text": [
            "True\n",
            "True\n"
          ]
        }
      ]
    },
    {
      "cell_type": "markdown",
      "source": [
        "## Multireference Excitation"
      ],
      "metadata": {
        "id": "aBR3lG7munJa"
      }
    },
    {
      "cell_type": "code",
      "source": [
        "print( ref4_sp.shape ) ## Single Refernce\n",
        "print( ref6_sp[0].shape ) ## Multireference\n",
        "\n",
        "outCI, outSF = Ref_X(ref6_sp[0], RAS=None, CIm=[1], SFm=None)"
      ],
      "metadata": {
        "colab": {
          "base_uri": "https://localhost:8080/"
        },
        "id": "xDMrXnN0s7WK",
        "outputId": "69e5cefa-6550-4f58-c573-f7d64bc425a0"
      },
      "execution_count": null,
      "outputs": [
        {
          "output_type": "stream",
          "name": "stdout",
          "text": [
            "(2, 5)\n",
            "(2, 5)\n"
          ]
        }
      ]
    },
    {
      "cell_type": "code",
      "source": [
        "def MR_X(MR_SO, RAS=None, CIm=None, SFm=None):\n",
        "\n",
        "    firstCI = True\n",
        "    firstSF = True\n",
        "    outputCI = None\n",
        "    outputSF = None\n",
        "\n",
        "    if RAS is not None: ## checking RAS\n",
        "        if np.max(RAS) > MR_SO.shape[-1]:\n",
        "            RAS = None\n",
        "\n",
        "    if MR_SO.ndim == 2:\n",
        "        outCI, outSF = Ref_X(MR_SO, RAS=RAS, CIm=CIm, SFm=SFm)\n",
        "\n",
        "        if outCI is not None and firstCI:\n",
        "            outputCI = outCI\n",
        "            firstCI  = False\n",
        "        if outCI is not None:\n",
        "            outputCI = np.append(outputCI, outCI, axis=1)\n",
        "            outputCI = CIunique(outputCI)\n",
        "        if outSF is not None and firstSF:\n",
        "            outputSF = outSF\n",
        "            firstSF  = False\n",
        "        if outSF is not None:\n",
        "            outputSF = np.append(outputSF, outSF, axis=1)\n",
        "            outputSF = CIunique(outputSF)\n",
        "\n",
        "    if MR_SO.ndim == 3:\n",
        "\n",
        "        for i in range(len(MR_SO)):\n",
        "            outCI, outSF = Ref_X(MR_SO[i], RAS=RAS, CIm=CIm, SFm=SFm)\n",
        "\n",
        "            if outCI is not None and firstCI:\n",
        "                outputCI = outCI\n",
        "                firstCI  = False\n",
        "            if outCI is not None:\n",
        "                outputCI = np.append(outputCI, outCI, axis=1)\n",
        "                outputCI = CIunique(outputCI)\n",
        "            if outSF is not None and firstSF:\n",
        "                outputSF = outSF\n",
        "                firstSF  = False\n",
        "            if outSF is not None:\n",
        "                outputSF = np.append(outputSF, outSF, axis=1)\n",
        "                outputSF = CIunique(outputSF)\n",
        "\n",
        "    return outputCI, outputSF\n",
        "\n",
        "CI, SF = MR_X(ref4_sp, RAS=[2,3,4], CIm=[0,1], SFm=None)\n",
        "CI, SF = MR_X(ref6_sp, RAS=[2,3,4,5,6], CIm=[0,1], SFm=[0,1,2,20]) ## ref3_sp ref6_sp\n",
        "CI.shape"
      ],
      "metadata": {
        "colab": {
          "base_uri": "https://localhost:8080/"
        },
        "id": "K3gO6Wobu_DV",
        "outputId": "59e17bb2-b0f7-43d6-a6cd-243c3a3470c5"
      },
      "execution_count": null,
      "outputs": [
        {
          "output_type": "execute_result",
          "data": {
            "text/plain": [
              "(2, 28, 5)"
            ]
          },
          "metadata": {},
          "execution_count": 8
        }
      ]
    },
    {
      "cell_type": "markdown",
      "source": [
        "## Tests"
      ],
      "metadata": {
        "id": "H788yAl45aS0"
      }
    },
    {
      "cell_type": "markdown",
      "source": [
        "### Test the Electron Number (electron number should be conserved)"
      ],
      "metadata": {
        "id": "Hy7IQdki5zZi"
      }
    },
    {
      "cell_type": "code",
      "source": [
        "print( (np.diff( np.einsum(\"sIp -> I\", CI) ) == 0).all() )\n",
        "print( (np.diff( np.einsum(\"sIp -> I\", SF) ) == 0).all() )"
      ],
      "metadata": {
        "colab": {
          "base_uri": "https://localhost:8080/"
        },
        "id": "JiUl2AmB5Mw7",
        "outputId": "d7c02fb2-2ef2-433b-c112-f3e26cb8e8b2"
      },
      "execution_count": null,
      "outputs": [
        {
          "output_type": "stream",
          "name": "stdout",
          "text": [
            "True\n",
            "True\n"
          ]
        }
      ]
    },
    {
      "cell_type": "markdown",
      "source": [
        "### Uniqueness (Check that all determinants are different)"
      ],
      "metadata": {
        "id": "S0jcs5jK51JB"
      }
    },
    {
      "cell_type": "code",
      "source": [
        "def CIuniqueX(dets):\n",
        "    out = np.unique( ( dets ).reshape(dets.shape[0], dets.shape[1]*dets.shape[2], order=\"C\") , axis=0)\n",
        "    return out.reshape(out.shape[0], 2, out.shape[1]//2, order=\"C\")\n",
        "\n",
        "dets = CI.swapaxes(0,1)\n",
        "print( (dets).shape[0] == (CIuniqueX(dets)).shape[0] )"
      ],
      "metadata": {
        "colab": {
          "base_uri": "https://localhost:8080/"
        },
        "id": "ArKTD_aw5285",
        "outputId": "320d03f0-6c3c-4cc0-a06e-950961b9b703"
      },
      "execution_count": null,
      "outputs": [
        {
          "output_type": "stream",
          "name": "stdout",
          "text": [
            "True\n"
          ]
        }
      ]
    },
    {
      "cell_type": "markdown",
      "source": [
        "# Slater Condon Rules"
      ],
      "metadata": {
        "id": "QcewymS2_5wI"
      }
    },
    {
      "cell_type": "code",
      "source": [
        "def givenBgetΛ(B):\n",
        "  \"Given B (entire MO binary occupation) get Λ (i occupied)\"\n",
        "\n",
        "  numA = len( (B[0,0])[ B[0,0] == 1 ] ) ## count num. of A occupied\n",
        "  numB = len( (B[0,1])[ B[0,1] == 1 ] ) ## count num. of B occupied\n",
        "\n",
        "  ΛA = np.zeros((B.shape[0], numA), dtype=np.int8)\n",
        "  ΛB = np.zeros((B.shape[0], numB), dtype=np.int8)\n",
        "  for I in range(len(B)):\n",
        "    ΛA[I] = np.where(B[I,0] == 1)[0]\n",
        "    ΛB[I] = np.where(B[I,1] == 1)[0]\n",
        "\n",
        "  return ΛA, ΛB"
      ],
      "metadata": {
        "id": "orY2jhfADkWk"
      },
      "execution_count": null,
      "outputs": []
    },
    {
      "cell_type": "code",
      "source": [
        "def SlaterCondon(Binary):\n",
        "    N_s    = np.einsum(\"sp -> s\", Binary[0])\n",
        "    Difference     = np.einsum(\"Isp, J -> IJsp\", Binary, np.ones(len(Binary), dtype=np.int8)) - np.einsum(\"Isp, J -> JIsp\", Binary, np.ones(len(Binary), dtype=np.int8))\n",
        "    Sum            = np.einsum(\"Isp, J -> IJsp\", Binary, np.ones(len(Binary), dtype=np.int8)) + np.einsum(\"Isp, J -> JIsp\", Binary, np.ones(len(Binary), dtype=np.int8))\n",
        "    SpinDifference = np.einsum(\"IJsp -> IJs\", np.abs(Difference))//2\n",
        "\n",
        "    ##  indices for 1-difference\n",
        "    I_A, J_A = np.where( np.all(SpinDifference==np.array([1,0], dtype=CI_dt), axis=2) )\n",
        "    I_B, J_B = np.where( np.all(SpinDifference==np.array([0,1], dtype=CI_dt), axis=2) )\n",
        "    I_A = I_A.astype(CI_dt)\n",
        "    J_A = J_A.astype(CI_dt)\n",
        "    I_B = I_B.astype(CI_dt)\n",
        "    J_B = J_B.astype(CI_dt)\n",
        "\n",
        "    A_t  = (np.where( Difference[I_A, J_A, 0] ==  1 )[1]).astype(CI_dt)\n",
        "    A    = (np.where( Difference[I_A, J_A, 0] == -1 )[1]).astype(CI_dt)\n",
        "    B_t  = (np.where( Difference[I_B, J_B, 1] ==  1 )[1]).astype(CI_dt)\n",
        "    B    = (np.where( Difference[I_B, J_B, 1] == -1 )[1]).astype(CI_dt)\n",
        "    CA_i = ((np.where( Sum[I_A, J_A, 0] == 2 )[1]).reshape(len(I_A), N_s[0]-1)).astype(CI_dt)\n",
        "    CB_i = ((np.where( Sum[I_B, J_B, 1] == 2 )[1]).reshape(len(I_B), N_s[1]-1)).astype(CI_dt)\n",
        "\n",
        "    ## indices for 2-differences\n",
        "    I_AA, J_AA = np.where( np.all(SpinDifference==np.array([2,0], dtype=CI_dt), axis=2) )\n",
        "    I_BB, J_BB = np.where( np.all(SpinDifference==np.array([0,2], dtype=CI_dt), axis=2) )\n",
        "    I_AB, J_AB = np.where( np.all(SpinDifference==np.array([1,1], dtype=CI_dt), axis=2) )\n",
        "    I_AA = I_AA.astype(CI_dt)\n",
        "    J_AA = J_AA.astype(CI_dt)\n",
        "    I_BB = I_BB.astype(CI_dt)\n",
        "    J_BB = J_BB.astype(CI_dt)\n",
        "    I_AB = I_AB.astype(CI_dt)\n",
        "    J_AB = J_AB.astype(CI_dt)\n",
        "\n",
        "    AA   = (np.where( Difference[I_AA, J_AA, 0] == -1)[1].reshape(len(I_AA),2).T).astype(CI_dt)\n",
        "    AA_t = (np.where( Difference[I_AA, J_AA, 0] ==  1)[1].reshape(len(I_AA),2).T).astype(CI_dt)\n",
        "    BB   = (np.where( Difference[I_BB, J_BB, 1] == -1)[1].reshape(len(I_BB),2).T).astype(CI_dt)\n",
        "    BB_t = (np.where( Difference[I_BB, J_BB, 1] ==  1)[1].reshape(len(I_BB),2).T).astype(CI_dt)\n",
        "    AB   = np.asarray([ np.where( Difference[I_AB, J_AB, 0] == -1 )[1], np.where( Difference[I_AB, J_AB, 1] == -1 )[1] ], dtype=CI_dt)\n",
        "    AB_t = np.asarray([ np.where( Difference[I_AB, J_AB, 0] ==  1 )[1], np.where( Difference[I_AB, J_AB, 1] ==  1 )[1] ], dtype=CI_dt)\n",
        "\n",
        "    ## get orbital occupations for each up-xor-down\n",
        "    ΛA, ΛB = givenBgetΛ(Binary)\n",
        "\n",
        "    ## get sign\n",
        "    sign  = np.cumsum( Binary, axis=2)\n",
        "    for I in range(len(Binary)):\n",
        "        sign[I, 0, ΛA[I]] = np.arange(0, N_s[0], 1)\n",
        "        sign[I, 1, ΛB[I]] = np.arange(0, N_s[1], 1)\n",
        "\n",
        "    Γ_Isp = ( (-1)**(sign) ).astype(np.int8)\n",
        "\n",
        "    return [I_A, J_A, A, A_t, I_B, J_B, B, B_t, CA_i, CB_i], [I_AA, J_AA, AA, AA_t, I_AB, J_AB, AB, AB_t, I_BB, J_BB, BB, BB_t], Γ_Isp\n",
        "\n",
        "SC1, SC2, sign = SlaterCondon(dets)"
      ],
      "metadata": {
        "id": "Uz-Qh4MH8JaE"
      },
      "execution_count": null,
      "outputs": []
    },
    {
      "cell_type": "markdown",
      "source": [
        "## Now Lets get the RASCI Hamiltonian"
      ],
      "metadata": {
        "id": "3vvhHGXV75Fm"
      }
    },
    {
      "cell_type": "code",
      "source": [
        ""
      ],
      "metadata": {
        "id": "lgXoLVcW9vS_"
      },
      "execution_count": null,
      "outputs": []
    },
    {
      "cell_type": "code",
      "source": [
        "Γ_Isp = sign\n",
        "I_A, J_A, A, A_t, I_B, J_B, B, B_t, CA_i, CB_i = SC1\n",
        "I_AA, J_AA, AA, AA_t, I_AB, J_AB, AB, AB_t, I_BB, J_BB, BB, BB_t = SC2\n",
        "\n",
        "## SC0 & SC3\n",
        "AB = Ext(ΛA, N_s[1])\n",
        "BA = Ext(ΛB, N_s[0])\n",
        "AA = Ext(ΛA, N_s[0])\n",
        "BB = Ext(ΛB, N_s[1])\n",
        "\n",
        "Rule0  = np.einsum(\"Ii  -> I\", H1[0, ΛA, ΛA]) \n",
        "Rule0 += np.einsum(\"Ii  -> I\", H1[1, ΛB, ΛB])\n",
        "Rule0 += np.einsum(\"Iij -> I\", H2[0, 0, AA, AA, AA.swapaxes(1,2), AA.swapaxes(1,2)])/2\n",
        "Rule0 += np.einsum(\"Iij -> I\", H2[1, 0, BA, BA, AB.swapaxes(1,2), AB.swapaxes(1,2)])/2\n",
        "Rule0 += np.einsum(\"Iij -> I\", H2[0, 1, AB, AB, BA.swapaxes(1,2), BA.swapaxes(1,2)])/2\n",
        "Rule0 += np.einsum(\"Iij -> I\", H2[1, 1, BB, BB, BB.swapaxes(1,2), BB.swapaxes(1,2)])/2\n",
        "\n",
        "H_CI = np.diag(Rule0)\n",
        "\n",
        "## SC1\n",
        "if I_A.size > 0:\n",
        "  H_CI[I_A, J_A]  = H1[0, A, A_t]\n",
        "  H_CI[I_A, J_A] += np.einsum(\"In -> I\", H2[0, 0, Ext(A, N_s[0]-1), Ext(A_t, N_s[0]-1), CA_i, CA_i])\n",
        "  H_CI[I_A, J_A] += np.einsum(\"Ii -> I\", H2[0, 1, Ext(A, N_s[1]  ), Ext(A_t, N_s[1]  ), ΛB[I_A], ΛB[J_A]])\n",
        "  H_CI[I_A, J_A] *= Γ_Isp[I_A, 0, A_t] * Γ_Isp[J_A, 0, A]\n",
        "\n",
        "if I_B.size > 0:\n",
        "  H_CI[I_B, J_B]  = H1[1, B, B_t]\n",
        "  H_CI[I_B, J_B] += np.einsum(\"In -> I\", H2[1, 1, Ext(B, N_s[1]-1), Ext(B_t, N_s[1]-1), CB_i, CB_i])\n",
        "  H_CI[I_B, J_B] += np.einsum(\"Ii -> I\", H2[1, 0, Ext(B, N_s[0]  ), Ext(B_t, N_s[0]  ), ΛA[I_B], ΛA[J_B]])\n",
        "  H_CI[I_B, J_B] *= Γ_Isp[I_B, 1, B_t] * Γ_Isp[J_B, 1, B]\n",
        "\n",
        "## SC2\n",
        "if I_AA.size > 0: \n",
        "    H_CI[I_AA, J_AA]  = H2[0, 0, AA[0], AA_t[0], AA[1], AA_t[1]]\n",
        "    H_CI[I_AA, J_AA] *= Γ_Isp[I_AA, 0, AA[0]] * Γ_Isp[J_AA, 0, AA_t[0]] * Γ_Isp[I_AA, 0, AA[1]] * Γ_Isp[J_AA, 0, AA_t[1]]\n",
        "if I_BB.size > 0: \n",
        "    H_CI[I_BB, J_BB]  = H2[1, 1, BB[0], BB_t[0], BB[1], BB_t[1]]\n",
        "    H_CI[I_BB, J_BB] *= Γ_Isp[I_BB, 1, BB[0]] * Γ_Isp[J_BB, 1, BB_t[0]] * Γ_Isp[I_BB, 1, BB[1]] * Γ_Isp[J_BB, 1, BB_t[1]]\n",
        "if I_AB.size > 0:\n",
        "    H_CI[I_AB, J_AB]  = H2[0, 1, AB[0], AB_t[0], AB[1], AB_t[1]]\n",
        "    H_CI[I_AB, J_AB] *= Γ_Isp[I_AB, 0, AB[0]] * Γ_Isp[J_AB, 0, AB_t[0]] * Γ_Isp[I_AB, 1, AB[1]] * Γ_Isp[J_AB, 1, AB_t[1]]"
      ],
      "metadata": {
        "id": "aUQaHqlx79UO"
      },
      "execution_count": null,
      "outputs": []
    },
    {
      "cell_type": "code",
      "source": [
        "asd = '''\n",
        "def helloworld():\n",
        "    return \"helloworld\"\n",
        "'''\n",
        "\n",
        "SlaterCondon??"
      ],
      "metadata": {
        "id": "Fmyk1a7gcO8w"
      },
      "execution_count": null,
      "outputs": []
    },
    {
      "cell_type": "code",
      "source": [
        "exec(asd)\n",
        "\n",
        "helloworld()"
      ],
      "metadata": {
        "colab": {
          "base_uri": "https://localhost:8080/",
          "height": 35
        },
        "id": "_vI2shjTXYA_",
        "outputId": "587869cb-a213-4dde-a3e4-38430efd9df0"
      },
      "execution_count": null,
      "outputs": [
        {
          "output_type": "execute_result",
          "data": {
            "application/vnd.google.colaboratory.intrinsic+json": {
              "type": "string"
            },
            "text/plain": [
              "'helloworld'"
            ]
          },
          "metadata": {},
          "execution_count": 14
        }
      ]
    },
    {
      "cell_type": "code",
      "source": [
        ""
      ],
      "metadata": {
        "id": "zE_U4IP6Xev4"
      },
      "execution_count": null,
      "outputs": []
    }
  ]
}