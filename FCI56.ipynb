{
  "cells": [
    {
      "cell_type": "markdown",
      "metadata": {
        "id": "view-in-github",
        "colab_type": "text"
      },
      "source": [
        "<a href=\"https://colab.research.google.com/github/jcandane/CI_Theory/blob/main/FCI56.ipynb\" target=\"_parent\"><img src=\"https://colab.research.google.com/assets/colab-badge.svg\" alt=\"Open In Colab\"/></a>"
      ]
    },
    {
      "cell_type": "markdown",
      "metadata": {
        "id": "-MMV4gC98AaQ"
      },
      "source": [
        "# The Goal of this notebook is to introduce a standalone FCI program in Python."
      ]
    },
    {
      "cell_type": "markdown",
      "metadata": {
        "id": "Yp1hG5oE8JK9"
      },
      "source": [
        "## Import Libraries, set defaults"
      ]
    },
    {
      "cell_type": "code",
      "execution_count": null,
      "metadata": {
        "colab": {
          "base_uri": "https://localhost:8080/"
        },
        "id": "xjfamiUfzRLq",
        "outputId": "796fdea5-a2c5-4521-a6fc-187d6dba504d"
      },
      "outputs": [
        {
          "name": "stdout",
          "output_type": "stream",
          "text": [
            "Looking in indexes: https://pypi.org/simple, https://us-python.pkg.dev/colab-wheels/public/simple/\n",
            "Collecting pyscf\n",
            "  Downloading pyscf-2.0.1-cp37-cp37m-manylinux1_x86_64.whl (37.5 MB)\n",
            "\u001b[K     |████████████████████████████████| 37.5 MB 1.3 MB/s \n",
            "\u001b[?25hRequirement already satisfied: numpy!=1.16,!=1.17,>=1.13 in /usr/local/lib/python3.7/dist-packages (from pyscf) (1.21.6)\n",
            "Requirement already satisfied: scipy!=1.5.0,!=1.5.1 in /usr/local/lib/python3.7/dist-packages (from pyscf) (1.4.1)\n",
            "Requirement already satisfied: h5py>=2.7 in /usr/local/lib/python3.7/dist-packages (from pyscf) (3.1.0)\n",
            "Requirement already satisfied: cached-property in /usr/local/lib/python3.7/dist-packages (from h5py>=2.7->pyscf) (1.5.2)\n",
            "Installing collected packages: pyscf\n",
            "Successfully installed pyscf-2.0.1\n"
          ]
        }
      ],
      "source": [
        "!pip install pyscf\n",
        "\n",
        "import numpy as np\n",
        "from itertools import combinations, permutations\n",
        "from pyscf import fci, ao2mo, scf, gto\n",
        "\n",
        "π = np.pi\n",
        "α = 0.007297352\n",
        "c = 1.0/α\n",
        "np.set_printoptions(precision=4, linewidth=200, threshold=2000, suppress=True)"
      ]
    },
    {
      "cell_type": "markdown",
      "metadata": {
        "id": "myzsj52g8RZ7"
      },
      "source": [
        "## Let's define a few useful python functions:"
      ]
    },
    {
      "cell_type": "markdown",
      "metadata": {
        "id": "0wElohqq_LgU"
      },
      "source": [
        "### Determinant Manipulation"
      ]
    },
    {
      "cell_type": "code",
      "execution_count": null,
      "metadata": {
        "id": "x916xfp3_O0L"
      },
      "outputs": [],
      "source": [
        "def givenΛgetB(ΛA, ΛB, N_mo):\n",
        "  \"Given Λ (i occupied orbitals for each determinant) get B (binary rep.)\"\n",
        "\n",
        "  Binary  = np.zeros((ΛA.shape[0], 2, N_mo), dtype=np.int8)\n",
        "  for I in range(len(Binary)):\n",
        "      Binary[I, 0, ΛA[I,:]] = 1\n",
        "      Binary[I, 1, ΛB[I,:]] = 1\n",
        "\n",
        "  return Binary\n",
        "\n",
        "def SpinOuterProduct(A, B, stack=False):\n",
        "  ΛA = np.einsum(\"Ii, J -> IJi\", A, np.ones(B.shape[0], dtype=np.int8)).reshape( (A.shape[0]*B.shape[0], A.shape[1]) )\n",
        "  ΛB = np.einsum(\"Ii, J -> JIi\", B, np.ones(A.shape[0], dtype=np.int8)).reshape( (A.shape[0]*B.shape[0], B.shape[1]) )\n",
        "  \n",
        "  if stack:\n",
        "    return np.array([ΛA,ΛB])\n",
        "  else:\n",
        "    return ΛA, ΛB\n",
        "\n",
        "def get_fci_combos(mf):\n",
        "\n",
        "    O_sp   = np.asarray(mf.mo_occ, dtype=np.int8)\n",
        "    N_s    = np.einsum(\"sp -> s\", O_sp)\n",
        "    N      = O_sp.shape[1]\n",
        "\n",
        "    Λ_α = np.asarray( list(combinations(  np.arange(0, N, 1, dtype=np.int8)  , N_s[0] ) ) ) \n",
        "    Λ_β = np.asarray( list(combinations(  np.arange(0, N, 1, dtype=np.int8)  , N_s[1] ) ) ) \n",
        "    ΛA, ΛB = SpinOuterProduct(Λ_α, Λ_β)\n",
        "    Binary = givenΛgetB(ΛA, ΛB, N)\n",
        "\n",
        "    return Binary"
      ]
    },
    {
      "cell_type": "markdown",
      "metadata": {
        "id": "w2t5yULo_OfQ"
      },
      "source": [
        "### Slater-Condon Rules"
      ]
    },
    {
      "cell_type": "code",
      "execution_count": null,
      "metadata": {
        "id": "vWQgu28__Sox"
      },
      "outputs": [],
      "source": [
        "def determinantsign(Binary):\n",
        "    sign  = np.cumsum( Binary, axis=2)\n",
        "    for I in range(len(Binary)):\n",
        "        iia = np.where( Binary[I,0] == 1)[0]\n",
        "        iib = np.where( Binary[I,1] == 1)[0]\n",
        "        sign[I, 0, iia] = np.arange(0, len(iia), 1)\n",
        "        sign[I, 1, iib] = np.arange(0, len(iib), 1)\n",
        "\n",
        "    return ( (-1)**(sign) ).astype(np.int8)\n",
        "\n",
        "def get_excitation_op(i, j, binary, sign, spin=0):\n",
        "    Difference = binary[i,spin] - binary[j, spin]\n",
        "    #a_t  =    (Difference[i, j, spin] + 0.5).astype(np.int8)\n",
        "    #a    = -1*(Difference[i, j, spin] - 0.5).astype(np.int8)\n",
        "    a_t =    (Difference + 0.5).astype(np.int8)\n",
        "    a   = -1*(Difference - 0.5).astype(np.int8)\n",
        "    if np.sum(a[0]) > 1: ### this is a double excitation\n",
        "        å_t = 1*a_t ## make copy\n",
        "        å_t[ np.arange(len(å_t)),(å_t!=0).argmax(axis=1) ] = 0 ## zero first 1\n",
        "        a_t = np.abs(å_t - a_t) ## absolute difference from orginal\n",
        "        a_t = np.asarray([sign[j, spin]*å_t,sign[j, spin]*a_t]) ## stack\n",
        "\n",
        "        å = 1*a ## make copy\n",
        "        å[ np.arange(len(å)),(å!=0).argmax(axis=1) ] = 0 ## zero first 1\n",
        "        a = np.abs(å - a) ## absolute difference from orginal\n",
        "        a = np.asarray([sign[i, spin]*å,sign[i, spin]*a]) ## stack\n",
        "\n",
        "        return a_t, a\n",
        "\n",
        "    return sign[j, spin]*a_t, sign[i, spin]*a\n",
        "\n",
        "def get_excitation_opXX(i, j, binary, sign, spin=0):\n",
        "    Difference = binary[i,spin] - binary[j, spin]\n",
        "    #a_t  =    (Difference[i, j, spin] + 0.5).astype(np.int8)\n",
        "    #a    = -1*(Difference[i, j, spin] - 0.5).astype(np.int8)\n",
        "    a_t =    (Difference + 0.5).astype(np.int8)\n",
        "    a   = -1*(Difference - 0.5).astype(np.int8)\n",
        "    try: \n",
        "        if np.sum(a[0]) > 1: ### this is a double excitation\n",
        "            å_t = 1*a_t ## make copy\n",
        "            å_t[ np.arange(len(å_t)),(å_t!=0).argmax(axis=1) ] = 0 ## zero first 1\n",
        "            a_t = np.abs(å_t - a_t) ## absolute difference from orginal\n",
        "            a_t = np.asarray([sign[j, spin]*å_t,sign[j, spin]*a_t]) ## stack\n",
        "\n",
        "            å = 1*a ## make copy\n",
        "            å[ np.arange(len(å)),(å!=0).argmax(axis=1) ] = 0 ## zero first 1\n",
        "            a = np.abs(å - a) ## absolute difference from orginal\n",
        "            a = np.asarray([sign[i, spin]*å,sign[i, spin]*a]) ## stack\n",
        "\n",
        "            return a_t, a\n",
        "\n",
        "    except:\n",
        "        return None, None\n",
        "\n",
        "    return sign[j, spin]*a_t, sign[i, spin]*a\n",
        "\n",
        "def SlaterCondon(Binary):\n",
        "    \"\"\"\n",
        "    GIVEN:  \n",
        "    GET:    \n",
        "    \"\"\"\n",
        "\n",
        "    sign           = determinantsign(Binary)\n",
        "    SpinDifference = np.sum( np.abs(Binary[:, None, :, :] - Binary[None, :, :, :]), axis=3)//2\n",
        "\n",
        "    ## indices for 1-difference\n",
        "    I_A, J_A = np.where( np.all(SpinDifference==np.array([1,0], dtype=np.int8), axis=2) )\n",
        "    I_B, J_B = np.where( np.all(SpinDifference==np.array([0,1], dtype=np.int8), axis=2) )\n",
        "    ## indices for 2-differences\n",
        "    I_AA, J_AA = np.where( np.all(SpinDifference==np.array([2,0], dtype=np.int8), axis=2) )\n",
        "    I_BB, J_BB = np.where( np.all(SpinDifference==np.array([0,2], dtype=np.int8), axis=2) )\n",
        "    I_AB, J_AB = np.where( np.all(SpinDifference==np.array([1,1], dtype=np.int8), axis=2) )\n",
        "\n",
        "    ### get excitation operators\n",
        "    if len(I_A) != 0:\n",
        "        a_t , a  = get_excitation_op(I_A , J_A , Binary, sign, spin=0)\n",
        "        ca       = ((Binary[I_A,0,:] + Binary[J_A,0,:])/2).astype(np.int8)\n",
        "    else:\n",
        "        a_t = None\n",
        "        a   = None\n",
        "        ca  = None\n",
        "\n",
        "    if len(I_B) != 0:\n",
        "        b_t , b  = get_excitation_op(I_B , J_B , Binary, sign, spin=1)\n",
        "        cb       = ((Binary[I_B,1,:] + Binary[J_B,1,:])/2).astype(np.int8)\n",
        "    else:\n",
        "        b_t = None\n",
        "        b   = None\n",
        "        ba  = None\n",
        "\n",
        "    if len(I_AA) != 0:\n",
        "        aa_t, aa = get_excitation_op(I_AA, J_AA, Binary, sign, spin=0)\n",
        "    else:\n",
        "        aa_t = None\n",
        "        aa   = None\n",
        "\n",
        "    if len(I_BB) != 0:\n",
        "        bb_t, bb = get_excitation_op(I_BB, J_BB, Binary, sign, spin=1)\n",
        "    else:\n",
        "        bb_t = None\n",
        "        bb   = None\n",
        "        \n",
        "    if len(I_AB) != 0:\n",
        "        ab_t, ab = get_excitation_op(I_AB, J_AB, Binary, sign, spin=0)\n",
        "        ba_t, ba = get_excitation_op(I_AB, J_AB, Binary, sign, spin=1)\n",
        "    else:\n",
        "        ba_t = None\n",
        "        ba   = None\n",
        "        ab_t = None\n",
        "        ab   = None\n",
        "\n",
        "    SC1 = [I_A, J_A, a_t , a, I_B, J_B, b_t , b, ca, cb]\n",
        "    SC2 = [I_AA, J_AA, aa_t, aa, I_BB, J_BB, bb_t, bb, I_AB, J_AB, ab_t, ab, ba_t, ba]\n",
        "\n",
        "    return SC1, SC2"
      ]
    },
    {
      "cell_type": "markdown",
      "metadata": {
        "id": "ZaEuK7G3_SMe"
      },
      "source": [
        "### SO Dressing"
      ]
    },
    {
      "cell_type": "code",
      "execution_count": null,
      "metadata": {
        "id": "gZLc1i9J_Unq"
      },
      "outputs": [],
      "source": [
        "def get_SO_matrix(uhf_pyscf, SF=False, H1=None, H2=None):\n",
        "    \"\"\" Given a PySCF uhf object get SO Matrices \"\"\"\n",
        "\n",
        "    Ca, Cb = (uhf_pyscf).mo_coeff\n",
        "    S = (uhf_pyscf.mol).intor(\"int1e_ovlp\")\n",
        "    eig, v = np.linalg.eigh(S)\n",
        "    A = (v) @ np.diag(eig**(-0.5)) @ np.linalg.inv(v) \n",
        "    H = uhf_pyscf.get_hcore() \n",
        "\n",
        "    n = Ca.shape[1]\n",
        "    eri_aa = (ao2mo.general( (uhf_pyscf)._eri , (Ca, Ca, Ca, Ca), compact=False)).reshape((n,n,n,n), order=\"C\")\n",
        "    eri_aa -= eri_aa.swapaxes(1,3)\n",
        "    eri_bb = (ao2mo.general( (uhf_pyscf)._eri , (Cb, Cb, Cb, Cb), compact=False)).reshape((n,n,n,n), order=\"C\")\n",
        "    eri_bb -= eri_bb.swapaxes(1,3)\n",
        "    eri_ab = (ao2mo.general( (uhf_pyscf)._eri , (Ca, Ca, Cb, Cb), compact=False)).reshape((n,n,n,n), order=\"C\")\n",
        "    #eri_ba = (1.*eri_ab).swapaxes(0,3).swapaxes(1,2) ## !! caution depends on symmetry\n",
        "    eri_ba = (ao2mo.general( (uhf_pyscf)._eri , (Cb, Cb, Ca, Ca), compact=False)).reshape((n,n,n,n), order=\"C\")\n",
        "    H2 = np.stack(( np.stack((eri_aa, eri_ab)), np.stack((eri_ba, eri_bb)) ))\n",
        "\n",
        "    H1 = np.asarray([np.einsum(\"AB, Ap, Bq -> pq\", H, Ca, Ca), np.einsum(\"AB, Ap, Bq -> pq\", H, Cb, Cb)])\n",
        "\n",
        "    if SF:\n",
        "      eri_abab = (ao2mo.general( (uhf_pyscf)._eri , (Ca, Cb, Ca, Cb), compact=False)).reshape((n,n,n,n), order=\"C\")\n",
        "      eri_abba = (ao2mo.general( (uhf_pyscf)._eri , (Ca, Cb, Cb, Ca), compact=False)).reshape((n,n,n,n), order=\"C\")\n",
        "      eri_baab = (ao2mo.general( (uhf_pyscf)._eri , (Cb, Ca, Ca, Cb), compact=False)).reshape((n,n,n,n), order=\"C\")\n",
        "      eri_baba = (ao2mo.general( (uhf_pyscf)._eri , (Cb, Ca, Cb, Ca), compact=False)).reshape((n,n,n,n), order=\"C\")\n",
        "      H2_SF = np.stack(( np.stack((eri_abab, eri_abba)), np.stack((eri_baab, eri_baba)) ))\n",
        "      return H1, H2, H2_SF\n",
        "\n",
        "    else:\n",
        "      return H1, H2"
      ]
    },
    {
      "cell_type": "markdown",
      "metadata": {
        "id": "AQvZ0Tkw_UvR"
      },
      "source": [
        "### CI Dressing"
      ]
    },
    {
      "cell_type": "code",
      "execution_count": null,
      "metadata": {
        "id": "LgFritpf_U5r"
      },
      "outputs": [],
      "source": [
        "def CI_H1(H1, SC1):\n",
        "    \"\"\"\n",
        "    Explicitly construct the 1-body CI Hamiltonian Matrix\n",
        "    GIVEN:  H1 (1-body Hamtilonian)\n",
        "            SC1 (1-body Slater-Condon Rules)\n",
        "    GET:    CI Hamiltonian\n",
        "    \"\"\"\n",
        "\n",
        "    I_A, J_A, a_t , a, I_B, J_B, b_t , b, ca, cb = SC1\n",
        "\n",
        "    H1_CI  = np.einsum(\"Spp, ISp -> I\", H1, Binary, optimize=True)\n",
        "    H1_CI  = np.diag(H_CI)\n",
        "\n",
        "    ## Rule 1\n",
        "    if a_t is not None:\n",
        "        H1_CI[I_A , J_A ] -= np.einsum(\"pq, Kp, Kq -> K\", H1[0], a_t, a, optimize=True)\n",
        "    if b_t is not None:\n",
        "        H1_CI[I_B , J_B ] -= np.einsum(\"pq, Kp, Kq -> K\", H1[1], b_t, b, optimize=True)\n",
        "\n",
        "    return H1_CI\n",
        "\n",
        "def CI_H(H1, H2, Binary, SC1, SC2):\n",
        "    \"\"\"\n",
        "    Explicitly construct the CI Hamiltonian Matrix\n",
        "    GIVEN:  H1 (1-body Hamtilonian)\n",
        "            H2 (2-body Hamtilonian)\n",
        "            SC1 (1-body Slater-Condon Rules)\n",
        "            SC2 (2-body Slater-Condon Rules)\n",
        "    GET:    CI Hamiltonian\n",
        "    \"\"\"\n",
        "\n",
        "    I_A, J_A, a_t , a, I_B, J_B, b_t , b, ca, cb = SC1\n",
        "    I_AA, J_AA, aa_t, aa, I_BB, J_BB, bb_t, bb, I_AB, J_AB, ab_t, ab, ba_t, ba = SC2\n",
        "\n",
        "    H_CI  = np.einsum(\"Spp, ISp -> I\", H1, Binary, optimize=True)\n",
        "    H_CI += np.einsum(\"STppqq, ISp, ITq -> I\", H2, Binary, Binary, optimize=True)/2\n",
        "    H_CI  = np.diag(H_CI)\n",
        "\n",
        "    ## Rule 1\n",
        "    if a_t is not None:\n",
        "        H_CI[I_A , J_A ] -= np.einsum(\"pq, Kp, Kq -> K\", H1[0], a_t, a, optimize=True)\n",
        "        H_CI[I_A , J_A ] -= np.einsum(\"pqrr, Kp, Kq, Kr -> K\", H2[0,0], a_t, a, ca, optimize=True)\n",
        "        H_CI[I_A , J_A ] -= np.einsum(\"pqrr, Kp, Kq, Kr -> K\", H2[0,1], a_t, a, Binary[I_A,1], optimize=True)\n",
        "\n",
        "    if b_t is not None:\n",
        "        H_CI[I_B , J_B ] -= np.einsum(\"pq, Kp, Kq -> K\", H1[1], b_t, b, optimize=True)\n",
        "        H_CI[I_B , J_B ] -= np.einsum(\"pqrr, Kp, Kq, Kr -> K\", H2[1,1], b_t, b, cb, optimize=True)\n",
        "        H_CI[I_B , J_B ] -= np.einsum(\"pqrr, Kp, Kq, Kr -> K\", H2[1,0], b_t, b, Binary[I_B,0], optimize=True)\n",
        "\n",
        "    ## Rule 2\n",
        "    if aa_t is not None:\n",
        "        H_CI[I_AA, J_AA]  = np.einsum(\"pqrs, Kp, Kq, Kr, Ks -> K\", H2[0,0], aa_t[0], aa[0], aa_t[1], aa[1], optimize=True)\n",
        "    if bb_t is not None:\n",
        "        H_CI[I_BB, J_BB]  = np.einsum(\"pqrs, Kp, Kq, Kr, Ks -> K\", H2[1,1], bb_t[0], bb[0], bb_t[1], bb[1], optimize=True)\n",
        "    if ab_t is not None:\n",
        "        H_CI[I_AB, J_AB]  = np.einsum(\"pqrs, Kp, Kq, Kr, Ks -> K\", H2[0,1], ab_t, ab, ba_t, ba, optimize=True)\n",
        "\n",
        "    return H_CI\n",
        "\n",
        "def Dress_H_CI_SPARSE(H1, H2, Binary, SC1, SC2):\n",
        "\n",
        "    from scipy.sparse import csr_matrix\n",
        "    ### https://docs.scipy.org/doc/scipy/reference/generated/scipy.sparse.csr_matrix.html\n",
        "\n",
        "    I_A, J_A, a_t , a, I_B, J_B, b_t , b, ca, cb = SC1\n",
        "    I_AA, J_AA, aa_t, aa, I_BB, J_BB, bb_t, bb, I_AB, J_AB, ab_t, ab, ba_t, ba = SC2\n",
        "\n",
        "    K    = np.einsum(\"Spp, ISp -> I\", H1, Binary, optimize=True)\n",
        "    K   += np.einsum(\"STppqq, ISp, ITq -> I\", H2, Binary, Binary, optimize=True)/2\n",
        "    I    = np.arange(len(Binary), dtype=np.int64)\n",
        "    J    = np.arange(len(Binary), dtype=np.int64)\n",
        "\n",
        "    ## Rule 1\n",
        "    if a_t is not None:\n",
        "        K_A  = -np.einsum(\"pq, Kp, Kq -> K\", H1[0], a_t, a, optimize=True)\n",
        "        K_A -=  np.einsum(\"pqrr, Kp, Kq, Kr -> K\", H2[0,0], a_t, a, ca, optimize=True)\n",
        "        K_A -=  np.einsum(\"pqrr, Kp, Kq, Kr -> K\", H2[0,1], a_t, a, Binary[I_A,1], optimize=True)\n",
        "        I    = np.concatenate([I, I_A])\n",
        "        J    = np.concatenate([J, J_A])\n",
        "        K    = np.concatenate([K, K_A])\n",
        "\n",
        "    if b_t is not None:\n",
        "        K_B  = -np.einsum(\"pq, Kp, Kq -> K\", H1[1], b_t, b, optimize=True)\n",
        "        K_B -=  np.einsum(\"pqrr, Kp, Kq, Kr -> K\", H2[1,1], b_t, b, cb, optimize=True)\n",
        "        K_B -=  np.einsum(\"pqrr, Kp, Kq, Kr -> K\", H2[1,0], b_t, b, Binary[I_B,0], optimize=True)\n",
        "        I    = np.concatenate([I, I_B])\n",
        "        J    = np.concatenate([J, J_B])\n",
        "        K    = np.concatenate([K, K_B])\n",
        "\n",
        "    ## Rule 2\n",
        "    if aa_t is not None:\n",
        "        K_AA  = np.einsum(\"pqrs, Kp, Kq, Kr, Ks -> K\", H2[0,0], aa_t[0], aa[0], aa_t[1], aa[1], optimize=True)\n",
        "        I    = np.concatenate([I, I_AA])\n",
        "        J    = np.concatenate([J, J_AA])\n",
        "        K    = np.concatenate([K, K_AA])\n",
        "    if bb_t is not None:\n",
        "        K_BB  = np.einsum(\"pqrs, Kp, Kq, Kr, Ks -> K\", H2[1,1], bb_t[0], bb[0], bb_t[1], bb[1], optimize=True)\n",
        "        I    = np.concatenate([I, I_BB])\n",
        "        J    = np.concatenate([J, J_BB])\n",
        "        K    = np.concatenate([K, K_BB])\n",
        "    if ab_t is not None:\n",
        "        K_AB  = np.einsum(\"pqrs, Kp, Kq, Kr, Ks -> K\", H2[0,1], ab_t, ab, ba_t, ba, optimize=True)\n",
        "        I    = np.concatenate([I, I_AB])\n",
        "        J    = np.concatenate([J, J_AB])\n",
        "        K    = np.concatenate([K, K_AB])\n",
        "\n",
        "    H_CI = csr_matrix((K, (I, J)), shape=(len(Binary), len(Binary)))\n",
        "\n",
        "    return H_CI"
      ]
    },
    {
      "cell_type": "markdown",
      "metadata": {
        "id": "iz3tZzlgy8rx"
      },
      "source": [
        "### FCI"
      ]
    },
    {
      "cell_type": "code",
      "execution_count": null,
      "metadata": {
        "id": "0ML7iLhSy-Oc"
      },
      "outputs": [],
      "source": [
        "def fci_(mf):\n",
        "    \"\"\"\n",
        "    Calculate the FCI of a PySCF Mean Field Object\n",
        "    GIVEN:  mf (PySCF Mean Field Object)\n",
        "    GET:    E (Eigenvlues)\n",
        "            X (Eigenstates)\n",
        "    \"\"\"\n",
        "\n",
        "    Binary   = get_fci_combos(mf)\n",
        "    H1, H2   = get_SO_matrix(mf)\n",
        "    SC1, SC2 = SlaterCondon(Binary)\n",
        "    H_CI     = CI_H(H1, H2, Binary, SC1, SC2)\n",
        "    E, Ψ     = np.linalg.eigh(H_CI)\n",
        "\n",
        "    return E, Ψ\n",
        "\n",
        "def hci_(mf):\n",
        "    \"\"\"\n",
        "    Calculate the FCI of a PySCF Mean Field Object\n",
        "    GIVEN:  mf (PySCF Mean Field Object)\n",
        "    GET:    E (Eigenvlues)\n",
        "            X (Eigenstates)\n",
        "    \"\"\"\n",
        "\n",
        "    Binary   = get_fci_combos(mf)\n",
        "    H1, H2   = get_SO_matrix(mf)\n",
        "    SC1, SC2 = SlaterCondon(Binary)\n",
        "    return CI_H(H1, H2, Binary, SC1, SC2)\n",
        "\n",
        "def fci_sp(mf, n=10, SC=False):\n",
        "\n",
        "    from scipy.sparse.linalg import eigsh\n",
        "\n",
        "    Binary   = get_fci_combos(mf)\n",
        "    H1, H2   = get_SO_matrix(mf)\n",
        "    SC1, SC2 = SlaterCondon(Binary)\n",
        "    H_CI     = Dress_H_CI_SPARSE(H1, H2, Binary, SC1, SC2)\n",
        "    E, Ψ    = eigsh(H_CI, k=n)\n",
        "\n",
        "    if SC:\n",
        "        return Binary, SC1, SC2, E, Ψ\n",
        "    else:\n",
        "        return E, Ψ"
      ]
    },
    {
      "cell_type": "markdown",
      "metadata": {
        "id": "kDXmer_mzltr"
      },
      "source": [
        "## Let's now do a PySCF HF Calculation"
      ]
    },
    {
      "cell_type": "code",
      "execution_count": null,
      "metadata": {
        "colab": {
          "base_uri": "https://localhost:8080/"
        },
        "id": "rOXs5jJxzek9",
        "outputId": "9941671f-628c-4a9e-aa8d-ff926c612753"
      },
      "outputs": [
        {
          "name": "stdout",
          "output_type": "stream",
          "text": [
            "converged SCF energy = -13.3070828301991  <S^2> = 7.0778938e-11  2S+1 = 1\n"
          ]
        }
      ],
      "source": [
        "#mol = gto.M(atom=\"He 0.0 0.0 0.0; H 1.5 0.0 0.0; He 0.0 1.5 0.0; B 0.0, 0.0, 1.5\", spin=0, basis=\"sto-3g\")\n",
        "## 'He 0.0 0.0 0.0; H 1.5 0.0 0.0; He 0.0 1.5 0.0; N 0.0, 0.0, 1.5'\n",
        "mol = gto.M(atom=\"He 0.0 0.0 0.0; H 1.5 0.0 0.0; He 0.0 1.5 0.0; Li 0.0, 0.0, 1.5\", spin=0, basis=\"sto-3g\")\n",
        "uhf = scf.UHF(mol)\n",
        "uhf.kernel()\n",
        "\n",
        "### information about occupation\n",
        "O_sp   = np.asarray((uhf).mo_occ, dtype=np.int8)\n",
        "N_s    = np.einsum(\"sp -> s\", O_sp)"
      ]
    },
    {
      "cell_type": "markdown",
      "metadata": {
        "id": "dm-H-P8Kz5ex"
      },
      "source": [
        "## Configuration Generation (fCI)"
      ]
    },
    {
      "cell_type": "code",
      "execution_count": null,
      "metadata": {
        "id": "811a8CjYz-Ui"
      },
      "outputs": [],
      "source": [
        "N   = O_sp.shape[1]\n",
        "Λ_α = np.asarray( list(combinations(  np.arange(0, N, 1, dtype=np.int8)  , N_s[0] ) ) ) \n",
        "Λ_β = np.asarray( list(combinations(  np.arange(0, N, 1, dtype=np.int8)  , N_s[1] ) ) ) \n",
        "ΛA, ΛB = SpinOuterProduct(Λ_α, Λ_β)\n",
        "Binary = givenΛgetB(ΛA, ΛB, N)"
      ]
    },
    {
      "cell_type": "code",
      "execution_count": null,
      "metadata": {
        "id": "NLXJOt3vA7XG"
      },
      "outputs": [],
      "source": [
        "Binary = get_fci_combos(uhf)"
      ]
    },
    {
      "cell_type": "markdown",
      "metadata": {
        "id": "eg8iU_2Lz-35"
      },
      "source": [
        "Determine Determinant Signs"
      ]
    },
    {
      "cell_type": "code",
      "execution_count": null,
      "metadata": {
        "id": "udUSp5BQ0J4C"
      },
      "outputs": [],
      "source": [
        "sign  = np.cumsum( Binary, axis=2)\n",
        "for I in range(len(Binary)):\n",
        "    iia = np.where( Binary[I,0] == 1)[0]\n",
        "    iib = np.where( Binary[I,1] == 1)[0]\n",
        "    sign[I, 0, iia] = np.arange(0, len(iia), 1)\n",
        "    sign[I, 1, iib] = np.arange(0, len(iib), 1)\n",
        "\n",
        "sign = ( (-1)**(sign) ).astype(np.int8)"
      ]
    },
    {
      "cell_type": "markdown",
      "metadata": {
        "id": "1mf2YRmjzqfq"
      },
      "source": [
        "## Let's now get SO Matrix Elements"
      ]
    },
    {
      "cell_type": "code",
      "execution_count": null,
      "metadata": {
        "id": "9bKzm9-dzqA7"
      },
      "outputs": [],
      "source": [
        "H1, H2 = get_SO_matrix(uhf)"
      ]
    },
    {
      "cell_type": "markdown",
      "metadata": {
        "id": "Ddodv5Jx0l2M"
      },
      "source": [
        "## Let's now get CI Matrix Elements\n",
        "\n",
        "Slater-Condon Rule 0 & 3"
      ]
    },
    {
      "cell_type": "code",
      "execution_count": null,
      "metadata": {
        "id": "wtboOjGMKPqW"
      },
      "outputs": [],
      "source": [
        "## Rule 0 & 3\n",
        "H_CI  = np.einsum(\"Spp, ISp -> I\", H1, Binary, optimize=True)\n",
        "H_CI += np.einsum(\"STppqq, ISp, ITq -> I\", H2, Binary, Binary, optimize=True)/2\n",
        "H_CI  = np.diag(H_CI)"
      ]
    },
    {
      "cell_type": "markdown",
      "metadata": {
        "id": "lsq4FLyJK2jE"
      },
      "source": [
        "Calclate Spin Differences between all determinants to determine the applicable rule."
      ]
    },
    {
      "cell_type": "code",
      "execution_count": null,
      "metadata": {
        "id": "vdoPliSBK2vj"
      },
      "outputs": [],
      "source": [
        "SpinDifference = np.sum( np.abs(Binary[:, None, :, :] - Binary[None, :, :, :]), axis=3)//2"
      ]
    },
    {
      "cell_type": "markdown",
      "metadata": {
        "id": "olxpOo_i0quk"
      },
      "source": [
        "Slater-Condon Rule 1"
      ]
    },
    {
      "cell_type": "code",
      "execution_count": null,
      "metadata": {
        "id": "w7vBdhEyKRV2"
      },
      "outputs": [],
      "source": [
        "## indices for 1-difference\n",
        "I_A, J_A = np.where( np.all(SpinDifference==np.array([1,0], dtype=np.int8), axis=2) )\n",
        "I_B, J_B = np.where( np.all(SpinDifference==np.array([0,1], dtype=np.int8), axis=2) )\n",
        "\n",
        "### get excitation operators\n",
        "a_t , a  = get_excitation_op(I_A , J_A , Binary, sign, spin=0)\n",
        "b_t , b  = get_excitation_op(I_B , J_B , Binary, sign, spin=1)\n",
        "ca       = ((Binary[I_A,0,:] + Binary[J_A,0,:])/2).astype(np.int8)\n",
        "cb       = ((Binary[I_B,1,:] + Binary[J_B,1,:])/2).astype(np.int8)\n",
        "\n",
        "## Rule 1\n",
        "H_CI[I_A , J_A ] -= np.einsum(\"pq, Kp, Kq -> K\", H1[0], a_t, a, optimize=True)\n",
        "H_CI[I_A , J_A ] -= np.einsum(\"pqrr, Kp, Kq, Kr -> K\", H2[0,0], a_t, a, ca, optimize=True)\n",
        "H_CI[I_A , J_A ] -= np.einsum(\"pqrr, Kp, Kq, Kr -> K\", H2[0,1], a_t, a, Binary[I_A,1], optimize=True)\n",
        "\n",
        "H_CI[I_B , J_B ] -= np.einsum(\"pq, Kp, Kq -> K\", H1[1], b_t, b, optimize=True)\n",
        "H_CI[I_B , J_B ] -= np.einsum(\"pqrr, Kp, Kq, Kr -> K\", H2[1,1], b_t, b, cb, optimize=True)\n",
        "H_CI[I_B , J_B ] -= np.einsum(\"pqrr, Kp, Kq, Kr -> K\", H2[1,0], b_t, b, Binary[I_B,0], optimize=True)"
      ]
    },
    {
      "cell_type": "markdown",
      "metadata": {
        "id": "BIuOKokA0v8t"
      },
      "source": [
        "Slater-Condon Rule 2"
      ]
    },
    {
      "cell_type": "code",
      "execution_count": null,
      "metadata": {
        "id": "Ayu572fuqikd"
      },
      "outputs": [],
      "source": [
        "## indices for 2-differences\n",
        "I_AA, J_AA = np.where( np.all(SpinDifference==np.array([2,0], dtype=np.int8), axis=2) )\n",
        "I_BB, J_BB = np.where( np.all(SpinDifference==np.array([0,2], dtype=np.int8), axis=2) )\n",
        "I_AB, J_AB = np.where( np.all(SpinDifference==np.array([1,1], dtype=np.int8), axis=2) )\n",
        "\n",
        "aa_t, aa = get_excitation_op(I_AA, J_AA, Binary, sign, spin=0)\n",
        "bb_t, bb = get_excitation_op(I_BB, J_BB, Binary, sign, spin=1)\n",
        "ab_t, ab = get_excitation_op(I_AB, J_AB, Binary, sign, spin=0)\n",
        "ba_t, ba = get_excitation_op(I_AB, J_AB, Binary, sign, spin=1)\n",
        "\n",
        "## Rule 2\n",
        "H_CI[I_AA, J_AA]  = np.einsum(\"pqrs, Kp, Kq, Kr, Ks -> K\", H2[0,0], aa_t[0], aa[0], aa_t[1], aa[1], optimize=True)\n",
        "H_CI[I_BB, J_BB]  = np.einsum(\"pqrs, Kp, Kq, Kr, Ks -> K\", H2[1,1], bb_t[0], bb[0], bb_t[1], bb[1], optimize=True)\n",
        "H_CI[I_AB, J_AB]  = np.einsum(\"pqrs, Kp, Kq, Kr, Ks -> K\", H2[0,1], ab_t, ab, ba_t, ba, optimize=True)"
      ]
    },
    {
      "cell_type": "markdown",
      "metadata": {
        "id": "FmeIK-5wKDGC"
      },
      "source": [
        "## Calculation"
      ]
    },
    {
      "cell_type": "markdown",
      "metadata": {
        "id": "RKdot0k-0xy1"
      },
      "source": [
        "### PySCF FCI"
      ]
    },
    {
      "cell_type": "code",
      "execution_count": null,
      "metadata": {
        "id": "R_n_jjto0x6F"
      },
      "outputs": [],
      "source": [
        "#cisolver = fci.FCI(uhf,singlet=False)\n",
        "#cisolver.nroots = 100 # 100\n",
        "#cisolver.spin = 0\n",
        "#cisolver.davidson_only = False\n",
        "#pyscf_fci_energy = cisolver.kernel()[0]"
      ]
    },
    {
      "cell_type": "code",
      "execution_count": null,
      "metadata": {
        "id": "VqdEpAA8pzKG"
      },
      "outputs": [],
      "source": [
        "ciS = fci.FCI(uhf,singlet=False)\n",
        "pyscf_fci_eng = ciS.kernel()[0]"
      ]
    },
    {
      "cell_type": "markdown",
      "metadata": {
        "id": "WiBSiywDAt3N"
      },
      "source": [
        "### Comparison"
      ]
    },
    {
      "cell_type": "code",
      "execution_count": null,
      "metadata": {
        "colab": {
          "base_uri": "https://localhost:8080/"
        },
        "id": "OLwQhAWpApdt",
        "outputId": "80da2977-b566-4013-884f-ee04421af590"
      },
      "outputs": [
        {
          "name": "stdout",
          "output_type": "stream",
          "text": [
            "Mine  : -13.36013960591029\n",
            "MineSp: -13.36013960591019\n",
            "PySCFo: -13.360139605900459\n",
            "MineX : -13.36013960591029\n",
            "MySPSP: -13.360139605910225\n"
          ]
        }
      ],
      "source": [
        "nuclear_rep = uhf.energy_nuc()\n",
        "e_fci_my, X_IJ = np.linalg.eigh(H_CI)\n",
        "\n",
        "#print(\"PySCF : \" + str(pyscf_fci_energy[0] ))\n",
        "print(\"Mine  : \" + str( e_fci_my[0] + nuclear_rep ))\n",
        "\n",
        "from scipy.sparse.linalg import eigs\n",
        "vals, vecs = eigs(H_CI, k=6) ## for sparse matrix get 1st 6 eigenvectors and eigenvalues\n",
        "print(\"MineSp: \" + str( vals[0].real + nuclear_rep )) \n",
        "\n",
        "print(\"PySCFo: \" + str(pyscf_fci_eng ))\n",
        "\n",
        "E, X = fci_(uhf)\n",
        "print(\"MineX : \" + str( E[0] + nuclear_rep ))\n",
        "\n",
        "E, X = fci_sp(uhf, n=10)\n",
        "print(\"MySPSP: \" + str( E[0] + nuclear_rep ))"
      ]
    },
    {
      "cell_type": "markdown",
      "metadata": {
        "id": "JLzsKSeIfL6K"
      },
      "source": [
        "## Get H_CI Matrix"
      ]
    },
    {
      "cell_type": "code",
      "execution_count": null,
      "metadata": {
        "colab": {
          "base_uri": "https://localhost:8080/",
          "height": 283
        },
        "id": "UFF92Z0xehN6",
        "outputId": "48bdfa92-1540-434f-f4d4-0094d39f2e51"
      },
      "outputs": [
        {
          "name": "stdout",
          "output_type": "stream",
          "text": [
            "converged SCF energy = -1.59751069629249  <S^2> = 1.1129742e-10  2S+1 = 1\n"
          ]
        },
        {
          "data": {
            "image/png": "[encoded data removed]",
            "text/plain": [
              "<Figure size 432x288 with 2 Axes>"
            ]
          },
          "metadata": {},
          "output_type": "display_data"
        }
      ],
      "source": [
        "mol = gto.M(atom=\"H 0.0 0.0 0.0; H 1.5 0.0 0.0; H 0.0 1.5 0.0; H 0.0, 0.0, 1.5\", spin=0, basis=\"sto-3g\")\n",
        "# \"He 0.0 0.0 0.0; H 1.5 0.0 0.0; He 0.0 1.5 0.0; Li 0.0, 0.0, 1.5\"\n",
        "uhf = scf.UHF(mol)\n",
        "uhf.kernel()\n",
        "\n",
        "HCI = hci_(uhf)\n",
        "\n",
        "import matplotlib.pyplot as plt\n",
        "\n",
        "\n",
        "plt.imshow(HCI, cmap=plt.cm.Blues.reversed(), interpolation='nearest') ## , ,  ## , origin=\"lower\"\n",
        "plt.colorbar()\n",
        "plt.savefig(\"H4_sto3g\", dpi=300, transparent=True)\n",
        "plt.show()"
      ]
    },
    {
      "cell_type": "code",
      "execution_count": null,
      "metadata": {
        "colab": {
          "base_uri": "https://localhost:8080/",
          "height": 269
        },
        "id": "beO4uUvhEEow",
        "outputId": "78b8ddcf-8955-44a0-9f20-663477879b40"
      },
      "outputs": [
        {
          "data": {
            "image/png": "[encoded data removed]",
            "text/plain": [
              "<Figure size 432x288 with 2 Axes>"
            ]
          },
          "metadata": {},
          "output_type": "display_data"
        }
      ],
      "source": [
        "import matplotlib.pyplot as plt\n",
        "\n",
        "\n",
        "plt.imshow(H_CI, cmap=plt.cm.Blues.reversed(), interpolation='nearest') ## , ,  ## , origin=\"lower\"\n",
        "plt.colorbar()\n",
        "plt.show()"
      ]
    },
    {
      "cell_type": "markdown",
      "metadata": {
        "id": "4IFa9rQKjE0b"
      },
      "source": [
        "## H$_2$ PES"
      ]
    },
    {
      "cell_type": "code",
      "execution_count": null,
      "metadata": {
        "colab": {
          "base_uri": "https://localhost:8080/"
        },
        "id": "W_biAFm9nQ1p",
        "outputId": "b4548d88-b41e-4834-a2fd-5b484348e538"
      },
      "outputs": [
        {
          "name": "stdout",
          "output_type": "stream",
          "text": [
            "converged SCF energy = -1.04880055621269  <S^2> = 5.1070259e-15  2S+1 = 1\n",
            "MySPSP: -1.0793700508785389\n"
          ]
        }
      ],
      "source": [
        "mol = gto.M(atom=\"H 0.0 0.0 0.0; H 0.0 0.0 0.50\", spin=0, charge=0, basis=\"cc-pvdz\")\n",
        "uhf = scf.UHF(mol)\n",
        "uhf.kernel()\n",
        "\n",
        "nuclear_rep = uhf.energy_nuc()\n",
        "\n",
        "E, X = fci_(uhf)\n",
        "print(\"MySPSP: \" + str( E[0] + nuclear_rep ))"
      ]
    },
    {
      "cell_type": "code",
      "execution_count": null,
      "metadata": {
        "colab": {
          "background_save": true,
          "base_uri": "https://localhost:8080/"
        },
        "id": "dN0elVVGjLfO",
        "outputId": "360cb41a-df3b-4056-f6f2-76644dfe141d"
      },
      "outputs": [
        {
          "name": "stdout",
          "output_type": "stream",
          "text": [
            "converged SCF energy = -1.01400498460167  <S^2> = 2.4802382e-13  2S+1 = 1\n"
          ]
        },
        {
          "ename": "KeyboardInterrupt",
          "evalue": "ignored",
          "output_type": "error",
          "traceback": [
            "\u001b[0;31m---------------------------------------------------------------------------\u001b[0m",
            "\u001b[0;31mKeyboardInterrupt\u001b[0m                         Traceback (most recent call last)",
            "\u001b[0;32m<ipython-input-61-807a1dd5990b>\u001b[0m in \u001b[0;36m<module>\u001b[0;34m()\u001b[0m\n\u001b[1;32m      7\u001b[0m \u001b[0mD_sαβ\u001b[0m \u001b[0;34m=\u001b[0m \u001b[0muhf\u001b[0m\u001b[0;34m.\u001b[0m\u001b[0mmake_rdm1\u001b[0m\u001b[0;34m(\u001b[0m\u001b[0;34m)\u001b[0m\u001b[0;34m\u001b[0m\u001b[0;34m\u001b[0m\u001b[0m\n\u001b[1;32m      8\u001b[0m \u001b[0;34m\u001b[0m\u001b[0m\n\u001b[0;32m----> 9\u001b[0;31m \u001b[0mBinary\u001b[0m\u001b[0;34m,\u001b[0m \u001b[0mSC1\u001b[0m\u001b[0;34m,\u001b[0m \u001b[0mSC2\u001b[0m\u001b[0;34m,\u001b[0m \u001b[0mE\u001b[0m\u001b[0;34m,\u001b[0m \u001b[0mX\u001b[0m \u001b[0;34m=\u001b[0m \u001b[0mfci_sp\u001b[0m\u001b[0;34m(\u001b[0m\u001b[0muhf\u001b[0m\u001b[0;34m,\u001b[0m \u001b[0mSC\u001b[0m\u001b[0;34m=\u001b[0m\u001b[0;32mTrue\u001b[0m\u001b[0;34m)\u001b[0m\u001b[0;34m\u001b[0m\u001b[0;34m\u001b[0m\u001b[0m\n\u001b[0m\u001b[1;32m     10\u001b[0m \u001b[0mz\u001b[0m  \u001b[0;34m=\u001b[0m \u001b[0mnp\u001b[0m\u001b[0;34m.\u001b[0m\u001b[0marange\u001b[0m\u001b[0;34m(\u001b[0m\u001b[0;36m0.45\u001b[0m\u001b[0;34m,\u001b[0m \u001b[0;36m3\u001b[0m\u001b[0;34m,\u001b[0m \u001b[0;36m0.05\u001b[0m\u001b[0;34m)\u001b[0m\u001b[0;34m\u001b[0m\u001b[0;34m\u001b[0m\u001b[0m\n\u001b[1;32m     11\u001b[0m \u001b[0;34m\u001b[0m\u001b[0m\n",
            "\u001b[0;32m<ipython-input-19-729a0cce13ad>\u001b[0m in \u001b[0;36mfci_sp\u001b[0;34m(mf, n, SC)\u001b[0m\n\u001b[1;32m     35\u001b[0m     \u001b[0mH1\u001b[0m\u001b[0;34m,\u001b[0m \u001b[0mH2\u001b[0m   \u001b[0;34m=\u001b[0m \u001b[0mget_SO_matrix\u001b[0m\u001b[0;34m(\u001b[0m\u001b[0mmf\u001b[0m\u001b[0;34m)\u001b[0m\u001b[0;34m\u001b[0m\u001b[0;34m\u001b[0m\u001b[0m\n\u001b[1;32m     36\u001b[0m     \u001b[0mSC1\u001b[0m\u001b[0;34m,\u001b[0m \u001b[0mSC2\u001b[0m \u001b[0;34m=\u001b[0m \u001b[0mSlaterCondon\u001b[0m\u001b[0;34m(\u001b[0m\u001b[0mBinary\u001b[0m\u001b[0;34m)\u001b[0m\u001b[0;34m\u001b[0m\u001b[0;34m\u001b[0m\u001b[0m\n\u001b[0;32m---> 37\u001b[0;31m     \u001b[0mH_CI\u001b[0m     \u001b[0;34m=\u001b[0m \u001b[0mDress_H_CI_SPARSE\u001b[0m\u001b[0;34m(\u001b[0m\u001b[0mH1\u001b[0m\u001b[0;34m,\u001b[0m \u001b[0mH2\u001b[0m\u001b[0;34m,\u001b[0m \u001b[0mBinary\u001b[0m\u001b[0;34m,\u001b[0m \u001b[0mSC1\u001b[0m\u001b[0;34m,\u001b[0m \u001b[0mSC2\u001b[0m\u001b[0;34m)\u001b[0m\u001b[0;34m\u001b[0m\u001b[0;34m\u001b[0m\u001b[0m\n\u001b[0m\u001b[1;32m     38\u001b[0m     \u001b[0mE\u001b[0m\u001b[0;34m,\u001b[0m \u001b[0mΨ\u001b[0m    \u001b[0;34m=\u001b[0m \u001b[0meigsh\u001b[0m\u001b[0;34m(\u001b[0m\u001b[0mH_CI\u001b[0m\u001b[0;34m,\u001b[0m \u001b[0mk\u001b[0m\u001b[0;34m=\u001b[0m\u001b[0mn\u001b[0m\u001b[0;34m)\u001b[0m\u001b[0;34m\u001b[0m\u001b[0;34m\u001b[0m\u001b[0m\n\u001b[1;32m     39\u001b[0m \u001b[0;34m\u001b[0m\u001b[0m\n",
            "\u001b[0;32m<ipython-input-5-a54a48b1a216>\u001b[0m in \u001b[0;36mDress_H_CI_SPARSE\u001b[0;34m(H1, H2, Binary, SC1, SC2)\u001b[0m\n\u001b[1;32m    100\u001b[0m         \u001b[0mK\u001b[0m    \u001b[0;34m=\u001b[0m \u001b[0mnp\u001b[0m\u001b[0;34m.\u001b[0m\u001b[0mconcatenate\u001b[0m\u001b[0;34m(\u001b[0m\u001b[0;34m[\u001b[0m\u001b[0mK\u001b[0m\u001b[0;34m,\u001b[0m \u001b[0mK_BB\u001b[0m\u001b[0;34m]\u001b[0m\u001b[0;34m)\u001b[0m\u001b[0;34m\u001b[0m\u001b[0;34m\u001b[0m\u001b[0m\n\u001b[1;32m    101\u001b[0m     \u001b[0;32mif\u001b[0m \u001b[0mab_t\u001b[0m \u001b[0;32mis\u001b[0m \u001b[0;32mnot\u001b[0m \u001b[0;32mNone\u001b[0m\u001b[0;34m:\u001b[0m\u001b[0;34m\u001b[0m\u001b[0;34m\u001b[0m\u001b[0m\n\u001b[0;32m--> 102\u001b[0;31m         \u001b[0mK_AB\u001b[0m  \u001b[0;34m=\u001b[0m \u001b[0mnp\u001b[0m\u001b[0;34m.\u001b[0m\u001b[0meinsum\u001b[0m\u001b[0;34m(\u001b[0m\u001b[0;34m\"pqrs, Kp, Kq, Kr, Ks -> K\"\u001b[0m\u001b[0;34m,\u001b[0m \u001b[0mH2\u001b[0m\u001b[0;34m[\u001b[0m\u001b[0;36m0\u001b[0m\u001b[0;34m,\u001b[0m\u001b[0;36m1\u001b[0m\u001b[0;34m]\u001b[0m\u001b[0;34m,\u001b[0m \u001b[0mab_t\u001b[0m\u001b[0;34m,\u001b[0m \u001b[0mab\u001b[0m\u001b[0;34m,\u001b[0m \u001b[0mba_t\u001b[0m\u001b[0;34m,\u001b[0m \u001b[0mba\u001b[0m\u001b[0;34m,\u001b[0m \u001b[0moptimize\u001b[0m\u001b[0;34m=\u001b[0m\u001b[0;32mTrue\u001b[0m\u001b[0;34m)\u001b[0m\u001b[0;34m\u001b[0m\u001b[0;34m\u001b[0m\u001b[0m\n\u001b[0m\u001b[1;32m    103\u001b[0m         \u001b[0mI\u001b[0m    \u001b[0;34m=\u001b[0m \u001b[0mnp\u001b[0m\u001b[0;34m.\u001b[0m\u001b[0mconcatenate\u001b[0m\u001b[0;34m(\u001b[0m\u001b[0;34m[\u001b[0m\u001b[0mI\u001b[0m\u001b[0;34m,\u001b[0m \u001b[0mI_AB\u001b[0m\u001b[0;34m]\u001b[0m\u001b[0;34m)\u001b[0m\u001b[0;34m\u001b[0m\u001b[0;34m\u001b[0m\u001b[0m\n\u001b[1;32m    104\u001b[0m         \u001b[0mJ\u001b[0m    \u001b[0;34m=\u001b[0m \u001b[0mnp\u001b[0m\u001b[0;34m.\u001b[0m\u001b[0mconcatenate\u001b[0m\u001b[0;34m(\u001b[0m\u001b[0;34m[\u001b[0m\u001b[0mJ\u001b[0m\u001b[0;34m,\u001b[0m \u001b[0mJ_AB\u001b[0m\u001b[0;34m]\u001b[0m\u001b[0;34m)\u001b[0m\u001b[0;34m\u001b[0m\u001b[0;34m\u001b[0m\u001b[0m\n",
            "\u001b[0;32m<__array_function__ internals>\u001b[0m in \u001b[0;36meinsum\u001b[0;34m(*args, **kwargs)\u001b[0m\n",
            "\u001b[0;32m/usr/local/lib/python3.7/dist-packages/numpy/core/einsumfunc.py\u001b[0m in \u001b[0;36meinsum\u001b[0;34m(out, optimize, *operands, **kwargs)\u001b[0m\n\u001b[1;32m   1420\u001b[0m \u001b[0;34m\u001b[0m\u001b[0m\n\u001b[1;32m   1421\u001b[0m             \u001b[0;31m# Do the contraction\u001b[0m\u001b[0;34m\u001b[0m\u001b[0;34m\u001b[0m\u001b[0;34m\u001b[0m\u001b[0m\n\u001b[0;32m-> 1422\u001b[0;31m             \u001b[0mnew_view\u001b[0m \u001b[0;34m=\u001b[0m \u001b[0mc_einsum\u001b[0m\u001b[0;34m(\u001b[0m\u001b[0meinsum_str\u001b[0m\u001b[0;34m,\u001b[0m \u001b[0;34m*\u001b[0m\u001b[0mtmp_operands\u001b[0m\u001b[0;34m,\u001b[0m \u001b[0;34m**\u001b[0m\u001b[0mkwargs\u001b[0m\u001b[0;34m)\u001b[0m\u001b[0;34m\u001b[0m\u001b[0;34m\u001b[0m\u001b[0m\n\u001b[0m\u001b[1;32m   1423\u001b[0m \u001b[0;34m\u001b[0m\u001b[0m\n\u001b[1;32m   1424\u001b[0m         \u001b[0;31m# Append new items and dereference what we can\u001b[0m\u001b[0;34m\u001b[0m\u001b[0;34m\u001b[0m\u001b[0;34m\u001b[0m\u001b[0m\n",
            "\u001b[0;31mKeyboardInterrupt\u001b[0m: "
          ]
        }
      ],
      "source": [
        "from scipy.sparse.linalg import eigsh\n",
        "\n",
        "mol = gto.M(atom=\"H 0.0 0.0 0.0; H 0.0 0.0 0.45\", spin=0, charge=0, basis=\"cc-pvdz\")\n",
        "uhf = scf.UHF(mol)\n",
        "uhf.kernel()\n",
        "\n",
        "D_sαβ = uhf.make_rdm1()\n",
        "\n",
        "Binary, SC1, SC2, E, X = fci_sp(uhf, SC=True)\n",
        "z  = np.arange(0.45, 3, 0.05)\n",
        "\n",
        "dataPES = np.zeros((len(z), 15))\n",
        "for i in range(len(z)):\n",
        "    output = \"H\" + \" \" + str(0.) + \", \" + str(0.) + \", \" + str(z[i])\n",
        "    mol = gto.M(atom=\"H 0.0 0.0 0.0; \" + output, spin=0, charge=0, basis=\"cc-pvdz\")\n",
        "    uhf = scf.UHF(mol)\n",
        "    uhf.kernel(D_sαβ)\n",
        "\n",
        "    D_sαβ = uhf.make_rdm1()\n",
        "\n",
        "    nuclear_rep = uhf.energy_nuc()\n",
        "    E, X = fci_(uhf)\n",
        "    #H1, H2   = get_SO_matrix(uhf)\n",
        "    #H_CI     = Dress_H_CI_SPARSE(H1, H2, Binary, SC1, SC2)\n",
        "    #E, Ψ    = eigsh(H_CI, k=10)\n",
        "\n",
        "    dataPES[i] = E[:15] + nuclear_rep"
      ]
    },
    {
      "cell_type": "code",
      "execution_count": null,
      "metadata": {
        "colab": {
          "base_uri": "https://localhost:8080/"
        },
        "id": "nMohKvBbpREk",
        "outputId": "f28bf36b-b65c-4409-f388-c23c5e63bc6a"
      },
      "outputs": [
        {
          "name": "stdout",
          "output_type": "stream",
          "text": [
            "Looking in indexes: https://pypi.org/simple, https://us-python.pkg.dev/colab-wheels/public/simple/\n",
            "Collecting tikzplotlib\n",
            "  Downloading tikzplotlib-0.10.1-py3-none-any.whl (54 kB)\n",
            "\u001b[K     |████████████████████████████████| 54 kB 2.2 MB/s \n",
            "\u001b[?25hRequirement already satisfied: Pillow in /usr/local/lib/python3.7/dist-packages (from tikzplotlib) (7.1.2)\n",
            "Requirement already satisfied: matplotlib>=1.4.0 in /usr/local/lib/python3.7/dist-packages (from tikzplotlib) (3.2.2)\n",
            "Collecting webcolors\n",
            "  Downloading webcolors-1.12-py3-none-any.whl (9.9 kB)\n",
            "Requirement already satisfied: numpy in /usr/local/lib/python3.7/dist-packages (from tikzplotlib) (1.21.6)\n",
            "Requirement already satisfied: cycler>=0.10 in /usr/local/lib/python3.7/dist-packages (from matplotlib>=1.4.0->tikzplotlib) (0.11.0)\n",
            "Requirement already satisfied: pyparsing!=2.0.4,!=2.1.2,!=2.1.6,>=2.0.1 in /usr/local/lib/python3.7/dist-packages (from matplotlib>=1.4.0->tikzplotlib) (3.0.9)\n",
            "Requirement already satisfied: kiwisolver>=1.0.1 in /usr/local/lib/python3.7/dist-packages (from matplotlib>=1.4.0->tikzplotlib) (1.4.2)\n",
            "Requirement already satisfied: python-dateutil>=2.1 in /usr/local/lib/python3.7/dist-packages (from matplotlib>=1.4.0->tikzplotlib) (2.8.2)\n",
            "Requirement already satisfied: typing-extensions in /usr/local/lib/python3.7/dist-packages (from kiwisolver>=1.0.1->matplotlib>=1.4.0->tikzplotlib) (4.2.0)\n",
            "Requirement already satisfied: six>=1.5 in /usr/local/lib/python3.7/dist-packages (from python-dateutil>=2.1->matplotlib>=1.4.0->tikzplotlib) (1.15.0)\n",
            "Installing collected packages: webcolors, tikzplotlib\n",
            "Successfully installed tikzplotlib-0.10.1 webcolors-1.12\n"
          ]
        }
      ],
      "source": [
        "!pip install tikzplotlib\n",
        "import tikzplotlib"
      ]
    },
    {
      "cell_type": "code",
      "execution_count": null,
      "metadata": {
        "colab": {
          "base_uri": "https://localhost:8080/",
          "height": 625
        },
        "id": "BjSWCD1PlSCQ",
        "outputId": "4c0aa633-cf25-48cf-9d73-4964d3e83952"
      },
      "outputs": [
        {
          "data": {
            "image/png": "[encoded data removed]",
            "text/plain": [
              "<Figure size 720x720 with 1 Axes>"
            ]
          },
          "metadata": {},
          "output_type": "display_data"
        }
      ],
      "source": [
        "plt.figure(figsize=(10,10)) \n",
        "plt.plot(z, dataPES[:,0])\n",
        "plt.plot(z, dataPES[:,1])\n",
        "plt.plot(z, dataPES[:,2])\n",
        "plt.plot(z, dataPES[:,3])\n",
        "plt.plot(z, dataPES[:,4])\n",
        "plt.plot(z, dataPES[:,5])\n",
        "plt.plot(z, dataPES[:,6])\n",
        "plt.plot(z, dataPES[:,7])\n",
        "plt.plot(z, dataPES[:,8])\n",
        "plt.plot(z, dataPES[:,9])\n",
        "axes=plt.gca()\n",
        "axes.set_aspect(5)\n",
        "plt.ylabel(\"Energy (a.u.)\")\n",
        "plt.xlabel(\"Interatomic Distance (Å)\")\n",
        "plt.title(\"H$_2$/FCI/cc-pvdz\")\n",
        "tikzplotlib.save(\"H2FCIccpvdz.tex\")\n",
        "plt.show()\n"
      ]
    },
    {
      "cell_type": "code",
      "execution_count": null,
      "metadata": {
        "colab": {
          "base_uri": "https://localhost:8080/"
        },
        "id": "9m-gHqTUmrj3",
        "outputId": "27190587-d756-40a1-fc88-9881d520327a"
      },
      "outputs": [
        {
          "data": {
            "text/plain": [
              "array([6.2069, 5.5949, 5.0222, 4.4867, 4.0645, 3.7318, 3.4782, 3.2874, 3.1435, 3.0335, 2.9474, 2.8782, 2.821 , 2.7721, 2.729 , 2.69  , 2.6537, 2.6194, 2.5864, 2.5544, 2.5233, 2.4932, 2.464 , 2.4361,\n",
              "       2.4096, 2.3847, 2.3619, 2.3413, 2.3399, 2.3398, 2.3208, 2.3144, 2.3189, 2.3235, 2.328 , 2.3325, 2.337 , 2.3412, 2.3454, 2.3494, 2.3533, 2.3571, 2.3607, 2.3642, 2.3676, 2.3709, 2.3741, 2.3772,\n",
              "       2.3799, 2.3822])"
            ]
          },
          "execution_count": 43,
          "metadata": {},
          "output_type": "execute_result"
        }
      ],
      "source": [
        "dataPES[:,0]"
      ]
    },
    {
      "cell_type": "markdown",
      "metadata": {
        "id": "Glvs_uS19kLZ"
      },
      "source": [
        "# H$^+_3$ Conical Intersection"
      ]
    },
    {
      "cell_type": "code",
      "execution_count": null,
      "metadata": {
        "colab": {
          "base_uri": "https://localhost:8080/"
        },
        "id": "VT5qrY5XLPmF",
        "outputId": "e0e0a5a4-3670-4ee8-accb-60506888b44d"
      },
      "outputs": [
        {
          "name": "stdout",
          "output_type": "stream",
          "text": [
            "converged SCF energy = -1.27774793716054  <S^2> = 4.485301e-14  2S+1 = 1\n",
            "converged SCF energy = -0.9482185656439  <S^2> = 5.6865623e-13  2S+1 = 1\n",
            "0 0\n",
            "converged SCF energy = -1.01794714637615  <S^2> = 8.8351548e-13  2S+1 = 1\n",
            "0 1\n",
            "converged SCF energy = -1.07599242184981  <S^2> = 1.1304291e-12  2S+1 = 1\n",
            "0 2\n",
            "converged SCF energy = -1.12079160063765  <S^2> = 1.2270185e-12  2S+1 = 1\n",
            "0 3\n",
            "converged SCF energy = -1.15223982010838  <S^2> = 1.2372325e-12  2S+1 = 1\n",
            "0 4\n",
            "converged SCF energy = -1.17079048364725  <S^2> = 1.7292834e-12  2S+1 = 1\n",
            "0 5\n",
            "converged SCF energy = -1.17691136919485  <S^2> = 1.4654944e-14  2S+1 = 1\n",
            "0 6\n",
            "converged SCF energy = -1.17079048364725  <S^2> = 1.7297275e-12  2S+1 = 1\n",
            "0 7\n",
            "converged SCF energy = -1.15223982010838  <S^2> = 1.2390089e-12  2S+1 = 1\n",
            "0 8\n",
            "converged SCF energy = -1.12079160063766  <S^2> = 1.2279067e-12  2S+1 = 1\n",
            "0 9\n",
            "converged SCF energy = -1.07599242184982  <S^2> = 1.130207e-12  2S+1 = 1\n",
            "0 10\n",
            "converged SCF energy = -1.01794714637615  <S^2> = 8.8018481e-13  2S+1 = 1\n",
            "0 11\n",
            "converged SCF energy = -0.948218565643899  <S^2> = 5.6976646e-13  2S+1 = 1\n",
            "0 12\n",
            "converged SCF energy = -0.830792991872945  <S^2> = 2.1449509e-13  2S+1 = 1\n",
            "1 0\n",
            "converged SCF energy = -0.933580095103866  <S^2> = 3.479439e-13  2S+1 = 1\n",
            "1 1\n",
            "converged SCF energy = -1.01535891431398  <S^2> = 4.9649174e-13  2S+1 = 1\n",
            "1 2\n",
            "converged SCF energy = -1.07628683402526  <S^2> = 6.3837824e-13  2S+1 = 1\n",
            "1 3\n",
            "converged SCF energy = -1.11797878573417  <S^2> = 8.1001872e-13  2S+1 = 1\n",
            "1 4\n",
            "converged SCF energy = -1.14217038906834  <S^2> = 1.4550583e-12  2S+1 = 1\n",
            "1 5\n",
            "converged SCF energy = -1.15008854159858  <S^2> = 2.0206059e-14  2S+1 = 1\n",
            "1 6\n",
            "converged SCF energy = -1.14217038906834  <S^2> = 1.4552803e-12  2S+1 = 1\n",
            "1 7\n",
            "converged SCF energy = -1.11797878573417  <S^2> = 8.1024076e-13  2S+1 = 1\n",
            "1 8\n",
            "converged SCF energy = -1.07628683402526  <S^2> = 6.3793415e-13  2S+1 = 1\n",
            "1 9\n",
            "converged SCF energy = -1.01535891431398  <S^2> = 4.9693583e-13  2S+1 = 1\n",
            "1 10\n",
            "converged SCF energy = -0.933580095103866  <S^2> = 3.4816594e-13  2S+1 = 1\n",
            "1 11\n",
            "converged SCF energy = -0.830792991872944  <S^2> = 2.1471713e-13  2S+1 = 1\n",
            "1 12\n",
            "converged SCF energy = -0.686123475963142  <S^2> = 6.8389738e-14  2S+1 = 1\n",
            "2 0\n",
            "converged SCF energy = -0.835797565194075  <S^2> = 1.1080026e-13  2S+1 = 1\n",
            "2 1\n",
            "converged SCF energy = -0.948507343150912  <S^2> = 1.6653345e-13  2S+1 = 1\n",
            "2 2\n",
            "converged SCF energy = -1.0291562454982  <S^2> = 2.5290881e-13  2S+1 = 1\n",
            "2 3\n",
            "converged SCF energy = -1.08282141724709  <S^2> = 4.8605564e-13  2S+1 = 1\n",
            "2 4\n",
            "converged SCF energy = -1.113421681831  <S^2> = 6.6283423e-11  2S+1 = 1\n",
            "2 5\n",
            "converged SCF energy = -1.12335416791603  <S^2> = 2.4868996e-14  2S+1 = 1\n",
            "2 6\n",
            "converged SCF energy = -1.113421681831  <S^2> = 6.6282979e-11  2S+1 = 1\n",
            "2 7\n",
            "converged SCF energy = -1.08282141724709  <S^2> = 4.8561155e-13  2S+1 = 1\n",
            "2 8\n",
            "converged SCF energy = -1.0291562454982  <S^2> = 2.5313085e-13  2S+1 = 1\n",
            "2 9\n",
            "converged SCF energy = -0.948507343150912  <S^2> = 1.667555e-13  2S+1 = 1\n",
            "2 10\n",
            "converged SCF energy = -0.835797565194077  <S^2> = 1.1035617e-13  2S+1 = 1\n",
            "2 11\n",
            "converged SCF energy = -0.686123475963144  <S^2> = 6.7945649e-14  2S+1 = 1\n",
            "2 12\n",
            "converged SCF energy = -0.519352431040321  <S^2> = 1.8207658e-14  2S+1 = 1\n",
            "3 0\n",
            "converged SCF energy = -0.73088774426571  <S^2> = 2.6867397e-14  2S+1 = 1\n",
            "3 1\n",
            "converged SCF energy = -0.880590427036835  <S^2> = 3.9301895e-14  2S+1 = 1\n",
            "3 2\n",
            "converged SCF energy = -0.983236895423121  <S^2> = 6.5947248e-14  2S+1 = 1\n",
            "3 3\n",
            "converged SCF energy = -1.04963730107511  <S^2> = 1.2668533e-11  2S+1 = 1\n",
            "3 4\n",
            "converged SCF energy = -1.08685615486456  <S^2> = 2.0474289e-11  2S+1 = 1\n",
            "3 5\n",
            "converged SCF energy = -1.09884001767782  <S^2> = 2.9309888e-14  2S+1 = 1\n",
            "3 6\n",
            "converged SCF energy = -1.08685615486457  <S^2> = 2.0473845e-11  2S+1 = 1\n",
            "3 7\n",
            "converged SCF energy = -1.04963730107512  <S^2> = 1.2668311e-11  2S+1 = 1\n",
            "3 8\n",
            "converged SCF energy = -0.983236895423124  <S^2> = 6.5503158e-14  2S+1 = 1\n",
            "3 9\n",
            "converged SCF energy = -0.880590427036839  <S^2> = 3.7747583e-14  2S+1 = 1\n",
            "3 10\n",
            "converged SCF energy = -0.730887744265708  <S^2> = 2.7755576e-14  2S+1 = 1\n",
            "3 11\n",
            "converged SCF energy = -0.519352431040323  <S^2> = 1.7541524e-14  2S+1 = 1\n",
            "3 12\n",
            "converged SCF energy = -0.349586059850624  <S^2> = 3.3306691e-15  2S+1 = 1\n",
            "4 0\n",
            "converged SCF energy = -0.632103767362994  <S^2> = 4.2188475e-15  2S+1 = 1\n",
            "4 1\n",
            "converged SCF energy = -0.820038940786968  <S^2> = 5.0596638e-11  2S+1 = 1\n",
            "4 2\n",
            "converged SCF energy = -0.943890094994116  <S^2> = 4.6393112e-11  2S+1 = 1\n",
            "4 3\n",
            "converged SCF energy = -1.0220174135818  <S^2> = 2.7533531e-14  2S+1 = 1\n",
            "4 4\n",
            "converged SCF energy = -1.06516314391687  <S^2> = 3.08642e-14  2S+1 = 1\n",
            "4 5\n",
            "converged SCF energy = -1.07895989281192  <S^2> = 1.4432899e-14  2S+1 = 1\n",
            "4 6\n",
            "converged SCF energy = -1.06516314391687  <S^2> = 3.08642e-14  2S+1 = 1\n",
            "4 7\n",
            "converged SCF energy = -1.0220174135818  <S^2> = 2.6423308e-14  2S+1 = 1\n",
            "4 8\n",
            "converged SCF energy = -0.943890094994122  <S^2> = 4.6390225e-11  2S+1 = 1\n",
            "4 9\n",
            "converged SCF energy = -0.820038940786968  <S^2> = 5.0595306e-11  2S+1 = 1\n",
            "4 10\n",
            "converged SCF energy = -0.632103767362993  <S^2> = 4.2188475e-15  2S+1 = 1\n",
            "4 11\n",
            "converged SCF energy = -0.349586059850624  <S^2> = 2.6645353e-15  2S+1 = 1\n",
            "4 12\n",
            "converged SCF energy = -0.215360344166047  <S^2> = 1.259437e-12  2S+1 = 1\n",
            "5 0\n",
            "converged SCF energy = -0.559403102524147  <S^2> = 7.830403e-11  2S+1 = 1\n",
            "5 1\n",
            "converged SCF energy = -0.77749909268298  <S^2> = 7.5495166e-15  2S+1 = 1\n",
            "5 2\n",
            "converged SCF energy = -0.917121215705074  <S^2> = 8.6597396e-15  2S+1 = 1\n",
            "5 3\n",
            "converged SCF energy = -1.00365146004657  <S^2> = 7.1054274e-15  2S+1 = 1\n",
            "5 4\n",
            "converged SCF energy = -1.05095055210251  <S^2> = 3.7747583e-15  2S+1 = 1\n",
            "5 5\n",
            "converged SCF energy = -1.06600448163976  <S^2> = 3.1086245e-15  2S+1 = 1\n",
            "5 6\n",
            "converged SCF energy = -1.0509505521025  <S^2> = 5.9952043e-15  2S+1 = 1\n",
            "5 7\n",
            "converged SCF energy = -1.00365146004657  <S^2> = 6.4392935e-15  2S+1 = 1\n",
            "5 8\n",
            "converged SCF energy = -0.917121215705076  <S^2> = 7.9936058e-15  2S+1 = 1\n",
            "5 9\n",
            "converged SCF energy = -0.777499092682979  <S^2> = 6.6613381e-15  2S+1 = 1\n",
            "5 10\n",
            "converged SCF energy = -0.559403102524146  <S^2> = 7.830514e-11  2S+1 = 1\n",
            "5 11\n",
            "converged SCF energy = -0.215360344166046  <S^2> = 1.2598811e-12  2S+1 = 1\n",
            "5 12\n",
            "converged SCF energy = -0.163344618075537  <S^2> = 2.8865799e-15  2S+1 = 1\n",
            "6 0\n",
            "converged SCF energy = -0.532454327416235  <S^2> = 5.1070259e-15  2S+1 = 1\n",
            "6 1\n",
            "converged SCF energy = -0.76215317682642  <S^2> = 6.8833828e-15  2S+1 = 1\n",
            "6 2\n",
            "converged SCF energy = -0.907638855082596  <S^2> = 6.2172489e-15  2S+1 = 1\n",
            "6 3\n",
            "converged SCF energy = -0.997228615969347  <S^2> = 6.6613381e-15  2S+1 = 1\n",
            "6 4\n",
            "converged SCF energy = -1.04602148030799  <S^2> = 3.1086245e-15  2S+1 = 1\n",
            "6 5\n",
            "converged SCF energy = -1.06152497367155  <S^2> = 6.6613381e-16  2S+1 = 1\n",
            "6 6\n",
            "converged SCF energy = -1.04602148030799  <S^2> = 5.3290705e-15  2S+1 = 1\n",
            "6 7\n",
            "converged SCF energy = -0.99722861596935  <S^2> = 5.9952043e-15  2S+1 = 1\n",
            "6 8\n",
            "converged SCF energy = -0.907638855082598  <S^2> = 6.4392935e-15  2S+1 = 1\n",
            "6 9\n",
            "converged SCF energy = -0.762153176826423  <S^2> = 6.2172489e-15  2S+1 = 1\n",
            "6 10\n",
            "converged SCF energy = -0.532454327416236  <S^2> = 5.5511151e-15  2S+1 = 1\n",
            "6 11\n",
            "converged SCF energy = -0.16334461807554  <S^2> = 8.8817842e-16  2S+1 = 1\n",
            "6 12\n",
            "converged SCF energy = -0.215360344166047  <S^2> = 1.2585488e-12  2S+1 = 1\n",
            "7 0\n",
            "converged SCF energy = -0.559403102524145  <S^2> = 7.830514e-11  2S+1 = 1\n",
            "7 1\n",
            "converged SCF energy = -0.777499092682981  <S^2> = 7.1054274e-15  2S+1 = 1\n",
            "7 2\n",
            "converged SCF energy = -0.917121215705076  <S^2> = 6.8833828e-15  2S+1 = 1\n",
            "7 3\n",
            "converged SCF energy = -1.00365146004658  <S^2> = 6.4392935e-15  2S+1 = 1\n",
            "7 4\n",
            "converged SCF energy = -1.05095055210251  <S^2> = 5.7731597e-15  2S+1 = 1\n",
            "7 5\n",
            "converged SCF energy = -1.06600448163977  <S^2> = 2.8865799e-15  2S+1 = 1\n",
            "7 6\n",
            "converged SCF energy = -1.0509505521025  <S^2> = 5.9952043e-15  2S+1 = 1\n",
            "7 7\n",
            "converged SCF energy = -1.00365146004657  <S^2> = 7.1054274e-15  2S+1 = 1\n",
            "7 8\n",
            "converged SCF energy = -0.917121215705076  <S^2> = 7.327472e-15  2S+1 = 1\n",
            "7 9\n",
            "converged SCF energy = -0.777499092682979  <S^2> = 6.4392935e-15  2S+1 = 1\n",
            "7 10\n",
            "converged SCF energy = -0.559403102524147  <S^2> = 7.830403e-11  2S+1 = 1\n",
            "7 11\n",
            "converged SCF energy = -0.215360344166048  <S^2> = 1.2589929e-12  2S+1 = 1\n",
            "7 12\n",
            "converged SCF energy = -0.349586059850622  <S^2> = 1.9984014e-15  2S+1 = 1\n",
            "8 0\n",
            "converged SCF energy = -0.632103767362994  <S^2> = 3.7747583e-15  2S+1 = 1\n",
            "8 1\n",
            "converged SCF energy = -0.820038940786966  <S^2> = 5.0596416e-11  2S+1 = 1\n",
            "8 2\n",
            "converged SCF energy = -0.943890094994118  <S^2> = 4.6392223e-11  2S+1 = 1\n",
            "8 3\n",
            "converged SCF energy = -1.0220174135818  <S^2> = 2.797762e-14  2S+1 = 1\n",
            "8 4\n",
            "converged SCF energy = -1.06516314391687  <S^2> = 3.0642155e-14  2S+1 = 1\n",
            "8 5\n",
            "converged SCF energy = -1.07895989281192  <S^2> = 1.687539e-14  2S+1 = 1\n",
            "8 6\n",
            "converged SCF energy = -1.06516314391687  <S^2> = 3.1086245e-14  2S+1 = 1\n",
            "8 7\n",
            "converged SCF energy = -1.0220174135818  <S^2> = 2.6423308e-14  2S+1 = 1\n",
            "8 8\n",
            "converged SCF energy = -0.943890094994117  <S^2> = 4.6392667e-11  2S+1 = 1\n",
            "8 9\n",
            "converged SCF energy = -0.820038940786969  <S^2> = 5.0595972e-11  2S+1 = 1\n",
            "8 10\n",
            "converged SCF energy = -0.632103767362994  <S^2> = 5.5511151e-15  2S+1 = 1\n",
            "8 11\n",
            "converged SCF energy = -0.349586059850624  <S^2> = 2.6645353e-15  2S+1 = 1\n",
            "8 12\n",
            "converged SCF energy = -0.519352431040322  <S^2> = 1.7763568e-14  2S+1 = 1\n",
            "9 0\n",
            "converged SCF energy = -0.73088774426571  <S^2> = 2.7311486e-14  2S+1 = 1\n",
            "9 1\n",
            "converged SCF energy = -0.880590427036836  <S^2> = 3.907985e-14  2S+1 = 1\n",
            "9 2\n",
            "converged SCF energy = -0.983236895423122  <S^2> = 6.5503158e-14  2S+1 = 1\n",
            "9 3\n",
            "converged SCF energy = -1.04963730107511  <S^2> = 1.2668533e-11  2S+1 = 1\n",
            "9 4\n",
            "converged SCF energy = -1.08685615486456  <S^2> = 2.0474289e-11  2S+1 = 1\n",
            "9 5\n",
            "converged SCF energy = -1.09884001767782  <S^2> = 2.9753977e-14  2S+1 = 1\n",
            "9 6\n",
            "converged SCF energy = -1.08685615486456  <S^2> = 2.0473845e-11  2S+1 = 1\n",
            "9 7\n",
            "converged SCF energy = -1.04963730107511  <S^2> = 1.2668755e-11  2S+1 = 1\n",
            "9 8\n",
            "converged SCF energy = -0.983236895423123  <S^2> = 6.5947248e-14  2S+1 = 1\n",
            "9 9\n",
            "converged SCF energy = -0.880590427036838  <S^2> = 3.8635761e-14  2S+1 = 1\n",
            "9 10\n",
            "converged SCF energy = -0.73088774426571  <S^2> = 2.7311486e-14  2S+1 = 1\n",
            "9 11\n",
            "converged SCF energy = -0.519352431040323  <S^2> = 1.6431301e-14  2S+1 = 1\n",
            "9 12\n",
            "converged SCF energy = -0.686123475963141  <S^2> = 6.9055872e-14  2S+1 = 1\n",
            "10 0\n",
            "converged SCF energy = -0.835797565194076  <S^2> = 1.1013412e-13  2S+1 = 1\n",
            "10 1\n",
            "converged SCF energy = -0.948507343150911  <S^2> = 1.6697754e-13  2S+1 = 1\n",
            "10 2\n",
            "converged SCF energy = -1.0291562454982  <S^2> = 2.5268676e-13  2S+1 = 1\n",
            "10 3\n",
            "converged SCF energy = -1.08282141724708  <S^2> = 4.8716586e-13  2S+1 = 1\n",
            "10 4\n",
            "converged SCF energy = -1.113421681831  <S^2> = 6.6283867e-11  2S+1 = 1\n",
            "10 5\n",
            "converged SCF energy = -1.12335416791602  <S^2> = 2.7533531e-14  2S+1 = 1\n",
            "10 6\n",
            "converged SCF energy = -1.113421681831  <S^2> = 6.6282757e-11  2S+1 = 1\n",
            "10 7\n",
            "converged SCF energy = -1.08282141724709  <S^2> = 4.8672177e-13  2S+1 = 1\n",
            "10 8\n",
            "converged SCF energy = -1.0291562454982  <S^2> = 2.5357494e-13  2S+1 = 1\n",
            "10 9\n",
            "converged SCF energy = -0.948507343150914  <S^2> = 1.6586732e-13  2S+1 = 1\n",
            "10 10\n",
            "converged SCF energy = -0.835797565194077  <S^2> = 1.1013412e-13  2S+1 = 1\n",
            "10 11\n",
            "converged SCF energy = -0.686123475963146  <S^2> = 6.750156e-14  2S+1 = 1\n",
            "10 12\n",
            "converged SCF energy = -0.830792991872943  <S^2> = 2.1582736e-13  2S+1 = 1\n",
            "11 0\n",
            "converged SCF energy = -0.933580095103864  <S^2> = 3.4838799e-13  2S+1 = 1\n",
            "11 1\n",
            "converged SCF energy = -1.01535891431398  <S^2> = 4.9626969e-13  2S+1 = 1\n",
            "11 2\n",
            "converged SCF energy = -1.07628683402526  <S^2> = 6.3749006e-13  2S+1 = 1\n",
            "11 3\n",
            "converged SCF energy = -1.11797878573417  <S^2> = 8.0935258e-13  2S+1 = 1\n",
            "11 4\n",
            "converged SCF energy = -1.14217038906835  <S^2> = 1.4543922e-12  2S+1 = 1\n",
            "11 5\n",
            "converged SCF energy = -1.15008854159858  <S^2> = 1.9317881e-14  2S+1 = 1\n",
            "11 6\n",
            "converged SCF energy = -1.14217038906835  <S^2> = 1.453504e-12  2S+1 = 1\n",
            "11 7\n",
            "converged SCF energy = -1.11797878573417  <S^2> = 8.0935258e-13  2S+1 = 1\n",
            "11 8\n",
            "converged SCF energy = -1.07628683402526  <S^2> = 6.3793415e-13  2S+1 = 1\n",
            "11 9\n",
            "converged SCF energy = -1.01535891431398  <S^2> = 4.9626969e-13  2S+1 = 1\n",
            "11 10\n",
            "converged SCF energy = -0.933580095103867  <S^2> = 3.4705572e-13  2S+1 = 1\n",
            "11 11\n",
            "converged SCF energy = -0.830792991872943  <S^2> = 2.1516122e-13  2S+1 = 1\n",
            "11 12\n",
            "converged SCF energy = -0.948218565643898  <S^2> = 5.6887828e-13  2S+1 = 1\n",
            "12 0\n",
            "converged SCF energy = -1.01794714637615  <S^2> = 8.826273e-13  2S+1 = 1\n",
            "12 1\n",
            "converged SCF energy = -1.07599242184982  <S^2> = 1.1310952e-12  2S+1 = 1\n",
            "12 2\n",
            "converged SCF energy = -1.12079160063765  <S^2> = 1.2283508e-12  2S+1 = 1\n",
            "12 3\n",
            "converged SCF energy = -1.15223982010838  <S^2> = 1.2403412e-12  2S+1 = 1\n",
            "12 4\n",
            "converged SCF energy = -1.17079048364725  <S^2> = 1.7286172e-12  2S+1 = 1\n",
            "12 5\n",
            "converged SCF energy = -1.17691136919485  <S^2> = 1.5543122e-14  2S+1 = 1\n",
            "12 6\n",
            "converged SCF energy = -1.17079048364725  <S^2> = 1.7281732e-12  2S+1 = 1\n",
            "12 7\n",
            "converged SCF energy = -1.15223982010838  <S^2> = 1.2387869e-12  2S+1 = 1\n",
            "12 8\n",
            "converged SCF energy = -1.12079160063765  <S^2> = 1.2276846e-12  2S+1 = 1\n",
            "12 9\n",
            "converged SCF energy = -1.07599242184982  <S^2> = 1.1308732e-12  2S+1 = 1\n",
            "12 10\n",
            "converged SCF energy = -1.01794714637615  <S^2> = 8.8284935e-13  2S+1 = 1\n",
            "12 11\n",
            "converged SCF energy = -0.948218565643897  <S^2> = 5.6932237e-13  2S+1 = 1\n",
            "12 12\n"
          ]
        }
      ],
      "source": [
        "from scipy.sparse.linalg import eigsh\n",
        "\n",
        "mol = gto.M(atom=\"H 0.0 0.522 0.0; H 0.0 -0.522 0.0; H 0., 0., 0.904\", spin=0, charge=1, basis=\"cc-pvdz\")\n",
        "uhf = scf.UHF(mol)\n",
        "uhf.kernel()\n",
        "\n",
        "Binary, SC1, SC2, E, X = fci_sp(uhf, SC=True)\n",
        "\n",
        "z  = np.arange(-0.1, 0.1, 0.02)\n",
        "yz = np.asarray(np.meshgrid(z,z))\n",
        "\n",
        "data = np.zeros((yz.shape[1], yz.shape[2], 10))\n",
        "for yy in range((yz.shape[1])):\n",
        "    for zz in range((yz.shape[1])):\n",
        "          coor_inter = yz[:,yy, zz]\n",
        "          output = \"H\" + \" \" + str(0.) + \", \" + str(coor_inter[0]) + \", \" + str(coor_inter[1])\n",
        "\n",
        "          mol = gto.M(atom=\"H 0.0 0.522 0.0; H 0.0 -0.522 0.0;\" + output, spin=0, charge=1, basis=\"cc-pvdz\")\n",
        "          uhf = scf.UHF(mol)\n",
        "          uhf.kernel()\n",
        "\n",
        "          H1, H2   = get_SO_matrix(uhf)\n",
        "          H_CI     = Dress_H_CI_SPARSE(H1, H2, Binary, SC1, SC2)\n",
        "          E, Ψ    = eigsh(H_CI, k=10)\n",
        "\n",
        "          #E, X = fci_sp(uhf)\n",
        "\n",
        "          data[yy, zz] = E[:10]\n",
        "\n",
        "          print(yy, zz)\n"
      ]
    },
    {
      "cell_type": "code",
      "execution_count": null,
      "metadata": {
        "colab": {
          "base_uri": "https://localhost:8080/"
        },
        "id": "CrxmtlVJHQZ-",
        "outputId": "72d06677-6564-4152-8a59-9f4bb7a944c8"
      },
      "outputs": [
        {
          "data": {
            "text/plain": [
              "(13, 13, 10)"
            ]
          },
          "execution_count": 36,
          "metadata": {},
          "output_type": "execute_result"
        }
      ],
      "source": [
        "data.shape\n",
        "#np.save(\"fcih3p_\", data)"
      ]
    },
    {
      "cell_type": "code",
      "execution_count": null,
      "metadata": {
        "colab": {
          "base_uri": "https://localhost:8080/",
          "height": 248
        },
        "id": "e1cAnUAYHMg5",
        "outputId": "bdd0e3fb-4eb3-43dd-c813-cfb7a0ce1c01"
      },
      "outputs": [
        {
          "data": {
            "image/png": "[encoded data removed]",
            "text/plain": [
              "<Figure size 432x288 with 2 Axes>"
            ]
          },
          "metadata": {},
          "output_type": "display_data"
        }
      ],
      "source": [
        "np.load(\"fcih3p_.npy\").shape\n",
        "import matplotlib.pyplot as plt\n",
        "\n",
        "fig, ax = plt.subplots(subplot_kw={\"projection\": \"3d\"})\n",
        "\n",
        "\n",
        "surf = ax.plot_surface(yz[0], yz[1], data[:,:,0], linewidth=0, antialiased=False)\n",
        "surf = ax.plot_surface(yz[0], yz[1], data[:,:,1], linewidth=0, antialiased=False)\n",
        "surf = ax.plot_surface(yz[0], yz[1], data[:,:,5], linewidth=0, antialiased=False)\n",
        "\n",
        "\n",
        "# Add a color bar which maps values to colors.\n",
        "fig.colorbar(surf, shrink=0.5, aspect=5)\n",
        "\n",
        "plt.show()"
      ]
    },
    {
      "cell_type": "code",
      "execution_count": null,
      "metadata": {
        "colab": {
          "base_uri": "https://localhost:8080/",
          "height": 53
        },
        "id": "PgZrko8sGLU_",
        "outputId": "a0978fe2-ac3a-453f-f6f6-7b3aa0fadab5"
      },
      "outputs": [
        {
          "name": "stdout",
          "output_type": "stream",
          "text": [
            "0.    0.    0.904\n"
          ]
        },
        {
          "data": {
            "application/vnd.google.colaboratory.intrinsic+json": {
              "type": "string"
            },
            "text/plain": [
              "'H 0.0, 0.0, 0.904'"
            ]
          },
          "execution_count": 23,
          "metadata": {},
          "output_type": "execute_result"
        }
      ],
      "source": [
        "center = np.array([0., 0., 0.904])\n",
        "\n",
        "print(str(center)[1:-1])\n",
        "\n",
        "output = \"H\" + \" \" + str(center[0]) + \", \" + str(center[1]) + \", \" + str(center[2])\n",
        "output"
      ]
    },
    {
      "cell_type": "code",
      "execution_count": null,
      "metadata": {
        "colab": {
          "base_uri": "https://localhost:8080/"
        },
        "id": "5grGCTX6AKMg",
        "outputId": "57101bb9-47fb-4424-9ef7-8121cfd3ad86"
      },
      "outputs": [
        {
          "data": {
            "text/plain": [
              "array([[1., 0., 0., 0., 0., 0., 0., 0., 0., 0., 0., 0., 0., 0., 0.],\n",
              "       [1., 0., 0., 0., 0., 0., 0., 0., 0., 0., 0., 0., 0., 0., 0.]])"
            ]
          },
          "execution_count": 24,
          "metadata": {},
          "output_type": "execute_result"
        }
      ],
      "source": [
        "uhf.mo_occ"
      ]
    },
    {
      "cell_type": "code",
      "execution_count": null,
      "metadata": {
        "id": "KgxZrVM--sPe"
      },
      "outputs": [],
      "source": [
        ""
      ]
    },
    {
      "cell_type": "markdown",
      "metadata": {
        "id": "FF9CxIhTCdFS"
      },
      "source": [
        "$ \\int e^x dx \\frac{d\\Omega}{dt} \\nabla \\mathcal{E} =  $"
      ]
    },
    {
      "cell_type": "markdown",
      "metadata": {
        "id": "T4-mHA2cLP9g"
      },
      "source": [
        "\n",
        "\n",
        "```\n",
        "# This is formatted as code\n",
        "```\n",
        "\n"
      ]
    },
    {
      "cell_type": "markdown",
      "metadata": {
        "id": "-qIk75oBTohN"
      },
      "source": [
        "### ⚠ work on"
      ]
    },
    {
      "cell_type": "code",
      "execution_count": null,
      "metadata": {
        "colab": {
          "base_uri": "https://localhost:8080/"
        },
        "id": "49adhvmJtfES",
        "outputId": "f7c51bd1-7d30-4b1a-d982-af8e1e52dc17"
      },
      "outputs": [
        {
          "name": "stdout",
          "output_type": "stream",
          "text": [
            "converged SCF energy = -1.97347935236229  <S^2> = 8.2931439e-11  2S+1 = 1\n",
            "784.0\n",
            "PySCF: -2.063153259452695\n",
            "Mine : -2.065563171992842\n"
          ]
        }
      ],
      "source": [
        "num_atoms = 4\n",
        "box_size  = 3 ## Ångströms\n",
        "Z    = (np.random.rand(num_atoms) + 1).astype(np.int64)\n",
        "R_ix =  np.random.rand(num_atoms,3) * box_size\n",
        "\n",
        "import math\n",
        "\n",
        "def nCr(n,r):\n",
        "    f = math.factorial\n",
        "    return f(n) / f(r) / f(n-r)\n",
        "\n",
        "out = \"\"\n",
        "for i in range(len(Z)):\n",
        "    out += str(Z[i]) + \" \" + str(R_ix[i][0]) + \" \" + str(R_ix[i][1]) + \" \" + str(R_ix[i][2]) + \"; \"\n",
        "\n",
        "if np.sum(Z) % 2 == 0:\n",
        "    mol = gto.M(atom=out, spin=0, basis=\"6-31g\") #basis=\"sto-3g\")\n",
        "    uhf = scf.UHF(mol)\n",
        "    uhf.kernel()\n",
        "\n",
        "else:\n",
        "    mol = gto.M(atom=out, spin=1, basis=\"6-31g\")\n",
        "    uhf = scf.UHF(mol)\n",
        "    uhf.kernel()\n",
        "\n",
        "O_sp   = np.asarray((uhf).mo_occ, dtype=np.int8)\n",
        "N_s    = np.einsum(\"sp -> s\", O_sp)\n",
        "numCI  = ( nCr(O_sp.shape[1], N_s[0]) * nCr(O_sp.shape[1], N_s[1]) )\n",
        "\n",
        "if uhf.converged and numCI < 2000:\n",
        "    print(numCI)\n",
        "\n",
        "    cisolver = fci.FCI(uhf)\n",
        "    pyscf_fci_energy = cisolver.kernel()[0]\n",
        "    print('PySCF: %.15f' % pyscf_fci_energy)\n",
        "\n",
        "    E, Ψ = fci_(uhf)\n",
        "    print(\"Mine : \" + str( E[0] + uhf.energy_nuc() ))\n",
        "\n",
        "    ## compute my solution!!  def fullci_inpyscf(mf): return E, X\n"
      ]
    },
    {
      "cell_type": "code",
      "execution_count": null,
      "metadata": {
        "colab": {
          "base_uri": "https://localhost:8080/",
          "height": 944
        },
        "id": "LC1uM9Tc3MXJ",
        "outputId": "18abd7a1-b277-44a5-d693-95e1794340cf"
      },
      "outputs": [
        {
          "data": {
            "image/png": "[encoded data removed]",
            "text/plain": [
              "<Figure size 288x1152 with 1 Axes>"
            ]
          },
          "metadata": {},
          "output_type": "display_data"
        }
      ],
      "source": [
        "plt.matshow(a)\n",
        "plt.show()"
      ]
    },
    {
      "cell_type": "code",
      "execution_count": null,
      "metadata": {
        "colab": {
          "base_uri": "https://localhost:8080/"
        },
        "id": "DOXRB1GxLQ3t",
        "outputId": "f787cbee-4215-4f66-f7e1-3cb5d9fb50bd"
      },
      "outputs": [
        {
          "name": "stdout",
          "output_type": "stream",
          "text": [
            "converged SCF energy = -1.00465133202327  <S^2> = 3.2858161e-12  2S+1 = 1\n",
            "E(UHF-FCI) = -1.067193764576\n"
          ]
        }
      ],
      "source": [
        "import pyscf\n",
        "mol = gto.M(atom='H 0.0 0.0 0.0; H 1.5 0.0 0.0', spin=0, basis=\"aug-cc-pvtz\")\n",
        "uhf = scf.UHF(mol)\n",
        "uhf.kernel()\n",
        "\n",
        "cisolver = fci.FCI(uhf)\n",
        "print('E(UHF-FCI) = %.12f' % cisolver.kernel()[0])"
      ]
    },
    {
      "cell_type": "markdown",
      "metadata": {
        "id": "Dh9oC5n0LRBq"
      },
      "source": [
        "# Sparse Matrix"
      ]
    },
    {
      "cell_type": "code",
      "execution_count": null,
      "metadata": {
        "id": "3kLlsED5LSIe"
      },
      "outputs": [],
      "source": [
        "import scipy\n",
        "import numpy as np \n",
        "import pickle\n",
        "\n",
        "I = np.eye(10000)  #Had 10000 nonzero values along diagonal\n",
        "S = scipy.sparse.csr_matrix(I)"
      ]
    },
    {
      "cell_type": "code",
      "execution_count": null,
      "metadata": {
        "colab": {
          "base_uri": "https://localhost:8080/",
          "height": 468
        },
        "id": "fAFKBpU5LSa-",
        "outputId": "b2a11cd1-789a-4d97-d5a1-8edbbbd57bab"
      },
      "outputs": [
        {
          "name": "stdout",
          "output_type": "stream",
          "text": [
            "converged SCF energy = -1.74490671773148  <S^2> = 1.5266011e-11  2S+1 = 1\n"
          ]
        },
        {
          "ename": "ValueError",
          "evalue": "ignored",
          "output_type": "error",
          "traceback": [
            "\u001b[0;31m---------------------------------------------------------------------------\u001b[0m",
            "\u001b[0;31mValueError\u001b[0m                                Traceback (most recent call last)",
            "\u001b[0;32m<ipython-input-29-a5a76903528c>\u001b[0m in \u001b[0;36m<module>\u001b[0;34m()\u001b[0m\n\u001b[1;32m     15\u001b[0m \u001b[0mSC1\u001b[0m\u001b[0;34m,\u001b[0m \u001b[0mSC2\u001b[0m \u001b[0;34m=\u001b[0m \u001b[0mSlaterCondon\u001b[0m\u001b[0;34m(\u001b[0m\u001b[0mBinaryy\u001b[0m\u001b[0;34m)\u001b[0m\u001b[0;34m\u001b[0m\u001b[0;34m\u001b[0m\u001b[0m\n\u001b[1;32m     16\u001b[0m \u001b[0;34m\u001b[0m\u001b[0m\n\u001b[0;32m---> 17\u001b[0;31m \u001b[0mH_CI\u001b[0m     \u001b[0;34m=\u001b[0m \u001b[0mCI_H\u001b[0m\u001b[0;34m(\u001b[0m\u001b[0mH1\u001b[0m\u001b[0;34m,\u001b[0m \u001b[0mH2\u001b[0m\u001b[0;34m,\u001b[0m \u001b[0mBinary\u001b[0m\u001b[0;34m,\u001b[0m \u001b[0mSC1\u001b[0m\u001b[0;34m,\u001b[0m \u001b[0mSC2\u001b[0m\u001b[0;34m)\u001b[0m\u001b[0;34m\u001b[0m\u001b[0;34m\u001b[0m\u001b[0m\n\u001b[0m\u001b[1;32m     18\u001b[0m \u001b[0;34m\u001b[0m\u001b[0m\n\u001b[1;32m     19\u001b[0m \u001b[0mH1\u001b[0m\u001b[0;34m,\u001b[0m \u001b[0mH2\u001b[0m   \u001b[0;34m=\u001b[0m \u001b[0mget_SO_matrix\u001b[0m\u001b[0;34m(\u001b[0m\u001b[0mumf\u001b[0m\u001b[0;34m)\u001b[0m\u001b[0;34m\u001b[0m\u001b[0;34m\u001b[0m\u001b[0m\n",
            "\u001b[0;32m<ipython-input-5-a54a48b1a216>\u001b[0m in \u001b[0;36mCI_H\u001b[0;34m(H1, H2, Binary, SC1, SC2)\u001b[0m\n\u001b[1;32m     39\u001b[0m     \u001b[0;31m## Rule 1\u001b[0m\u001b[0;34m\u001b[0m\u001b[0;34m\u001b[0m\u001b[0;34m\u001b[0m\u001b[0m\n\u001b[1;32m     40\u001b[0m     \u001b[0;32mif\u001b[0m \u001b[0ma_t\u001b[0m \u001b[0;32mis\u001b[0m \u001b[0;32mnot\u001b[0m \u001b[0;32mNone\u001b[0m\u001b[0;34m:\u001b[0m\u001b[0;34m\u001b[0m\u001b[0;34m\u001b[0m\u001b[0m\n\u001b[0;32m---> 41\u001b[0;31m         \u001b[0mH_CI\u001b[0m\u001b[0;34m[\u001b[0m\u001b[0mI_A\u001b[0m \u001b[0;34m,\u001b[0m \u001b[0mJ_A\u001b[0m \u001b[0;34m]\u001b[0m \u001b[0;34m-=\u001b[0m \u001b[0mnp\u001b[0m\u001b[0;34m.\u001b[0m\u001b[0meinsum\u001b[0m\u001b[0;34m(\u001b[0m\u001b[0;34m\"pq, Kp, Kq -> K\"\u001b[0m\u001b[0;34m,\u001b[0m \u001b[0mH1\u001b[0m\u001b[0;34m[\u001b[0m\u001b[0;36m0\u001b[0m\u001b[0;34m]\u001b[0m\u001b[0;34m,\u001b[0m \u001b[0ma_t\u001b[0m\u001b[0;34m,\u001b[0m \u001b[0ma\u001b[0m\u001b[0;34m,\u001b[0m \u001b[0moptimize\u001b[0m\u001b[0;34m=\u001b[0m\u001b[0;32mTrue\u001b[0m\u001b[0;34m)\u001b[0m\u001b[0;34m\u001b[0m\u001b[0;34m\u001b[0m\u001b[0m\n\u001b[0m\u001b[1;32m     42\u001b[0m         \u001b[0mH_CI\u001b[0m\u001b[0;34m[\u001b[0m\u001b[0mI_A\u001b[0m \u001b[0;34m,\u001b[0m \u001b[0mJ_A\u001b[0m \u001b[0;34m]\u001b[0m \u001b[0;34m-=\u001b[0m \u001b[0mnp\u001b[0m\u001b[0;34m.\u001b[0m\u001b[0meinsum\u001b[0m\u001b[0;34m(\u001b[0m\u001b[0;34m\"pqrr, Kp, Kq, Kr -> K\"\u001b[0m\u001b[0;34m,\u001b[0m \u001b[0mH2\u001b[0m\u001b[0;34m[\u001b[0m\u001b[0;36m0\u001b[0m\u001b[0;34m,\u001b[0m\u001b[0;36m0\u001b[0m\u001b[0;34m]\u001b[0m\u001b[0;34m,\u001b[0m \u001b[0ma_t\u001b[0m\u001b[0;34m,\u001b[0m \u001b[0ma\u001b[0m\u001b[0;34m,\u001b[0m \u001b[0mca\u001b[0m\u001b[0;34m,\u001b[0m \u001b[0moptimize\u001b[0m\u001b[0;34m=\u001b[0m\u001b[0;32mTrue\u001b[0m\u001b[0;34m)\u001b[0m\u001b[0;34m\u001b[0m\u001b[0;34m\u001b[0m\u001b[0m\n\u001b[1;32m     43\u001b[0m         \u001b[0mH_CI\u001b[0m\u001b[0;34m[\u001b[0m\u001b[0mI_A\u001b[0m \u001b[0;34m,\u001b[0m \u001b[0mJ_A\u001b[0m \u001b[0;34m]\u001b[0m \u001b[0;34m-=\u001b[0m \u001b[0mnp\u001b[0m\u001b[0;34m.\u001b[0m\u001b[0meinsum\u001b[0m\u001b[0;34m(\u001b[0m\u001b[0;34m\"pqrr, Kp, Kq, Kr -> K\"\u001b[0m\u001b[0;34m,\u001b[0m \u001b[0mH2\u001b[0m\u001b[0;34m[\u001b[0m\u001b[0;36m0\u001b[0m\u001b[0;34m,\u001b[0m\u001b[0;36m1\u001b[0m\u001b[0;34m]\u001b[0m\u001b[0;34m,\u001b[0m \u001b[0ma_t\u001b[0m\u001b[0;34m,\u001b[0m \u001b[0ma\u001b[0m\u001b[0;34m,\u001b[0m \u001b[0mBinary\u001b[0m\u001b[0;34m[\u001b[0m\u001b[0mI_A\u001b[0m\u001b[0;34m,\u001b[0m\u001b[0;36m1\u001b[0m\u001b[0;34m]\u001b[0m\u001b[0;34m,\u001b[0m \u001b[0moptimize\u001b[0m\u001b[0;34m=\u001b[0m\u001b[0;32mTrue\u001b[0m\u001b[0;34m)\u001b[0m\u001b[0;34m\u001b[0m\u001b[0;34m\u001b[0m\u001b[0m\n",
            "\u001b[0;32m<__array_function__ internals>\u001b[0m in \u001b[0;36meinsum\u001b[0;34m(*args, **kwargs)\u001b[0m\n",
            "\u001b[0;32m/usr/local/lib/python3.7/dist-packages/numpy/core/einsumfunc.py\u001b[0m in \u001b[0;36meinsum\u001b[0;34m(out, optimize, *operands, **kwargs)\u001b[0m\n\u001b[1;32m   1370\u001b[0m     \u001b[0;31m# Build the contraction list and operand\u001b[0m\u001b[0;34m\u001b[0m\u001b[0;34m\u001b[0m\u001b[0;34m\u001b[0m\u001b[0m\n\u001b[1;32m   1371\u001b[0m     operands, contraction_list = einsum_path(*operands, optimize=optimize,\n\u001b[0;32m-> 1372\u001b[0;31m                                              einsum_call=True)\n\u001b[0m\u001b[1;32m   1373\u001b[0m \u001b[0;34m\u001b[0m\u001b[0m\n\u001b[1;32m   1374\u001b[0m     \u001b[0;31m# Handle order kwarg for output array, c_einsum allows mixed case\u001b[0m\u001b[0;34m\u001b[0m\u001b[0;34m\u001b[0m\u001b[0;34m\u001b[0m\u001b[0m\n",
            "\u001b[0;32m<__array_function__ internals>\u001b[0m in \u001b[0;36meinsum_path\u001b[0;34m(*args, **kwargs)\u001b[0m\n",
            "\u001b[0;32m/usr/local/lib/python3.7/dist-packages/numpy/core/einsumfunc.py\u001b[0m in \u001b[0;36meinsum_path\u001b[0;34m(optimize, einsum_call, *operands)\u001b[0m\n\u001b[1;32m    876\u001b[0m                     raise ValueError(\"Size of label '%s' for operand %d (%d) \"\n\u001b[1;32m    877\u001b[0m                                      \u001b[0;34m\"does not match previous terms (%d).\"\u001b[0m\u001b[0;34m\u001b[0m\u001b[0;34m\u001b[0m\u001b[0m\n\u001b[0;32m--> 878\u001b[0;31m                                      % (char, tnum, dimension_dict[char], dim))\n\u001b[0m\u001b[1;32m    879\u001b[0m             \u001b[0;32melse\u001b[0m\u001b[0;34m:\u001b[0m\u001b[0;34m\u001b[0m\u001b[0;34m\u001b[0m\u001b[0m\n\u001b[1;32m    880\u001b[0m                 \u001b[0mdimension_dict\u001b[0m\u001b[0;34m[\u001b[0m\u001b[0mchar\u001b[0m\u001b[0;34m]\u001b[0m \u001b[0;34m=\u001b[0m \u001b[0mdim\u001b[0m\u001b[0;34m\u001b[0m\u001b[0;34m\u001b[0m\u001b[0m\n",
            "\u001b[0;31mValueError\u001b[0m: Size of label 'p' for operand 1 (15) does not match previous terms (4)."
          ]
        }
      ],
      "source": [
        "\n",
        "mol = gto.M(atom='H 0.0 0.0 0.0; H 1.5 0.0 0.0; H 1.0 0.0 0.0; H 1.5 0.0 1.0', spin=0, basis=\"sto-3g\") ##aug-cc-pvtz\n",
        "umf = scf.UHF(mol)\n",
        "umf.kernel()\n",
        "\n",
        "\n",
        "Binaryy  = get_fci_combos(umf)\n",
        "#H1, H2   = get_SO_matrix(umf)\n",
        "dipole   = (umf.mol).intor(\"int1e_r\")\n",
        "E_t      = np.array([1., 0., 0.])\n",
        "\n",
        "Ca, Cb = (umf).mo_coeff\n",
        "dipole_MO = np.asarray([np.einsum(\"xAB, Ap, Bq -> xpq\", dipole, Ca, Ca), np.einsum(\"xAB, Ap, Bq -> xpq\", dipole, Cb, Cb)])\n",
        "\n",
        "SC1, SC2 = SlaterCondon(Binaryy)\n",
        "\n",
        "H_CI     = CI_H(H1, H2, Binary, SC1, SC2)\n",
        "\n",
        "H1, H2   = get_SO_matrix(umf)"
      ]
    },
    {
      "cell_type": "code",
      "execution_count": null,
      "metadata": {
        "id": "83Af2Dv2Q9WJ"
      },
      "outputs": [],
      "source": [
        ""
      ]
    },
    {
      "cell_type": "code",
      "execution_count": null,
      "metadata": {
        "id": "XLTVZlxaSiJz"
      },
      "outputs": [],
      "source": [
        "!git clone https://github.com/jcandane/Lightfield\n",
        "\n",
        "from Lightfield.lightfield import lightfield\n",
        "import matplotlib.pyplot as plt\n",
        "\n",
        "field3 = lightfield()\n",
        "field3.E0 = -1e-2\n",
        "field3.w  = 50.0\n",
        "field3.Γ  = 1.0\n",
        "field3.dt = 0.002\n",
        "field3.T  = 100\n",
        "field3.k  = np.array([0.,0.,1.])\n",
        "E_t, E_w = field3.get_E()\n",
        "\n",
        "fig, (ax1, ax2) = plt.subplots(1, 2)\n",
        "fig.subplots_adjust(hspace=0.01, wspace=0.25, right=2)\n",
        "\n",
        "ax1.plot(field3.t, E_t )\n",
        "ax1.set_xlim(0, 1)\n",
        "ax1.set_title(\"Real-Time E-Field, E[0] = \" + str(np.linalg.norm(E_t[0])) + \" a.u.\" )\n",
        "ax1.set(xlabel='time (a.u.)', ylabel='E-field (a.u.)')\n",
        "\n",
        "ax2.plot(field3.ω, E_w)\n",
        "ax2.set_title(\"Frequency E-Field\")\n",
        "ax2.set(xlabel='Frequency (a.u.)', ylabel='E-field')\n",
        "\n",
        "fig.show()\n",
        "\n",
        "E_t"
      ]
    },
    {
      "cell_type": "code",
      "execution_count": null,
      "metadata": {
        "id": "nd1E0TpUTVWS"
      },
      "outputs": [],
      "source": [
        "field3.dt"
      ]
    },
    {
      "cell_type": "code",
      "execution_count": null,
      "metadata": {
        "id": "EosMfK_ZCYJK"
      },
      "outputs": [],
      "source": [
        "def Expm(A):\n",
        "    Eigenvalues, Eigenvectors = np.linalg.eig( A )\n",
        "    return Eigenvectors @  np.diag(  np.exp( Eigenvalues)  )  @ np.linalg.inv(Eigenvectors)\n",
        "\n",
        "X   = X[0]\n",
        "X_t = X[0].conj()\n",
        "\n",
        "H0 = H_CI\n",
        "\n",
        "dt = field3.dt\n",
        "\n",
        "for time in range(len(E_t)):\n",
        "    H_int = np.einsum(\"x, sxpq -> spq\", E_t[time], dipole_MO)\n",
        "    U     = Expm( -1j* (H_CI + CI_H1(H_int, SC1)) * dt )\n",
        "    X     = U @ X\n",
        "    X_t   = X_t @ (U.conj().T)"
      ]
    },
    {
      "cell_type": "code",
      "execution_count": null,
      "metadata": {
        "id": "ufnrmzRnCaM3"
      },
      "outputs": [],
      "source": [
        "dipole.shape"
      ]
    },
    {
      "cell_type": "code",
      "execution_count": null,
      "metadata": {
        "id": "fSSe1r_KEx5L"
      },
      "outputs": [],
      "source": [
        ""
      ]
    }
  ],
  "metadata": {
    "colab": {
      "collapsed_sections": [
        "Yp1hG5oE8JK9",
        "0wElohqq_LgU",
        "w2t5yULo_OfQ",
        "ZaEuK7G3_SMe",
        "AQvZ0Tkw_UvR",
        "iz3tZzlgy8rx",
        "dm-H-P8Kz5ex",
        "1mf2YRmjzqfq",
        "Ddodv5Jx0l2M"
      ],
      "name": "FCI56.ipynb",
      "provenance": [],
      "include_colab_link": true
    },
    "kernelspec": {
      "display_name": "Python 3",
      "name": "python3"
    },
    "language_info": {
      "name": "python"
    }
  },
  "nbformat": 4,
  "nbformat_minor": 0
}