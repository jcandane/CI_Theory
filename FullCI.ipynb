{
  "nbformat": 4,
  "nbformat_minor": 0,
  "metadata": {
    "colab": {
      "name": "FullCI.ipynb",
      "provenance": [],
      "collapsed_sections": [],
      "include_colab_link": true
    },
    "kernelspec": {
      "display_name": "Python 3",
      "language": "python",
      "name": "python3"
    },
    "language_info": {
      "codemirror_mode": {
        "name": "ipython",
        "version": 3
      },
      "file_extension": ".py",
      "mimetype": "text/x-python",
      "name": "python",
      "nbconvert_exporter": "python",
      "pygments_lexer": "ipython3",
      "version": "3.7.7"
    }
  },
  "cells": [
    {
      "cell_type": "markdown",
      "metadata": {
        "id": "view-in-github",
        "colab_type": "text"
      },
      "source": [
        "<a href=\"https://colab.research.google.com/github/jcandane/CI_Theory/blob/main/FullCI.ipynb\" target=\"_parent\"><img src=\"https://colab.research.google.com/assets/colab-badge.svg\" alt=\"Open In Colab\"/></a>"
      ]
    },
    {
      "cell_type": "markdown",
      "metadata": {
        "id": "euN_y8TYdGQf"
      },
      "source": [
        "# Full Configuration Interaction (in PySCF)"
      ]
    },
    {
      "cell_type": "code",
      "metadata": {
        "colab": {
          "base_uri": "https://localhost:8080/"
        },
        "id": "pRKnQNT3dIfF",
        "outputId": "5b0cc91a-125f-47d5-eb94-9104dfa90b11"
      },
      "source": [
        "!pip install pyscf \n",
        "!git clone https://github.com/jcandane/CI_Theory\n",
        "\n",
        "import numpy as np\n",
        "import sys\n",
        "sys.path.insert(1, './CI_Theory/')\n",
        "from pyscf_interface import *"
      ],
      "execution_count": 198,
      "outputs": [
        {
          "output_type": "stream",
          "name": "stdout",
          "text": [
            "Requirement already satisfied: pyscf in /usr/local/lib/python3.7/dist-packages (2.0.1)\n",
            "Requirement already satisfied: scipy!=1.5.0,!=1.5.1 in /usr/local/lib/python3.7/dist-packages (from pyscf) (1.4.1)\n",
            "Requirement already satisfied: numpy!=1.16,!=1.17,>=1.13 in /usr/local/lib/python3.7/dist-packages (from pyscf) (1.19.5)\n",
            "Requirement already satisfied: h5py>=2.7 in /usr/local/lib/python3.7/dist-packages (from pyscf) (3.1.0)\n",
            "Requirement already satisfied: cached-property in /usr/local/lib/python3.7/dist-packages (from h5py>=2.7->pyscf) (1.5.2)\n",
            "fatal: destination path 'CI_Theory' already exists and is not an empty directory.\n"
          ]
        }
      ]
    },
    {
      "cell_type": "code",
      "metadata": {
        "id": "cakcK9gpdGQm"
      },
      "source": [
        "from itertools import combinations, permutations\n",
        "import pyscf\n",
        "from pyscf import fci\n",
        "\n",
        "π = np.pi\n",
        "α = 0.007297352\n",
        "c = 1.0/α\n",
        "np.set_printoptions(precision=4, linewidth=200, threshold=2000, suppress=True)"
      ],
      "execution_count": 199,
      "outputs": []
    },
    {
      "cell_type": "code",
      "metadata": {
        "id": "14oASLkqdGQp"
      },
      "source": [
        "def get_Πso(uhf):\n",
        "    \n",
        "    HA = np.einsum(\"AB, Ap, Bq -> pq\", uhf.H, uhf.Ca, uhf.Ca, optimize=True)\n",
        "    HB = np.einsum(\"AB, Ap, Bq -> pq\", uhf.H, uhf.Cb, uhf.Cb, optimize=True)\n",
        "    \n",
        "    ΠAA  = np.einsum(\"ABCD, Ap, Bq, Cr, Ds -> pqrs\", uhf.I, uhf.Ca, uhf.Ca, uhf.Ca, uhf.Ca, optimize=True) ## J\n",
        "    ΠAA -= np.einsum(\"ADCB, Ap, Bq, Cr, Ds -> pqrs\", uhf.I, uhf.Ca, uhf.Ca, uhf.Ca, uhf.Ca, optimize=True) ## K\n",
        "    ΠBB  = np.einsum(\"ABCD, Ap, Bq, Cr, Ds -> pqrs\", uhf.I, uhf.Cb, uhf.Cb, uhf.Cb, uhf.Cb, optimize=True) ## J\n",
        "    ΠBB -= np.einsum(\"ADCB, Ap, Bq, Cr, Ds -> pqrs\", uhf.I, uhf.Cb, uhf.Cb, uhf.Cb, uhf.Cb, optimize=True) ## K\n",
        "    ΠAB  = np.einsum(\"ABCD, Ap, Bq, Cr, Ds -> pqrs\", uhf.I, uhf.Ca, uhf.Ca, uhf.Cb, uhf.Cb, optimize=True)\n",
        "    ΠBA  = np.einsum(\"ABCD, Ap, Bq, Cr, Ds -> pqrs\", uhf.I, uhf.Cb, uhf.Cb, uhf.Ca, uhf.Ca, optimize=True)\n",
        "    \n",
        "    H = np.stack((HA, HB))\n",
        "    Π = np.stack(( np.stack((ΠAA, ΠAB)), np.stack((ΠBA, ΠBB)) ))\n",
        "    return Π, H\n",
        "\n",
        "def ΛMOgetB(Λ, N_mo):\n",
        "  \"Given Λ (i occupied orbitals for each determinant) get B (binary rep.)\"\n",
        "\n",
        "  Binary  = np.zeros((Λ.shape[0], N_mo), dtype=np.int8)\n",
        "  for I in range(len(Binary)):\n",
        "      Binary[I, Λ[I,:]] = 1\n",
        "\n",
        "  return Binary\n",
        "\n",
        "def givenΛgetB(ΛA, ΛB, N_mo):\n",
        "  \"Given Λ (i occupied orbitals for each determinant) get B (binary rep.)\"\n",
        "\n",
        "  Binary  = np.zeros((ΛA.shape[0], 2, N_mo), dtype=np.int8)\n",
        "  for I in range(len(Binary)):\n",
        "      Binary[I, 0, ΛA[I,:]] = 1\n",
        "      Binary[I, 1, ΛB[I,:]] = 1\n",
        "\n",
        "  return Binary\n",
        "\n",
        "def givenBgetΛ(B):\n",
        "  \"Given B (entire MO binary occupation) get Λ (i occupied)\"\n",
        "\n",
        "  numA = len( (B[0,0])[ B[0,0] == 1 ] ) ## count num. of A occupied\n",
        "  numB = len( (B[0,1])[ B[0,1] == 1 ] ) ## count num. of B occupied\n",
        "\n",
        "  ΛA = np.zeros((B.shape[0], numA), dtype=np.int8)\n",
        "  ΛB = np.zeros((B.shape[0], numB), dtype=np.int8)\n",
        "  for I in range(len(Λ)):\n",
        "    ΛA[I] = np.where(B == 1)[1]\n",
        "    ΛB[I] = np.where(B == 1)[1]\n",
        "\n",
        "  return ΛA, ΛB\n",
        "\n",
        "def Ext(A, N, numtype=np.int8):\n",
        "    if A.ndim == 1:\n",
        "      return np.einsum(\"I, j -> Ij\", A, np.ones( N, dtype=numtype))\n",
        "    if A.ndim == 2:\n",
        "      return np.einsum(\"uI, j -> uIj\", A, np.ones( N, dtype=numtype))\n",
        "\n",
        "def SpinOuterProduct(A, B, stack=False):\n",
        "  ΛA = np.einsum(\"Ii, J -> IJi\", A, np.ones(B.shape[0], dtype=np.int8)).reshape( (A.shape[0]*B.shape[0], A.shape[1]) )\n",
        "  ΛB = np.einsum(\"Ii, J -> JIi\", B, np.ones(A.shape[0], dtype=np.int8)).reshape( (A.shape[0]*B.shape[0], B.shape[1]) )\n",
        "  \n",
        "  if stack:\n",
        "    return np.array([ΛA,ΛB])\n",
        "  else:\n",
        "    return ΛA, ΛB"
      ],
      "execution_count": 200,
      "outputs": []
    },
    {
      "cell_type": "markdown",
      "metadata": {
        "id": "VbuEbIvsdGQq"
      },
      "source": [
        "#### Now here lets define our Molecule "
      ]
    },
    {
      "cell_type": "code",
      "metadata": {
        "id": "n84f5LxrdGQr"
      },
      "source": [
        "#Z_HH = np.array([\"He\", \"H\", \"H\"])\n",
        "#R_HH = np.array([[ 0., 0., 0.], [ 0., 1.5, 0.], [0., 0., 1.5]])\n",
        "#Z_HH = np.array([\"H\", \"H\"]) #np.array([\"Be\", \"H\", \"H\"])\n",
        "#R_HH = np.array([[ 0., 1.5, 0.], [0., 0., 1.5]])  #np.array([[ 0., 0., 0.], [ 0., 1.5, 0.], [0., 0., 1.5]])\n",
        "#Z_HH = np.array([\"H\", \"H\", \"H\", \"H\"])\n",
        "#R_HH = np.array([[ 0., 0., 0.], [ 1.5, 0.0, 0.], [ 0., 1.5, 0.], [0., 0., 1.5]])\n",
        "Z_HH = np.array([\"He\", \"H\", \"He\", \"O\"])\n",
        "R_HH = np.array([[ 0., 0., 0.], [ 1.5, 0.0, 0.], [ 0., 1.5, 0.], [0., 0., 1.5]])\n",
        "#Z_HH = np.array([\"He\", \"H\", \"He\", \"H\"])\n",
        "#R_HH = np.array([[ 0., 0., 0.], [ 1.5, 0.0, 0.], [ 0., 1.5, 0.], [0., 0., 1.5]])\n",
        "\n",
        "#Z_HH = np.array([\"H\", \"H\", \"H\", \"H\"])\n",
        "#R_HH = np.array([[ 0., 0., 0.], [ 1.5, 0.0, 0.], [ 0., 1.5, 0.], [0., 0., 1.5]])\n",
        "\n",
        "#Z_HH = np.array([\"H\", \"H\"])\n",
        "#R_HH = np.array([[ 0., 0., 0.], [ 0., 0.0, 2.3]])\n",
        "\n",
        "HH = pyscf_UHF()\n",
        "HH.initialize(xyz=R_HH, Z=Z_HH, charge=0, basis=\"sto-3g\") ##-1\n",
        "HH.Calc()\n",
        "\n",
        "#print(HH.__dict__)\n",
        "\n",
        "cisolver = pyscf.fci.FCI(HH.pyscfuhf,singlet=False)\n",
        "cisolver.nroots = 100 # 100\n",
        "cisolver.spin = 0\n",
        "cisolver.davidson_only = False\n",
        "#cisolver.singlet=False\n",
        "pyscf_fci_energy = cisolver.kernel()[0]"
      ],
      "execution_count": 262,
      "outputs": []
    },
    {
      "cell_type": "markdown",
      "metadata": {
        "id": "oxTCMTfodGQs"
      },
      "source": [
        "### Slater-Condon Preperation"
      ]
    },
    {
      "cell_type": "markdown",
      "metadata": {
        "id": "ABSi_KvsJHCO"
      },
      "source": [
        "CI Combinatorics"
      ]
    },
    {
      "cell_type": "code",
      "metadata": {
        "id": "Ew00PQWOdGQt"
      },
      "source": [
        "Π, H = get_Πso(HH)\n",
        "\n",
        "N  = len(HH.S) ## number of MOs\n",
        "Na = HH.Na\n",
        "Nb = HH.Nb\n",
        "\n",
        "O_α = np.asarray( list(combinations(  np.arange(0, N, 1, dtype=np.int8)  , Na ) ) ) ### all possible combinations of Nα electrons in N MO-orbitals!\n",
        "O_β = np.asarray( list(combinations(  np.arange(0, N, 1, dtype=np.int8)  , Nb ) ) )  "
      ],
      "execution_count": 202,
      "outputs": []
    },
    {
      "cell_type": "code",
      "metadata": {
        "id": "DlgpAJTladC3",
        "colab": {
          "base_uri": "https://localhost:8080/"
        },
        "outputId": "2f07b9df-cdd7-4495-fd52-537097805e0e"
      },
      "source": [
        "refex = np.array([0, 1, 0, 1, 1, 0, 0], dtype=np.int8)\n",
        "refMR = np.array([[0, 1, 0, 1, 1, 0, 0],[0, 1, 1, 1, 0, 0, 0],[0, 1, 0, 0, 1, 0, 1]], dtype=np.int8)\n",
        "\n",
        "RAS = np.array([2, 3, 4], dtype=np.int8)\n",
        "\n",
        "def CI_Choice(reference, m):\n",
        "\n",
        "  ### if reference is 1D\n",
        "  if reference.ndim == 1: \n",
        "    Λ = np.where(reference == 1)[0]\n",
        "    V = np.where(reference == 0)[0]\n",
        "\n",
        "    if len(Λ) > m-1:\n",
        "      Λ_sample = np.asarray( list(combinations(  Λ  , len(Λ) - m ) ) , dtype=np.int8)\n",
        "      V_sample = np.asarray( list(combinations(  V  , m          ) ) , dtype=np.int8)\n",
        "\n",
        "      a_Ii = np.empty((len(Λ_sample)*len(V_sample), len(Λ) ), dtype=np.int8)\n",
        "      a_Ii[:,:len(Λ) - m ] = np.repeat(Λ_sample, len(V_sample), axis=0)\n",
        "      a_Ii[:, len(Λ) - m:] = np.repeat(V_sample, len(Λ_sample), axis=1).reshape((len(Λ_sample)*len(V_sample), V_sample.shape[1]), order=\"F\")\n",
        "      a_Ii = np.sort(a_Ii, axis=1)\n",
        "      return np.unique(a_Ii, axis=0)\n",
        "    \n",
        "    else:\n",
        "      return None\n",
        "\n",
        "  ### if reference is 2D (this is MR-CI)\n",
        "  if reference.ndim == 2:\n",
        "    if len(np.where(reference[0] == 1)[0]) > m-1:\n",
        "      for i in range(len(reference)):\n",
        "        Λ = np.where(reference[i] == 1)[0]\n",
        "        V = np.where(reference[i] == 0)[0]\n",
        "\n",
        "        Λ_sample = np.asarray( list(combinations(  Λ  , len(Λ) - m ) ) , dtype=np.int8)\n",
        "        V_sample = np.asarray( list(combinations(  V  , m          ) ) , dtype=np.int8)\n",
        "\n",
        "        a_new = np.empty((len(Λ_sample)*len(V_sample), len(Λ) ), dtype=np.int8)\n",
        "        a_new[:,:len(Λ) - m ] = np.repeat(Λ_sample, len(V_sample), axis=0)\n",
        "        a_new[:, len(Λ) - m:] = np.repeat(V_sample, len(Λ_sample), axis=1).reshape((len(Λ_sample)*len(V_sample), V_sample.shape[1]), order=\"F\")\n",
        "        a_new = np.sort(a_new, axis=1) \n",
        "\n",
        "        if i == 0:\n",
        "          a_Ii = a_new\n",
        "        else:\n",
        "          a_Ii = np.append(a_Ii, a_new, axis=0)\n",
        "      \n",
        "      return np.unique(a_Ii, axis=0)\n",
        "\n",
        "    else:\n",
        "      return None\n",
        "\n",
        "print( CI_Choice(refex, 3) )\n",
        "print( CI_Choice(refMR, 3) )"
      ],
      "execution_count": 203,
      "outputs": [
        {
          "output_type": "stream",
          "name": "stdout",
          "text": [
            "[[0 2 5]\n",
            " [0 2 6]\n",
            " [0 5 6]\n",
            " [2 5 6]]\n",
            "[[0 2 3]\n",
            " [0 2 5]\n",
            " [0 2 6]\n",
            " [0 3 5]\n",
            " [0 4 5]\n",
            " [0 4 6]\n",
            " [0 5 6]\n",
            " [2 3 5]\n",
            " [2 5 6]\n",
            " [4 5 6]]\n"
          ]
        }
      ]
    },
    {
      "cell_type": "code",
      "source": [
        "### for a single reference in binary, for 1 spin get all m-excitations, yield binary\n",
        "\n",
        "def MOCI_m(reference, m):\n",
        "  \"\"\" \n",
        "  m-level CI excitations on an MO \n",
        "  m=0 should return the reference\n",
        "  \"\"\"\n",
        "\n",
        "  Λ = np.where(reference == 1)[0]\n",
        "  V = np.where(reference == 0)[0]\n",
        "\n",
        "  if len(Λ) > m-1 and len(V) > m-1:\n",
        "    Λ_sample = np.asarray( list(combinations(  Λ  , len(Λ) - m ) ) , dtype=np.int8)\n",
        "    V_sample = np.asarray( list(combinations(  V  , m          ) ) , dtype=np.int8)\n",
        "\n",
        "    a_new = np.empty((len(Λ_sample)*len(V_sample), len(Λ) ), dtype=np.int8)\n",
        "    a_new[:,:len(Λ) - m ] = np.repeat(Λ_sample, len(V_sample), axis=0)\n",
        "    a_new[:, len(Λ) - m:] = np.repeat(V_sample, len(Λ_sample), axis=1).reshape((len(Λ_sample)*len(V_sample), V_sample.shape[1]), order=\"F\")\n",
        "    a_new = np.sort(a_new, axis=1)\n",
        "\n",
        "    return ΛMOgetB(a_new, len(reference))\n",
        "\n",
        "  else:\n",
        "      return None\n",
        "\n",
        "def SOCI_m(SOreference_sq, Excitation):\n",
        "  \"\"\" \n",
        "  m-level CI excitations on an SO \n",
        "  m=0 should return the reference\n",
        "  \"\"\"\n",
        "\n",
        "  refA = SOreference_sq[0]\n",
        "  refB = SOreference_sq[1]\n",
        "\n",
        "  first = True\n",
        "  for m in Excitation:\n",
        "    for j in range(m+1):\n",
        "      if len(np.where(refA == 1)[0]) > j-1 and len(np.where(refB == 1)[0]) > m-j-1:\n",
        "        A = SpinOuterProduct( MOCI_m(refA, j) , MOCI_m(refB, m-j) , stack=True)\n",
        "\n",
        "        if first:\n",
        "          B = A\n",
        "          first = False\n",
        "        else:\n",
        "          B = np.append(B, A, axis=1)\n",
        "      else:\n",
        "        continue\n",
        "\n",
        "  return B\n",
        "\n",
        "def MRRASCI(SOreference_sq, m, RAS):\n",
        "  \"\"\" Compute RASCI \"\"\"\n",
        "\n",
        "  RASref = SOreference_sq[:,RAS]\n",
        "  RASCI  = SOCI_m(RASref, m)\n",
        "\n",
        "  out = Ext(SOreference_sq, RASCI.shape[1]).swapaxes(1,2)\n",
        "  out[:, :, RAS] = RASCI\n",
        "\n",
        "  return out"
      ],
      "metadata": {
        "id": "8qeJMZtv0fXZ"
      },
      "execution_count": 204,
      "outputs": []
    },
    {
      "cell_type": "code",
      "source": [
        "RAS     = np.array([2, 3, 4, 5], dtype=np.int8)\n",
        "refexSO = np.array([[0, 1, 0, 1, 1, 0, 0], [0, 1, 1, 0, 0, 1, 0]], dtype=np.int8)\n",
        "\n",
        "MRRASCI(refexSO, [0,2], RAS)"
      ],
      "metadata": {
        "colab": {
          "base_uri": "https://localhost:8080/"
        },
        "id": "eaWqqts-Ud4I",
        "outputId": "fc709b50-64f4-4658-aa55-2666c4f3b4d2"
      },
      "execution_count": 205,
      "outputs": [
        {
          "output_type": "execute_result",
          "data": {
            "text/plain": [
              "array([[[0, 1, 0, 1, 1, 0, 0],\n",
              "        [0, 1, 0, 1, 1, 0, 0],\n",
              "        [0, 1, 1, 1, 0, 0, 0],\n",
              "        [0, 1, 1, 1, 0, 0, 0],\n",
              "        [0, 1, 1, 1, 0, 0, 0],\n",
              "        [0, 1, 1, 1, 0, 0, 0],\n",
              "        [0, 1, 0, 1, 0, 1, 0],\n",
              "        [0, 1, 0, 1, 0, 1, 0],\n",
              "        [0, 1, 0, 1, 0, 1, 0],\n",
              "        [0, 1, 0, 1, 0, 1, 0],\n",
              "        [0, 1, 1, 0, 1, 0, 0],\n",
              "        [0, 1, 1, 0, 1, 0, 0],\n",
              "        [0, 1, 1, 0, 1, 0, 0],\n",
              "        [0, 1, 1, 0, 1, 0, 0],\n",
              "        [0, 1, 0, 0, 1, 1, 0],\n",
              "        [0, 1, 0, 0, 1, 1, 0],\n",
              "        [0, 1, 0, 0, 1, 1, 0],\n",
              "        [0, 1, 0, 0, 1, 1, 0],\n",
              "        [0, 1, 1, 0, 0, 1, 0]],\n",
              "\n",
              "       [[0, 1, 1, 0, 0, 1, 0],\n",
              "        [0, 1, 0, 1, 1, 0, 0],\n",
              "        [0, 1, 1, 1, 0, 0, 0],\n",
              "        [0, 1, 1, 0, 1, 0, 0],\n",
              "        [0, 1, 0, 1, 0, 1, 0],\n",
              "        [0, 1, 0, 0, 1, 1, 0],\n",
              "        [0, 1, 1, 1, 0, 0, 0],\n",
              "        [0, 1, 1, 0, 1, 0, 0],\n",
              "        [0, 1, 0, 1, 0, 1, 0],\n",
              "        [0, 1, 0, 0, 1, 1, 0],\n",
              "        [0, 1, 1, 1, 0, 0, 0],\n",
              "        [0, 1, 1, 0, 1, 0, 0],\n",
              "        [0, 1, 0, 1, 0, 1, 0],\n",
              "        [0, 1, 0, 0, 1, 1, 0],\n",
              "        [0, 1, 1, 1, 0, 0, 0],\n",
              "        [0, 1, 1, 0, 1, 0, 0],\n",
              "        [0, 1, 0, 1, 0, 1, 0],\n",
              "        [0, 1, 0, 0, 1, 1, 0],\n",
              "        [0, 1, 1, 0, 0, 1, 0]]], dtype=int8)"
            ]
          },
          "metadata": {},
          "execution_count": 205
        }
      ]
    },
    {
      "cell_type": "markdown",
      "metadata": {
        "id": "ctra-Q--JJ6_"
      },
      "source": [
        "Differences"
      ]
    },
    {
      "cell_type": "code",
      "metadata": {
        "id": "jCyI04F2aTaJ"
      },
      "source": [
        "ΛA, ΛB = SpinOuterProduct(O_α, O_β)\n",
        "\n",
        "Binary         = givenΛgetB(ΛA, ΛB, N)\n",
        "Difference     = np.einsum(\"Isp, J -> IJsp\", Binary, np.ones(len(Binary), dtype=np.int8)) - np.einsum(\"Isp, J -> JIsp\", Binary, np.ones(len(Binary), dtype=np.int8))\n",
        "Sum            = np.einsum(\"Isp, J -> IJsp\", Binary, np.ones(len(Binary), dtype=np.int8)) + np.einsum(\"Isp, J -> JIsp\", Binary, np.ones(len(Binary), dtype=np.int8))\n",
        "SpinDifference = np.einsum(\"IJsp -> IJs\", np.abs(Difference))//2\n",
        "\n",
        "### Get the Sign for each Configuration\n",
        "signA = np.cumsum( Binary[:,0,:] , axis=1)\n",
        "signB = np.cumsum( Binary[:,1,:] , axis=1)\n",
        "for I in range(len(ΛA)):\n",
        "  signA[I, ΛA[I]] = np.arange(0, Na, 1)\n",
        "  signB[I, ΛB[I]] = np.arange(0, Nb, 1)\n",
        "\n",
        "Γ_IAp = ( (-1)**(signA) ).astype(np.int8)\n",
        "Γ_IBp = ( (-1)**(signB) ).astype(np.int8)"
      ],
      "execution_count": 206,
      "outputs": []
    },
    {
      "cell_type": "markdown",
      "metadata": {
        "id": "dTUUGCc9dGQv"
      },
      "source": [
        "### Slater-Condon Rules 0 \\& 3"
      ]
    },
    {
      "cell_type": "code",
      "metadata": {
        "id": "9dDvr7e3dGQw"
      },
      "source": [
        "AB = Ext(ΛA, Nb)\n",
        "BA = Ext(ΛB, Na)\n",
        "AA = Ext(ΛA, Na)\n",
        "BB = Ext(ΛB, Nb)\n",
        "\n",
        "Rule0  = np.einsum(\"Ii  -> I\", H[0, ΛA, ΛA]) \n",
        "Rule0 += np.einsum(\"Ii  -> I\", H[1, ΛB, ΛB])\n",
        "Rule0 += np.einsum(\"Iij -> I\", Π[0, 0, AA, AA, AA.swapaxes(1,2), AA.swapaxes(1,2)])/2\n",
        "Rule0 += np.einsum(\"Iij -> I\", Π[1, 0, BA, BA, AB.swapaxes(1,2), AB.swapaxes(1,2)])/2\n",
        "Rule0 += np.einsum(\"Iij -> I\", Π[0, 1, AB, AB, BA.swapaxes(1,2), BA.swapaxes(1,2)])/2\n",
        "Rule0 += np.einsum(\"Iij -> I\", Π[1, 1, BB, BB, BB.swapaxes(1,2), BB.swapaxes(1,2)])/2\n",
        "\n",
        "H_CI = np.diag(Rule0)"
      ],
      "execution_count": 208,
      "outputs": []
    },
    {
      "cell_type": "markdown",
      "metadata": {
        "id": "D5pL59OZdGQx"
      },
      "source": [
        "### Slater-Condon Rule 1"
      ]
    },
    {
      "cell_type": "code",
      "metadata": {
        "id": "m_6p3KXadGQx"
      },
      "source": [
        "### indices for 1-difference\n",
        "I_A, J_A = np.where( np.all(SpinDifference==np.array([1,0], dtype=np.int8), axis=2) )\n",
        "I_B, J_B = np.where( np.all(SpinDifference==np.array([0,1], dtype=np.int8), axis=2) )\n",
        "\n",
        "A_t  = (np.where( Difference[I_A, J_A, 0] ==  1 )[1]).astype(np.int8)\n",
        "A    = (np.where( Difference[I_A, J_A, 0] == -1 )[1]).astype(np.int8)\n",
        "B_t  = (np.where( Difference[I_B, J_B, 1] ==  1 )[1]).astype(np.int8)\n",
        "B    = (np.where( Difference[I_B, J_B, 1] == -1 )[1]).astype(np.int8)\n",
        "CA_i = (np.where( Sum[I_A, J_A, 0] == 2 )[1]).reshape(len(I_A), Na-1)\n",
        "CB_i = (np.where( Sum[I_B, J_B, 1] == 2 )[1]).reshape(len(I_B), Nb-1)\n",
        "\n",
        "if I_A.size > 0:\n",
        "  H_CI[I_A, J_A]  = H[0, A, A_t]\n",
        "  H_CI[I_A, J_A] += np.einsum(\"In -> I\", Π[0, 0, Ext(A, Na-1), Ext(A_t, Na-1), CA_i, CA_i])\n",
        "  H_CI[I_A, J_A] += np.einsum(\"Ii -> I\", Π[0, 1, Ext(A, Nb  ), Ext(A_t, Nb  ), ΛB[I_A], ΛB[J_A]])\n",
        "  H_CI[I_A, J_A] *= Γ_IAp[I_A, A_t] * Γ_IAp[J_A, A]\n",
        "\n",
        "if I_B.size > 0:\n",
        "  H_CI[I_B, J_B]  = H[1, B, B_t]\n",
        "  H_CI[I_B, J_B] += np.einsum(\"In -> I\", Π[1, 1, Ext(B, Nb-1), Ext(B_t, Nb-1), CB_i, CB_i])\n",
        "  H_CI[I_B, J_B] += np.einsum(\"Ii -> I\", Π[1, 0, Ext(B, Na  ), Ext(B_t, Na  ), ΛA[I_B], ΛA[J_B]])\n",
        "  H_CI[I_B, J_B] *= Γ_IBp[I_B, B_t] * Γ_IBp[J_B, B]"
      ],
      "execution_count": 209,
      "outputs": []
    },
    {
      "cell_type": "code",
      "source": [
        "CA_i.shape\n",
        "\n",
        "Γ_IAp[I_A, A_t].shape\n",
        "\n",
        "A_t.shape"
      ],
      "metadata": {
        "id": "avyJfH2hqFU5",
        "outputId": "584544a4-ec64-4570-da9b-c7a0d636e16d",
        "colab": {
          "base_uri": "https://localhost:8080/"
        }
      },
      "execution_count": 210,
      "outputs": [
        {
          "output_type": "execute_result",
          "data": {
            "text/plain": [
              "(1568,)"
            ]
          },
          "metadata": {},
          "execution_count": 210
        }
      ]
    },
    {
      "cell_type": "markdown",
      "metadata": {
        "id": "ubWpDRmsdGQ0"
      },
      "source": [
        "### Slater-Condon Rule 2"
      ]
    },
    {
      "cell_type": "code",
      "metadata": {
        "id": "4TSoqzjwdGQ0"
      },
      "source": [
        "### get indices with differences by 2\n",
        "I_AA, J_AA = np.where( np.all(SpinDifference==np.array([2,0], dtype=np.int8), axis=2) )\n",
        "I_BB, J_BB = np.where( np.all(SpinDifference==np.array([0,2], dtype=np.int8), axis=2) )\n",
        "I_AB, J_AB = np.where( np.all(SpinDifference==np.array([1,1], dtype=np.int8), axis=2) )\n",
        "\n",
        "AA   = np.where( Difference[I_AA, J_AA, 0] == -1)[1].reshape(len(I_AA),2).T\n",
        "AA_t = np.where( Difference[I_AA, J_AA, 0] ==  1)[1].reshape(len(I_AA),2).T\n",
        "BB   = np.where( Difference[I_BB, J_BB, 1] == -1)[1].reshape(len(I_BB),2).T\n",
        "BB_t = np.where( Difference[I_BB, J_BB, 1] ==  1)[1].reshape(len(I_BB),2).T\n",
        "AB   = np.asarray([ np.where( Difference[I_AB, J_AB, 0] == -1 )[1], np.where( Difference[I_AB, J_AB, 1] == -1 )[1] ])\n",
        "AB_t = np.asarray([ np.where( Difference[I_AB, J_AB, 0] ==  1 )[1], np.where( Difference[I_AB, J_AB, 1] ==  1 )[1] ])\n",
        "\n",
        "if I_AA.size > 0: \n",
        "    H_CI[I_AA, J_AA]  = Π[0, 0, AA[0], AA_t[0], AA[1], AA_t[1]]\n",
        "    H_CI[I_AA, J_AA] *= Γ_IAp[I_AA, AA[0]] * Γ_IAp[J_AA, AA_t[0]] * Γ_IAp[I_AA, AA[1]] * Γ_IAp[J_AA, AA_t[1]]\n",
        "if I_BB.size > 0: \n",
        "    H_CI[I_BB, J_BB]  = Π[1, 1, BB[0], BB_t[0], BB[1], BB_t[1]]\n",
        "    H_CI[I_BB, J_BB] *= Γ_IBp[I_BB, BB[0]] * Γ_IBp[J_BB, BB_t[0]] * Γ_IBp[I_BB, BB[1]] * Γ_IBp[J_BB, BB_t[1]]\n",
        "if I_AB.size > 0:\n",
        "    H_CI[I_AB, J_AB]  = Π[0, 1, AB[0], AB_t[0], AB[1], AB_t[1]]\n",
        "    H_CI[I_AB, J_AB] *= Γ_IAp[I_AB, AB[0]] * Γ_IAp[J_AB, AB_t[0]] * Γ_IBp[I_AB, AB[1]] * Γ_IBp[J_AB, AB_t[1]]"
      ],
      "execution_count": 211,
      "outputs": []
    },
    {
      "cell_type": "markdown",
      "metadata": {
        "id": "kNvP833KM_0p"
      },
      "source": [
        "# Compare"
      ]
    },
    {
      "cell_type": "markdown",
      "metadata": {
        "id": "VmJdbtAINBTb"
      },
      "source": [
        ""
      ]
    },
    {
      "cell_type": "code",
      "metadata": {
        "colab": {
          "base_uri": "https://localhost:8080/"
        },
        "id": "_joaXfpxdGQ2",
        "outputId": "1c2ab950-f48d-4857-8e27-38d11fbc2d40"
      },
      "source": [
        "nuclear_rep = HH.nuclei_energy\n",
        "e_fci_my, X_IJ = np.linalg.eigh(H_CI)\n",
        "\n",
        "print(\"pyscf : \" + str(pyscf_fci_energy[0] ))\n",
        "print(\"Mine  : \" + str( e_fci_my[0] + nuclear_rep ))"
      ],
      "execution_count": 214,
      "outputs": [
        {
          "output_type": "stream",
          "name": "stdout",
          "text": [
            "pyscf : -79.79748205120346\n",
            "Mine  : -79.79748205120346\n"
          ]
        }
      ]
    },
    {
      "cell_type": "code",
      "metadata": {
        "colab": {
          "base_uri": "https://localhost:8080/"
        },
        "id": "SYaBlmx41-P-",
        "outputId": "cbaf1ceb-3b74-47d1-adb9-7c845cfc702e"
      },
      "source": [
        "H_CI.shape"
      ],
      "execution_count": 213,
      "outputs": [
        {
          "output_type": "execute_result",
          "data": {
            "text/plain": [
              "(224, 224)"
            ]
          },
          "metadata": {},
          "execution_count": 213
        }
      ]
    },
    {
      "cell_type": "code",
      "source": [
        "e_fci_my, X_IJ = np.linalg.eig(H_CI)\n",
        "np.allclose( (H_CI @ X_IJ), (e_fci_my * X_IJ) )\n",
        "print(X_IJ @ X_IJ.T)\n",
        "#np.allclose( (H_CI @ X_IJ[:,8]), (e_fci_my[8] * X_IJ[:,8]) )\n",
        "print( (X_IJ @ X_IJ)[2,3] )\n"
      ],
      "metadata": {
        "id": "OR_uI9XoFumw",
        "outputId": "c81fe579-4ead-4b84-9ca5-32cb26dd2f53",
        "colab": {
          "base_uri": "https://localhost:8080/"
        }
      },
      "execution_count": 314,
      "outputs": [
        {
          "output_type": "stream",
          "name": "stdout",
          "text": [
            "[[ 1.  0.  0. ... -0.  0.  0.]\n",
            " [ 0.  1.  0. ... -0.  0.  0.]\n",
            " [ 0.  0.  1. ...  0. -0.  0.]\n",
            " ...\n",
            " [-0. -0.  0. ...  1.  0.  0.]\n",
            " [ 0.  0. -0. ...  0.  1.  0.]\n",
            " [ 0.  0.  0. ...  0.  0.  1.]]\n",
            "0.004394591315499475\n"
          ]
        }
      ]
    },
    {
      "cell_type": "code",
      "source": [
        "norb = (HH.pyscfuhf).mo_coeff.shape[1]\n",
        "# 6 alpha electrons, 4 beta electrons because spin = nelec_a-nelec_b = 2\n",
        "nelec_a = Na\n",
        "nelec_b = Nb\n",
        "\n",
        "#(cisolver.kernel()).make_rdm1()\n",
        "#fcivec = X_IJ\n",
        "#e, fcivec = cisolver.kernel()\n",
        "#rdm1 = cisolver.make_rdm1s(fcivec, norb, Na+Nb)"
      ],
      "metadata": {
        "id": "ZNlCDFi6FyK1"
      },
      "execution_count": 263,
      "outputs": []
    },
    {
      "cell_type": "code",
      "source": [
        "##### https://pyscf.org/user/ci.html\n",
        "mol = gto.Mole()\n",
        "mol.build(\n",
        "    atom = 'H 0 0 0; F 0 0 1.1',  # in Angstrom\n",
        "    basis = '6-31g',\n",
        "    spin = 2,\n",
        ")\n",
        "myhf = scf.RHF(mol)\n",
        "myhf.kernel()\n",
        "\n",
        "cisolver = fci.FCI(mol, myhf.mo_coeff)\n",
        "e, fcivec = cisolver.kernel()\n",
        "\n",
        "#\n",
        "# Spin-traced 1-particle density matrix\n",
        "#\n",
        "norb = myhf.mo_coeff.shape[1]\n",
        "# 6 alpha electrons, 4 beta electrons because spin = nelec_a-nelec_b = 2\n",
        "nelec_a = 6\n",
        "nelec_b = 4\n",
        "dm1 = cisolver.make_rdm1(fcivec, norb, (nelec_a,nelec_b))\n",
        "print(dm1.shape)\n",
        "#\n",
        "# alpha and beta 1-particle density matrices\n",
        "#\n",
        "dm1a, dm1b = cisolver.make_rdm1s(fcivec, norb, (nelec_a,nelec_b))\n",
        "assert(numpy.allclose(dm1a+dm1b, dm1))\n",
        "\n",
        "#\n",
        "# Spin-traced 1 and 2-particle density matrices\n",
        "#\n",
        "dm1, dm2 = cisolver.make_rdm12(fcivec, norb, (nelec_a,nelec_b))\n",
        "print(dm1.shape)\n",
        "#\n",
        "# alpha and beta 1-particle density matrices\n",
        "# For 2-particle density matrix,\n",
        "# dm2aa corresponds to alpha spin for both 1st electron and 2nd electron\n",
        "# dm2ab corresponds to alpha spin for 1st electron and beta spin for 2nd electron\n",
        "# dm2bb corresponds to beta spin for both 1st electron and 2nd electron\n",
        "#\n",
        "(dm1a, dm1b), (dm2aa,dm2ab,dm2bb) = cisolver.make_rdm12s(fcivec, norb, (nelec_a,nelec_b))\n",
        "assert(numpy.allclose(dm2aa+dm2ab+dm2ab.transpose(2,3,0,1)+dm2bb, dm2))"
      ],
      "metadata": {
        "id": "dQL4q90hGOr_",
        "outputId": "e32fc1a3-31a6-4119-d147-6ab9980e691d",
        "colab": {
          "base_uri": "https://localhost:8080/"
        }
      },
      "execution_count": 270,
      "outputs": [
        {
          "output_type": "stream",
          "name": "stdout",
          "text": [
            "converged SCF energy = -99.730172125613\n",
            "(11, 11)\n",
            "(11, 11)\n"
          ]
        }
      ]
    },
    {
      "cell_type": "code",
      "source": [
        "#########################################\n",
        "#\n",
        "# Transition density matrices\n",
        "#\n",
        "#########################################\n",
        "\n",
        "#\n",
        "# First generate two CI vectors, of which the transition density matrices will\n",
        "# be computed\n",
        "#\n",
        "cisolver.nroots = 2\n",
        "(e0,e1), (fcivec0,fcivec1) = cisolver.kernel()\n",
        "\n",
        "#\n",
        "# Spin-traced 1-particle transition density matrix\n",
        "# <0| p^+ q |1>\n",
        "#\n",
        "norb = myhf.mo_coeff.shape[1]\n",
        "nelec_a = 6\n",
        "nelec_b = 4\n",
        "dm1 = cisolver.trans_rdm1(fcivec1, fcivec1, norb, (nelec_a,nelec_b))\n",
        "\n",
        "dm1"
      ],
      "metadata": {
        "id": "kekPPWRsJHvX",
        "outputId": "9f499908-e116-4e33-90d7-e384394dfaba",
        "colab": {
          "base_uri": "https://localhost:8080/"
        }
      },
      "execution_count": 260,
      "outputs": [
        {
          "output_type": "execute_result",
          "data": {
            "text/plain": [
              "array([[ 2.    , -0.    , -0.    , -0.    , -0.    , -0.    ,  0.    ,  0.    ,  0.    , -0.0001, -0.0001],\n",
              "       [-0.    ,  1.9919,  0.0009, -0.    , -0.    ,  0.0071, -0.0011,  0.    ,  0.    ,  0.0033,  0.0015],\n",
              "       [-0.    ,  0.0009,  1.9839,  0.    ,  0.    , -0.0195,  0.0083,  0.    ,  0.    ,  0.0005,  0.0014],\n",
              "       [-0.    , -0.    ,  0.    ,  0.9948, -0.015 , -0.    ,  0.    , -0.0264, -0.0009,  0.    , -0.    ],\n",
              "       [-0.    , -0.    ,  0.    , -0.015 ,  1.9842, -0.    ,  0.    , -0.0005,  0.0603,  0.    , -0.    ],\n",
              "       [-0.    ,  0.0071, -0.0195, -0.    , -0.    ,  1.0011, -0.0014,  0.    ,  0.    , -0.0017,  0.0074],\n",
              "       [ 0.    , -0.0011,  0.0083,  0.    ,  0.    , -0.0014,  0.0058, -0.    , -0.    ,  0.0038, -0.0023],\n",
              "       [ 0.    ,  0.    ,  0.    , -0.0264, -0.0005,  0.    , -0.    ,  0.0066, -0.0001,  0.    , -0.    ],\n",
              "       [ 0.    ,  0.    ,  0.    , -0.0009,  0.0603,  0.    , -0.    , -0.0001,  0.0152,  0.    , -0.    ],\n",
              "       [-0.0001,  0.0033,  0.0005,  0.    ,  0.    , -0.0017,  0.0038,  0.    ,  0.    ,  0.0097, -0.0004],\n",
              "       [-0.0001,  0.0015,  0.0014, -0.    , -0.    ,  0.0074, -0.0023, -0.    , -0.    , -0.0004,  0.0067]])"
            ]
          },
          "metadata": {},
          "execution_count": 260
        }
      ]
    },
    {
      "cell_type": "code",
      "source": [
        "fcivec0.shape"
      ],
      "metadata": {
        "id": "kAzkxASoJZr_",
        "outputId": "2aee41c3-48fa-4028-928e-344e4cfa8ffb",
        "colab": {
          "base_uri": "https://localhost:8080/"
        }
      },
      "execution_count": 257,
      "outputs": [
        {
          "output_type": "execute_result",
          "data": {
            "text/plain": [
              "(462, 330)"
            ]
          },
          "metadata": {},
          "execution_count": 257
        }
      ]
    },
    {
      "cell_type": "code",
      "source": [
        "fcivec1.shape"
      ],
      "metadata": {
        "id": "8ChikAX1KKBt",
        "outputId": "dc4f6487-14f6-417d-e4da-6220efc4a25b",
        "colab": {
          "base_uri": "https://localhost:8080/"
        }
      },
      "execution_count": 258,
      "outputs": [
        {
          "output_type": "execute_result",
          "data": {
            "text/plain": [
              "(462, 330)"
            ]
          },
          "metadata": {},
          "execution_count": 258
        }
      ]
    },
    {
      "cell_type": "code",
      "source": [
        ""
      ],
      "metadata": {
        "id": "35VOZzZlKQOE"
      },
      "execution_count": null,
      "outputs": []
    }
  ]
}