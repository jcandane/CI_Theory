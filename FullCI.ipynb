{
  "nbformat": 4,
  "nbformat_minor": 0,
  "metadata": {
    "colab": {
      "name": "FullCI.ipynb",
      "provenance": [],
      "collapsed_sections": [],
      "include_colab_link": true
    },
    "kernelspec": {
      "display_name": "Python 3",
      "language": "python",
      "name": "python3"
    },
    "language_info": {
      "codemirror_mode": {
        "name": "ipython",
        "version": 3
      },
      "file_extension": ".py",
      "mimetype": "text/x-python",
      "name": "python",
      "nbconvert_exporter": "python",
      "pygments_lexer": "ipython3",
      "version": "3.7.7"
    }
  },
  "cells": [
    {
      "cell_type": "markdown",
      "metadata": {
        "id": "view-in-github",
        "colab_type": "text"
      },
      "source": [
        "<a href=\"https://colab.research.google.com/github/jcandane/CI_Theory/blob/main/FullCI.ipynb\" target=\"_parent\"><img src=\"https://colab.research.google.com/assets/colab-badge.svg\" alt=\"Open In Colab\"/></a>"
      ]
    },
    {
      "cell_type": "markdown",
      "metadata": {
        "id": "euN_y8TYdGQf"
      },
      "source": [
        "# Full Configuration Interaction (in PySCF)"
      ]
    },
    {
      "cell_type": "code",
      "metadata": {
        "colab": {
          "base_uri": "https://localhost:8080/"
        },
        "id": "pRKnQNT3dIfF",
        "outputId": "c367e7f7-bd37-4410-fcc1-d3c6fb4bd7d7"
      },
      "source": [
        "!pip install pyscf "
      ],
      "execution_count": null,
      "outputs": [
        {
          "output_type": "stream",
          "name": "stdout",
          "text": [
            "Collecting pyscf\n",
            "  Downloading pyscf-2.0.1-cp37-cp37m-manylinux1_x86_64.whl (37.5 MB)\n",
            "\u001b[K     |████████████████████████████████| 37.5 MB 1.2 MB/s \n",
            "\u001b[?25hRequirement already satisfied: numpy!=1.16,!=1.17,>=1.13 in /usr/local/lib/python3.7/dist-packages (from pyscf) (1.19.5)\n",
            "Requirement already satisfied: h5py>=2.7 in /usr/local/lib/python3.7/dist-packages (from pyscf) (3.1.0)\n",
            "Requirement already satisfied: scipy!=1.5.0,!=1.5.1 in /usr/local/lib/python3.7/dist-packages (from pyscf) (1.4.1)\n",
            "Requirement already satisfied: cached-property in /usr/local/lib/python3.7/dist-packages (from h5py>=2.7->pyscf) (1.5.2)\n",
            "Installing collected packages: pyscf\n",
            "Successfully installed pyscf-2.0.1\n"
          ]
        }
      ]
    },
    {
      "cell_type": "code",
      "metadata": {
        "id": "cakcK9gpdGQm"
      },
      "source": [
        "import numpy as np\n",
        "import matplotlib.pyplot as plt\n",
        "from pyscf_interface import *\n",
        "from itertools import combinations, permutations\n",
        "import pyscf\n",
        "from pyscf import fci\n",
        "\n",
        "π = np.pi\n",
        "α = 0.007297352\n",
        "c = 1.0/α\n",
        "np.set_printoptions(precision=4, linewidth=200, threshold=2000, suppress=True)"
      ],
      "execution_count": null,
      "outputs": []
    },
    {
      "cell_type": "code",
      "metadata": {
        "id": "14oASLkqdGQp"
      },
      "source": [
        "def get_Πso(uhf, entire=False):\n",
        "    \n",
        "    HA = np.einsum(\"AB, Ap, Bq -> pq\", uhf.H, uhf.Ca, uhf.Ca, optimize=True)\n",
        "    HB = np.einsum(\"AB, Ap, Bq -> pq\", uhf.H, uhf.Cb, uhf.Cb, optimize=True)\n",
        "    \n",
        "    ΠAA  = np.einsum(\"ABCD, Ap, Bq, Cr, Ds -> pqrs\", uhf.I, uhf.Ca, uhf.Ca, uhf.Ca, uhf.Ca, optimize=True) ## J\n",
        "    ΠAA -= np.einsum(\"ADCB, Ap, Bq, Cr, Ds -> pqrs\", uhf.I, uhf.Ca, uhf.Ca, uhf.Ca, uhf.Ca, optimize=True) ## K\n",
        "    ΠBB  = np.einsum(\"ABCD, Ap, Bq, Cr, Ds -> pqrs\", uhf.I, uhf.Cb, uhf.Cb, uhf.Cb, uhf.Cb, optimize=True) ## J\n",
        "    ΠBB -= np.einsum(\"ADCB, Ap, Bq, Cr, Ds -> pqrs\", uhf.I, uhf.Cb, uhf.Cb, uhf.Cb, uhf.Cb, optimize=True) ## K\n",
        "    ΠAB  = np.einsum(\"ABCD, Ap, Bq, Cr, Ds -> pqrs\", uhf.I, uhf.Ca, uhf.Ca, uhf.Cb, uhf.Cb, optimize=True)\n",
        "    ΠBA  = np.einsum(\"ABCD, Ap, Bq, Cr, Ds -> pqrs\", uhf.I, uhf.Cb, uhf.Cb, uhf.Ca, uhf.Ca, optimize=True)\n",
        "    \n",
        "    if entire:\n",
        "        H = np.stack((HA, HB))\n",
        "        Π = np.stack(( np.stack((ΠAA, ΠAB)), np.stack((ΠBA, ΠBB)) ))\n",
        "        return Π, H\n",
        "    \n",
        "    else:\n",
        "        return ΠAA, ΠAB, ΠBA, ΠBB, HA, HB\n",
        "\n",
        "def givenΛgetB(ΛA, ΛB, N_mo):\n",
        "  \"Given Λ (i occupied orbitals for each determinant) get B (binary rep.)\"\n",
        "\n",
        "  Binary  = np.zeros((ΛA.shape[0], 2, N_mo), dtype=np.int8)\n",
        "  for I in range(len(Binary)):\n",
        "      Binary[I, 0, ΛA[I,:]] = 1\n",
        "      Binary[I, 1, ΛB[I,:]] = 1\n",
        "\n",
        "  return Binary\n",
        "\n",
        "def givenBgetΛ(B):\n",
        "  \"Given B (entire MO binary occupation) get Λ (i occupied)\"\n",
        "\n",
        "  numA = len( (B[0,0])[ B[0,0] == 1 ] ) ## count num. of A occupied\n",
        "  numB = len( (B[0,1])[ B[0,1] == 1 ] ) ## count num. of B occupied\n",
        "\n",
        "  ΛA = np.zeros((B.shape[0], numA), dtype=np.int8)\n",
        "  ΛB = np.zeros((B.shape[0], numB), dtype=np.int8)\n",
        "  for I in range(len(Λ)):\n",
        "    ΛA[I] = np.where(B == 1)[1]\n",
        "    ΛB[I] = np.where(B == 1)[1]\n",
        "\n",
        "  return ΛA, ΛB\n",
        "\n",
        "def Ext(A, N, numtype=np.int8):\n",
        "    if A.ndim == 1:\n",
        "      return np.einsum(\"I, j -> Ij\", A, np.ones( N, dtype=numtype))\n",
        "    if A.ndim == 2:\n",
        "      return np.einsum(\"uI, j -> uIj\", A, np.ones( N, dtype=numtype))\n",
        "\n",
        "def SpinOuterProduct(A, B):\n",
        "  ΛA = np.einsum(\"Ii, J -> IJi\", A, np.ones(B.shape[0], dtype=np.int8)).reshape( (A.shape[0]*B.shape[0], A.shape[1]) )\n",
        "  ΛB = np.einsum(\"Ii, J -> JIi\", B, np.ones(A.shape[0], dtype=np.int8)).reshape( (A.shape[0]*B.shape[0], A.shape[1]) )\n",
        "  return ΛA, ΛB"
      ],
      "execution_count": null,
      "outputs": []
    },
    {
      "cell_type": "markdown",
      "metadata": {
        "id": "VbuEbIvsdGQq"
      },
      "source": [
        "#### Now here lets define our Molecule "
      ]
    },
    {
      "cell_type": "code",
      "metadata": {
        "id": "n84f5LxrdGQr"
      },
      "source": [
        "#Z_HH = np.array([\"He\", \"H\", \"H\"])\n",
        "#R_HH = np.array([[ 0., 0., 0.], [ 0., 1.5, 0.], [0., 0., 1.5]])\n",
        "#Z_HH = np.array([\"H\", \"H\"]) #np.array([\"Be\", \"H\", \"H\"])\n",
        "#R_HH = np.array([[ 0., 1.5, 0.], [0., 0., 1.5]])  #np.array([[ 0., 0., 0.], [ 0., 1.5, 0.], [0., 0., 1.5]])\n",
        "Z_HH = np.array([\"H\", \"H\", \"H\", \"H\"])\n",
        "R_HH = np.array([[ 0., 0., 0.], [ 1.5, 0.0, 0.], [ 0., 1.5, 0.], [0., 0., 1.5]])\n",
        "#Z_HH = np.array([\"He\", \"He\", \"He\", \"O\"])\n",
        "#R_HH = np.array([[ 0., 0., 0.], [ 1.5, 0.0, 0.], [ 0., 1.5, 0.], [0., 0., 1.5]])\n",
        "#Z_HH = np.array([\"He\", \"H\", \"He\", \"H\"])\n",
        "#R_HH = np.array([[ 0., 0., 0.], [ 1.5, 0.0, 0.], [ 0., 1.5, 0.], [0., 0., 1.5]])\n",
        "\n",
        "#Z_HH = np.array([\"H\", \"H\", \"H\", \"H\"])\n",
        "#R_HH = np.array([[ 0., 0., 0.], [ 1.5, 0.0, 0.], [ 0., 1.5, 0.], [0., 0., 1.5]])\n",
        "\n",
        "#Z_HH = np.array([\"H\", \"H\"])\n",
        "#R_HH = np.array([[ 0., 0., 0.], [ 0., 0.0, 2.3]])\n",
        "\n",
        "HH = pyscf_UHF()\n",
        "HH.initialize(xyz=R_HH, Z=Z_HH, charge=0, basis=\"sto-3g\") ##-1\n",
        "HH.Calc()\n",
        "\n",
        "#print(HH.__dict__)\n",
        "\n",
        "cisolver = pyscf.fci.FCI(HH.pyscfuhf,singlet=False)\n",
        "cisolver.nroots = 100 # 100\n",
        "cisolver.spin = 0\n",
        "cisolver.davidson_only = False\n",
        "#cisolver.singlet=False\n",
        "pyscf_fci_energy = cisolver.kernel()[0]"
      ],
      "execution_count": null,
      "outputs": []
    },
    {
      "cell_type": "code",
      "metadata": {
        "colab": {
          "base_uri": "https://localhost:8080/"
        },
        "id": "uIMtyqMSJQA5",
        "outputId": "4eba66ff-115b-4fd6-c610-a8f29140a6a6"
      },
      "source": [
        "#print(cisolver.__dict__)\n",
        "nuclear_rep = HH.nuclei_energy\n",
        "evals = cisolver.eci\n",
        "#print(evals)\n",
        "#print(len(evals))\n",
        "evecs = np.asarray(cisolver.ci).reshape(len(evals),len(evals))\n",
        "#print(evecs)\n",
        "HFCI = evecs.T@np.diag(evals-0.*nuclear_rep)@evecs\n",
        "#print(HFCI)\n",
        "HFCI = evecs.T@np.diag(evals-nuclear_rep)@evecs\n",
        "#print(HFCI)\n",
        "w, c = np.linalg.eigh(HFCI)\n",
        "print(nuclear_rep)"
      ],
      "execution_count": null,
      "outputs": [
        {
          "output_type": "stream",
          "name": "stdout",
          "text": [
            "1.8067240104218323\n"
          ]
        }
      ]
    },
    {
      "cell_type": "markdown",
      "metadata": {
        "id": "oxTCMTfodGQs"
      },
      "source": [
        "### Slater-Condon Preperation"
      ]
    },
    {
      "cell_type": "markdown",
      "metadata": {
        "id": "ABSi_KvsJHCO"
      },
      "source": [
        "CI Combinatorics"
      ]
    },
    {
      "cell_type": "code",
      "metadata": {
        "id": "Ew00PQWOdGQt"
      },
      "source": [
        "Π, H = get_Πso(HH, entire=True)\n",
        "\n",
        "N  = len(HH.S) ## number of MOs\n",
        "Na = HH.Na\n",
        "Nb = HH.Nb\n",
        "\n",
        "O_α = np.asarray( list(combinations(  np.arange(0, N, 1, dtype=np.int8)  , Na ) ) ) ### all possible combinations of Nα electrons in N MO-orbitals!\n",
        "O_β = np.asarray( list(combinations(  np.arange(0, N, 1, dtype=np.int8)  , Nb ) ) )  "
      ],
      "execution_count": null,
      "outputs": []
    },
    {
      "cell_type": "code",
      "metadata": {
        "id": "DlgpAJTladC3",
        "colab": {
          "base_uri": "https://localhost:8080/"
        },
        "outputId": "a9d3a862-9d00-4690-e220-de8d12250dd5"
      },
      "source": [
        "refex = np.array([0, 1, 0, 1, 1, 0, 0], dtype=np.int8)\n",
        "refMR = np.array([[0, 1, 0, 1, 1, 0, 0],[0, 1, 1, 1, 0, 0, 0],[0, 1, 0, 0, 1, 0, 1]], dtype=np.int8)\n",
        "\n",
        "def CI_Choice(reference, m):\n",
        "\n",
        "  ### if reference is 1D\n",
        "  if reference.ndim == 1: \n",
        "    Λ = np.where(reference == 1)[0]\n",
        "    V = np.where(reference == 0)[0]\n",
        "\n",
        "    if len(Λ) > m-1:\n",
        "      Λ_sample = np.asarray( list(combinations(  Λ  , len(Λ) - m ) ) , dtype=np.int8)\n",
        "      V_sample = np.asarray( list(combinations(  V  , m          ) ) , dtype=np.int8)\n",
        "\n",
        "      a_Ii = np.empty((len(Λ_sample)*len(V_sample), len(Λ) ), dtype=np.int8)\n",
        "      a_Ii[:,:len(Λ) - m ] = np.repeat(Λ_sample, len(V_sample), axis=0)\n",
        "      a_Ii[:, len(Λ) - m:] = np.repeat(V_sample, len(Λ_sample), axis=1).reshape((len(Λ_sample)*len(V_sample), V_sample.shape[1]), order=\"F\")\n",
        "      a_Ii = np.sort(a_Ii, axis=1)\n",
        "      return np.unique(a_Ii, axis=0)\n",
        "    \n",
        "    else:\n",
        "      return None\n",
        "\n",
        "  ### if reference is 2D (this is MR-CI)\n",
        "  if reference.ndim == 2:\n",
        "    if len(np.where(reference[0] == 1)[0]) > m-1:\n",
        "      for i in range(len(reference)):\n",
        "        Λ = np.where(reference[i] == 1)[0]\n",
        "        V = np.where(reference[i] == 0)[0]\n",
        "\n",
        "        Λ_sample = np.asarray( list(combinations(  Λ  , len(Λ) - m ) ) , dtype=np.int8)\n",
        "        V_sample = np.asarray( list(combinations(  V  , m          ) ) , dtype=np.int8)\n",
        "\n",
        "        a_new = np.empty((len(Λ_sample)*len(V_sample), len(Λ) ), dtype=np.int8)\n",
        "        a_new[:,:len(Λ) - m ] = np.repeat(Λ_sample, len(V_sample), axis=0)\n",
        "        a_new[:, len(Λ) - m:] = np.repeat(V_sample, len(Λ_sample), axis=1).reshape((len(Λ_sample)*len(V_sample), V_sample.shape[1]), order=\"F\")\n",
        "        a_new = np.sort(a_new, axis=1) \n",
        "\n",
        "        if i == 0:\n",
        "          a_Ii = a_new\n",
        "        else:\n",
        "          a_Ii = np.append(a_Ii, a_new, axis=0)\n",
        "      \n",
        "      return np.unique(a_Ii, axis=0)\n",
        "\n",
        "    else:\n",
        "      return None\n",
        "\n",
        "print( CI_Choice(refex, 3) )\n",
        "print( CI_Choice(refMR, 3) )"
      ],
      "execution_count": null,
      "outputs": [
        {
          "output_type": "stream",
          "name": "stdout",
          "text": [
            "[[0 2 5]\n",
            " [0 2 6]\n",
            " [0 5 6]\n",
            " [2 5 6]]\n",
            "[[0 2 3]\n",
            " [0 2 5]\n",
            " [0 2 6]\n",
            " [0 3 5]\n",
            " [0 4 5]\n",
            " [0 4 6]\n",
            " [0 5 6]\n",
            " [2 3 5]\n",
            " [2 5 6]\n",
            " [4 5 6]]\n"
          ]
        }
      ]
    },
    {
      "cell_type": "markdown",
      "metadata": {
        "id": "ctra-Q--JJ6_"
      },
      "source": [
        "Differences"
      ]
    },
    {
      "cell_type": "code",
      "metadata": {
        "id": "jCyI04F2aTaJ"
      },
      "source": [
        "ΛA, ΛB = SpinOuterProduct(O_α, O_β)\n",
        "\n",
        "Binary         = givenΛgetB(ΛA, ΛB, N)\n",
        "Difference     = np.einsum(\"Isp, J -> IJsp\", Binary, np.ones(len(Binary), dtype=np.int8)) - np.einsum(\"Isp, J -> JIsp\", Binary, np.ones(len(Binary), dtype=np.int8))\n",
        "Sum            = np.einsum(\"Isp, J -> IJsp\", Binary, np.ones(len(Binary), dtype=np.int8)) + np.einsum(\"Isp, J -> JIsp\", Binary, np.ones(len(Binary), dtype=np.int8))\n",
        "SpinDifference = np.einsum(\"IJsp -> IJs\", np.abs(Difference))//2\n",
        "\n",
        "### Get the Sign for each Configuration\n",
        "signA = np.cumsum( Binary[:,0,:] , axis=1)\n",
        "signB = np.cumsum( Binary[:,1,:] , axis=1)\n",
        "for I in range(len(ΛA)):\n",
        "  signA[I, ΛA[I]] = np.arange(0, Na, 1)\n",
        "  signB[I, ΛB[I]] = np.arange(0, Nb, 1)\n",
        "\n",
        "Γ_IAp = ( (-1)**(signA) ).astype(np.int8)\n",
        "Γ_IBp = ( (-1)**(signB) ).astype(np.int8)"
      ],
      "execution_count": null,
      "outputs": []
    },
    {
      "cell_type": "code",
      "metadata": {
        "colab": {
          "base_uri": "https://localhost:8080/"
        },
        "id": "OW1XBoJMUBXK",
        "outputId": "aaa33b83-bf06-46b0-f91b-392c9f636125"
      },
      "source": [
        "ΛA.shape"
      ],
      "execution_count": null,
      "outputs": [
        {
          "output_type": "execute_result",
          "data": {
            "text/plain": [
              "(36, 2)"
            ]
          },
          "metadata": {},
          "execution_count": 9
        }
      ]
    },
    {
      "cell_type": "markdown",
      "metadata": {
        "id": "dTUUGCc9dGQv"
      },
      "source": [
        "### Slater-Condon Rules 0 \\& 3"
      ]
    },
    {
      "cell_type": "code",
      "metadata": {
        "id": "9dDvr7e3dGQw"
      },
      "source": [
        "AB = Ext(ΛA, Nb)\n",
        "BA = Ext(ΛB, Na)\n",
        "AA = Ext(ΛA, Na)\n",
        "BB = Ext(ΛB, Nb)\n",
        "\n",
        "Rule1  = np.einsum(\"Ii  -> I\", H[0, ΛA, ΛA]) \n",
        "Rule1 += np.einsum(\"Ii  -> I\", H[1, ΛB, ΛB])\n",
        "Rule1 += np.einsum(\"Iij -> I\", Π[0, 0, AA, AA, AA.swapaxes(1,2), AA.swapaxes(1,2)])/2\n",
        "Rule1 += np.einsum(\"Iij -> I\", Π[1, 0, BA, BA, AB.swapaxes(1,2), AB.swapaxes(1,2)])/2\n",
        "Rule1 += np.einsum(\"Iij -> I\", Π[0, 1, AB, AB, BA.swapaxes(1,2), BA.swapaxes(1,2)])/2\n",
        "Rule1 += np.einsum(\"Iij -> I\", Π[1, 1, BB, BB, BB.swapaxes(1,2), BB.swapaxes(1,2)])/2\n",
        "\n",
        "H_CI = np.diag(Rule1)"
      ],
      "execution_count": null,
      "outputs": []
    },
    {
      "cell_type": "markdown",
      "metadata": {
        "id": "D5pL59OZdGQx"
      },
      "source": [
        "### Slater-Condon Rule 1"
      ]
    },
    {
      "cell_type": "code",
      "metadata": {
        "id": "m_6p3KXadGQx"
      },
      "source": [
        "### indices for 1-difference\n",
        "I_A, J_A = np.where( np.all(SpinDifference==np.array([1,0], dtype=np.int8), axis=2) )\n",
        "I_B, J_B = np.where( np.all(SpinDifference==np.array([0,1], dtype=np.int8), axis=2) )\n",
        "\n",
        "A_t  = (np.where( Difference[I_A, J_A, 0] ==  1 )[1]).astype(np.int8)\n",
        "A    = (np.where( Difference[I_A, J_A, 0] == -1 )[1]).astype(np.int8)\n",
        "B_t  = (np.where( Difference[I_B, J_B, 1] ==  1 )[1]).astype(np.int8)\n",
        "B    = (np.where( Difference[I_B, J_B, 1] == -1 )[1]).astype(np.int8)\n",
        "CA_i = (np.where( Sum[I_A, J_A, 0] == 2 )[1]).reshape(len(I_A), Na-1)\n",
        "CB_i = (np.where( Sum[I_B, J_B, 1] == 2 )[1]).reshape(len(I_B), Nb-1)\n",
        "\n",
        "if I_A.size > 0:\n",
        "  H_CI[I_A, J_A]  = H[0, A, A_t]\n",
        "  H_CI[I_A, J_A] += np.einsum(\"In -> I\", Π[0, 0, Ext(A, Na-1), Ext(A_t, Na-1), CA_i, CA_i])\n",
        "  H_CI[I_A, J_A] += np.einsum(\"Ii -> I\", Π[0, 1, Ext(A, Nb  ), Ext(A_t, Nb  ), ΛB[I_A], ΛB[J_A]])\n",
        "  H_CI[I_A, J_A] *= Γ_IAp[I_A, A_t] * Γ_IAp[J_A, A]\n",
        "\n",
        "if I_B.size > 0:\n",
        "  H_CI[I_B, J_B]  = H[1, B, B_t]\n",
        "  H_CI[I_B, J_B] += np.einsum(\"In -> I\", Π[1, 1, Ext(B, Nb-1), Ext(B_t, Nb-1), CB_i, CB_i])\n",
        "  H_CI[I_B, J_B] += np.einsum(\"Ii -> I\", Π[1, 0, Ext(B, Na  ), Ext(B_t, Na  ), ΛA[I_B], ΛA[J_B]])\n",
        "  H_CI[I_B, J_B] *= Γ_IBp[I_B, B_t] * Γ_IBp[J_B, B]"
      ],
      "execution_count": null,
      "outputs": []
    },
    {
      "cell_type": "markdown",
      "metadata": {
        "id": "ubWpDRmsdGQ0"
      },
      "source": [
        "### Slater-Condon Rule 2"
      ]
    },
    {
      "cell_type": "code",
      "metadata": {
        "id": "4TSoqzjwdGQ0"
      },
      "source": [
        "### get indices with differences by 2\n",
        "I_AA, J_AA = np.where( np.all(SpinDifference==np.array([2,0], dtype=np.int8), axis=2) )\n",
        "I_BB, J_BB = np.where( np.all(SpinDifference==np.array([0,2], dtype=np.int8), axis=2) )\n",
        "I_AB, J_AB = np.where( np.all(SpinDifference==np.array([1,1], dtype=np.int8), axis=2) )\n",
        "\n",
        "AA   = np.where( Difference[I_AA, J_AA, 0] == -1)[1].reshape(len(I_AA),2).T\n",
        "AA_t = np.where( Difference[I_AA, J_AA, 0] ==  1)[1].reshape(len(I_AA),2).T\n",
        "BB   = np.where( Difference[I_BB, J_BB, 1] == -1)[1].reshape(len(I_BB),2).T\n",
        "BB_t = np.where( Difference[I_BB, J_BB, 1] ==  1)[1].reshape(len(I_BB),2).T\n",
        "AB   = np.asarray([ np.where( Difference[I_AB, J_AB, 0] == -1 )[1], np.where( Difference[I_AB, J_AB, 1] == -1 )[1] ])\n",
        "AB_t = np.asarray([ np.where( Difference[I_AB, J_AB, 0] ==  1 )[1], np.where( Difference[I_AB, J_AB, 1] ==  1 )[1] ])\n",
        "\n",
        "if I_AA.size > 0: \n",
        "    H_CI[I_AA, J_AA]  = Π[0, 0, AA[0], AA_t[0], AA[1], AA_t[1]]\n",
        "    H_CI[I_AA, J_AA] *= Γ_IAp[I_AA, AA[0]] * Γ_IAp[I_AA, AA_t[0]] * Γ_IAp[J_AA, AA[0]] * Γ_IAp[J_AA, AA_t[0]]\n",
        "if I_BB.size > 0: \n",
        "    H_CI[I_BB, J_BB]  = Π[1, 1, BB[0], BB_t[0], BB[1], BB_t[1]]\n",
        "    H_CI[I_BB, J_BB] *= Γ_IBp[I_BB, BB[1]] * Γ_IBp[J_BB, BB_t[1]] * Γ_IBp[I_BB, BB[0]] * Γ_IBp[J_BB, BB_t[0]]\n",
        "if I_AB.size > 0:\n",
        "    H_CI[I_AB, J_AB]  = Π[0, 1, AB[0], AB_t[0], AB[1], AB_t[1]]\n",
        "    H_CI[I_AB, J_AB] *= Γ_IBp[I_AB, AB[1]] * Γ_IBp[J_AB, AB_t[1]] * Γ_IAp[I_AB, AB[0]] * Γ_IAp[J_AB, AB_t[0]]"
      ],
      "execution_count": null,
      "outputs": []
    },
    {
      "cell_type": "markdown",
      "metadata": {
        "id": "kNvP833KM_0p"
      },
      "source": [
        "# Compare"
      ]
    },
    {
      "cell_type": "markdown",
      "metadata": {
        "id": "VmJdbtAINBTb"
      },
      "source": [
        ""
      ]
    },
    {
      "cell_type": "code",
      "metadata": {
        "colab": {
          "base_uri": "https://localhost:8080/"
        },
        "id": "_joaXfpxdGQ2",
        "outputId": "3c9b3c94-e61a-4c24-d87a-ec788be9224a"
      },
      "source": [
        "nuclear_rep = HH.nuclei_energy\n",
        "e_fci_my, mywavefunctions = np.linalg.eigh(H_CI)\n",
        "\n",
        "print(\"pyscf : \" + str(pyscf_fci_energy[0] ))\n",
        "print(\"Mine  : \" + str( e_fci_my[0] + nuclear_rep ))"
      ],
      "execution_count": null,
      "outputs": [
        {
          "output_type": "stream",
          "name": "stdout",
          "text": [
            "pyscf : -1.9290094636231134\n",
            "Mine  : -1.9290094636231099\n"
          ]
        }
      ]
    },
    {
      "cell_type": "code",
      "metadata": {
        "colab": {
          "base_uri": "https://localhost:8080/"
        },
        "id": "SYaBlmx41-P-",
        "outputId": "6dd9d14f-7d25-450a-d0a2-276cb7b4fbed"
      },
      "source": [
        "H_CI.shape"
      ],
      "execution_count": null,
      "outputs": [
        {
          "output_type": "execute_result",
          "data": {
            "text/plain": [
              "(36, 36)"
            ]
          },
          "metadata": {},
          "execution_count": 14
        }
      ]
    }
  ]
}