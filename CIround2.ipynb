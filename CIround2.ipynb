{
  "nbformat": 4,
  "nbformat_minor": 0,
  "metadata": {
    "colab": {
      "name": "CIround2.ipynb",
      "provenance": [],
      "collapsed_sections": [
        "TtXqiyCjnWyy"
      ],
      "authorship_tag": "ABX9TyPzEJhyuKQVwdB3HQUyKfJg",
      "include_colab_link": true
    },
    "kernelspec": {
      "name": "python3",
      "display_name": "Python 3"
    },
    "language_info": {
      "name": "python"
    }
  },
  "cells": [
    {
      "cell_type": "markdown",
      "metadata": {
        "id": "view-in-github",
        "colab_type": "text"
      },
      "source": [
        "<a href=\"https://colab.research.google.com/github/jcandane/CI_Theory/blob/main/CIround2.ipynb\" target=\"_parent\"><img src=\"https://colab.research.google.com/assets/colab-badge.svg\" alt=\"Open In Colab\"/></a>"
      ]
    },
    {
      "cell_type": "code",
      "execution_count": null,
      "metadata": {
        "id": "mgGDj0EA76OL"
      },
      "outputs": [],
      "source": [
        "import numpy as np\n",
        "from itertools import combinations, permutations\n",
        "\n",
        "π = np.pi\n",
        "α = 0.007297352\n",
        "c = 1.0/α\n",
        "np.set_printoptions(precision=4, linewidth=200, threshold=2000, suppress=True)"
      ]
    },
    {
      "cell_type": "markdown",
      "source": [
        "### Manipulate MO -> SO etc..."
      ],
      "metadata": {
        "id": "HnKPsiYInRp9"
      }
    },
    {
      "cell_type": "code",
      "source": [
        "def Ext(A, N, numtype=np.int8):\n",
        "    if A.ndim == 1:\n",
        "        return np.einsum(\"I, j -> Ij\", A, np.ones( N, dtype=numtype))\n",
        "    if A.ndim == 2:\n",
        "        return np.einsum(\"uI, j -> uIj\", A, np.ones( N, dtype=numtype))\n",
        "\n",
        "def SpinOuterProduct(A, B, stack=False):\n",
        "  ΛA = np.einsum(\"Ii, J -> IJi\", A, np.ones(B.shape[0], dtype=np.int8)).reshape( (A.shape[0]*B.shape[0], A.shape[1]) )\n",
        "  ΛB = np.einsum(\"Ii, J -> JIi\", B, np.ones(A.shape[0], dtype=np.int8)).reshape( (A.shape[0]*B.shape[0], B.shape[1]) )\n",
        "  \n",
        "  if stack:\n",
        "    return np.array([ΛA,ΛB])\n",
        "  else:\n",
        "    return ΛA, ΛB\n",
        "\n",
        "def combine_arrays(Λ_sample, V_sample):\n",
        "\n",
        "    if V_sample.size == 0:\n",
        "        return Λ_sample\n",
        "\n",
        "    else:\n",
        "        l = V_sample.shape[1] + Λ_sample.shape[1] # length of new array\n",
        "        m = V_sample.shape[1] # level of excitation\n",
        "        a_new = np.empty((V_sample.shape[0] * Λ_sample.shape[0], V_sample.shape[1] + Λ_sample.shape[1] ), dtype=np.int8)\n",
        "        a_new[:,:l - m ] = np.repeat(Λ_sample, len(V_sample), axis=0)\n",
        "        a_new[:, l - m:] = np.repeat(V_sample, len(Λ_sample), axis=1).reshape((len(Λ_sample)*len(V_sample), V_sample.shape[1]), order=\"F\")\n",
        "\n",
        "        return np.sort(a_new, axis=1)\n",
        "\n",
        "def CIunique(dets):\n",
        "    BB = np.unique( ( dets.swapaxes(0,1)).reshape(dets.shape[1], dets.shape[0]*dets.shape[2], order=\"C\") , axis=0)\n",
        "    return BB.reshape(BB.shape[0], 2, BB.shape[1]//2, order=\"C\").swapaxes(0,1)\n",
        "\n",
        "def TEST_electronnumber(AA): ## with B_sIp\n",
        "    arr = np.einsum(\"sIp -> I\", AA)\n",
        "    if np.all(arr == arr[0]):\n",
        "        return True\n",
        "    else:\n",
        "        return arr\n",
        "\n",
        "def TEST_unquineness(AA): ## with B_sIp\n",
        "    return AA.shape[1] == len( np.unique( (AA.swapaxes(0,1)).reshape((AA.shape[1], 2*AA.shape[2])) ,axis=1 ) )"
      ],
      "metadata": {
        "id": "WyMMmhkhnzmm"
      },
      "execution_count": null,
      "outputs": []
    },
    {
      "cell_type": "markdown",
      "source": [
        "### Combinatorics"
      ],
      "metadata": {
        "id": "TtXqiyCjnWyy"
      }
    },
    {
      "cell_type": "code",
      "source": [
        "### for a single reference in binary, for 1 spin get all m-excitations, yield binary\n",
        "def ΛMOgetB(Λ, N_mo):\n",
        "  \"Given Λ (i occupied orbitals for each determinant) get B (binary rep.)\"\n",
        "\n",
        "  Binary  = np.zeros((Λ.shape[0], N_mo), dtype=np.int8)\n",
        "  for I in range(len(Binary)):\n",
        "      Binary[I, Λ[I,:]] = 1\n",
        "\n",
        "  return Binary\n",
        "\n",
        "\n",
        "\n",
        "def MO_Excitation(MO_p, m, SF=False):\n",
        "    \"\"\" \n",
        "    m-level CI excitations on an MO \n",
        "    m=0 should return the reference\n",
        "    \"\"\"\n",
        "\n",
        "    occ = np.asarray([ np.where(MO_p == 1)[0] ]) ## occupied space\n",
        "    vac = np.asarray([ np.where(MO_p == 0)[0] ]) ## vacant   space\n",
        "\n",
        "    if SF: ### do SF-calculation\n",
        "        if m < 0: ## if m is negative, then \n",
        "            Occ_choices = np.asarray( list(combinations(  occ[0], len(occ[0]) + m ) ) , dtype=np.int8)\n",
        "            return ΛMOgetB(Occ_choices, len(MO_p)) \n",
        "        else:\n",
        "            Vac_choices = np.asarray( list(combinations(  vac[0], m ) ) , dtype=np.int8)\n",
        "            return ΛMOgetB(combine_arrays(occ, Vac_choices), len(MO_p)) \n",
        "    else: ### do CI-calculation\n",
        "        #print(m, len(occ[0]) - m )\n",
        "        Occ_choices = np.asarray( list(combinations(  occ[0], len(occ[0]) - m ) ) , dtype=np.int8)\n",
        "        Vac_choices = np.asarray( list(combinations(  vac[0], m ) ) , dtype=np.int8)\n",
        "        return ΛMOgetB(combine_arrays(Occ_choices, Vac_choices), len(MO_p))\n",
        "\n",
        "def SO_Excitation(SO_ref, CIm=None, SFm=None):\n",
        "    \"\"\" Given a reference, and CIm and SFm vectors get Excitation Slater Det. \n",
        "    r_sp = reference\n",
        "    \"\"\"\n",
        "\n",
        "    refA = SO_ref[0]\n",
        "    refB = SO_ref[1]\n",
        "    D    = np.array([])\n",
        "    SF   = np.array([])\n",
        "\n",
        "    ### CIm\n",
        "    if CIm is not None:\n",
        "        first = True\n",
        "        for m in CIm:\n",
        "            for j in range(m+1): ## e.g. if m =3, then j in {0,1,2,3}\n",
        "                ## count number of vaccant orbitals\n",
        "                ## the if statement goes over occupied and vaccant orbitals!!!\n",
        "                vacA = len(np.where(refA == 0)[0])\n",
        "                vacB = len(np.where(refB == 0)[0])\n",
        "                occA = len(np.where(refA == 1)[0])\n",
        "                occB = len(np.where(refB == 1)[0])\n",
        "                if vacA+1 > j and vacB+1 > m-j and occA > j and occB > m-j:\n",
        "                    A = MO_Excitation(refA,   j, SF=False)\n",
        "                    B = MO_Excitation(refB, m-j, SF=False)\n",
        "                    C = SpinOuterProduct(A, B, stack=True)\n",
        "\n",
        "                    if first:\n",
        "                        D = C\n",
        "                        first = False\n",
        "                    else:\n",
        "                        D = np.append(D, C, axis=1)\n",
        "                else:\n",
        "                    continue\n",
        "\n",
        "    ### SFm\n",
        "    if SFm is not None:\n",
        "        first = True\n",
        "        a  = np.sum(refA)\n",
        "        b  = np.sum(refB)\n",
        "        c  = np.abs(np.sum(refA - 1))\n",
        "        d  = np.abs(np.sum(refB - 1))\n",
        "        for m in SFm:\n",
        "            if m < np.amin([a,b,c,d]) + 1:\n",
        "                A = MO_Excitation(refA,  m, SF=True)\n",
        "                B = MO_Excitation(refB, -m, SF=True)\n",
        "                C = SpinOuterProduct(A,  B, stack=True)\n",
        "\n",
        "                A = MO_Excitation(refA, -m, SF=True)\n",
        "                B = MO_Excitation(refB,  m, SF=True)\n",
        "                E = SpinOuterProduct(A,  B, stack=True)\n",
        "\n",
        "                SF = np.concatenate((C, E), axis=1)\n",
        "\n",
        "            else:\n",
        "              continue\n",
        "\n",
        "    if D.size == 0 and SF.size == 0: \n",
        "        return None\n",
        "\n",
        "    if D.size == 0 and SF.size != 0:\n",
        "        return SF\n",
        "\n",
        "    if SF.size == 0 and D.size != 0:\n",
        "        return D\n",
        "\n",
        "    if SF.size != 0 and D.size != 0:\n",
        "        return np.concatenate((D, SF), axis=1)\n",
        "\n",
        "def ECI(MR, RAS=None, CIm=None, SFm=None):\n",
        "    \"\"\" Compute MRRASSFCI \"\"\"\n",
        "\n",
        "    if RAS is None:\n",
        "        RAS = np.arange(0, MR.shape[2], dtype=np.int8)\n",
        "\n",
        "    first = True\n",
        "    for reference in MR:\n",
        "        RASref = reference[:, RAS]\n",
        "        RASCI  = SO_Excitation(RASref, CIm=CIm, SFm=SFm)\n",
        "        if RASCI is not None:\n",
        "            loop   = Ext(reference, RASCI.shape[1]).swapaxes(1,2)\n",
        "            if first:\n",
        "                loop[:, :, RAS] = RASCI\n",
        "                out = loop\n",
        "                first = False\n",
        "\n",
        "            else:\n",
        "                out = np.append(out, loop, axis=1)\n",
        "                out = CIunique(out)\n",
        "                \n",
        "        else: \n",
        "            continue\n",
        "\n",
        "    if RASCI is None:\n",
        "        return MR\n",
        "    else:\n",
        "        return out"
      ],
      "metadata": {
        "id": "MDSOa0Fr9nT1"
      },
      "execution_count": null,
      "outputs": []
    },
    {
      "cell_type": "code",
      "source": [
        "for j in range(3+1):\n",
        "  vacA = 2\n",
        "  vacB = 1\n",
        "  if vacA+1 > j and vacB+1 > 3-j:\n",
        "    print(j, 3-j)"
      ],
      "metadata": {
        "colab": {
          "base_uri": "https://localhost:8080/"
        },
        "id": "FQij-X8BUIyJ",
        "outputId": "14132513-75cc-4499-d2ac-91c131d196cb"
      },
      "execution_count": null,
      "outputs": [
        {
          "output_type": "stream",
          "name": "stdout",
          "text": [
            "2 1\n"
          ]
        }
      ]
    },
    {
      "cell_type": "code",
      "source": [
        ""
      ],
      "metadata": {
        "id": "OIDO-QZhETOr"
      },
      "execution_count": null,
      "outputs": []
    },
    {
      "cell_type": "markdown",
      "source": [
        "### Tests"
      ],
      "metadata": {
        "id": "R5uk086gEX13"
      }
    },
    {
      "cell_type": "code",
      "source": [
        "ref1_sp = np.array([[1, 1, 1, 1, 1, 0, 0], [1, 1, 1, 1, 0, 0, 0]], dtype=np.int8)\n",
        "ref2_sp = np.array([[0, 1, 0, 1, 1, 0, 0], [0, 1, 1, 0, 0, 1, 0]], dtype=np.int8)\n",
        "ref3_sp = np.array([[1, 1, 1, 0, 1, 0, 0, 1, 0], [0, 1, 1, 1, 1, 1, 0, 0, 0]], dtype=np.int8)\n",
        "ref4_sp = np.array([[1, 1, 0, 0, 0], [1, 1, 0, 0, 0]], dtype=np.int8)\n",
        "ref5_sp = np.array([[[1, 1, 1, 1, 1, 0, 0], [1, 1, 1, 1, 0, 0, 0]], [[1, 1, 0, 1, 1, 0, 1], [0, 1, 1, 1, 0, 1, 0]]], dtype=np.int8)\n",
        "ref6_sp = np.array([[[1, 1, 0, 0, 0], [1, 1, 0, 0, 0]], [[1, 0, 0, 1, 0], [1, 1, 0, 0, 0]], [[1, 1, 0, 0, 0], [1, 0, 0, 0, 1]]], dtype=np.int8)"
      ],
      "metadata": {
        "id": "TQf_T7ks9XE4"
      },
      "execution_count": null,
      "outputs": []
    },
    {
      "cell_type": "code",
      "source": [
        "AA = ECI(ref5_sp, RAS=None, CIm=[3], SFm=None)\n",
        "print(TEST_electronnumber(AA))\n",
        "print(TEST_unquineness(AA))\n",
        "\n",
        "AA = ECI(ref6_sp, RAS=None, CIm=[3,4], SFm=None)\n",
        "print(TEST_electronnumber(AA))\n",
        "print(AA)\n",
        "##print(TEST_unquineness(AA))\n",
        "\n",
        "AA = ECI(np.asarray([ref4_sp]), RAS=None, CIm=[3], SFm=None)\n",
        "print(TEST_electronnumber(AA))\n",
        "\n",
        "#print(AA.shape)\n",
        "#print(TEST_unquineness(AA))\n",
        "\n",
        "AA = ECI(np.asarray([ref1_sp]), RAS=None, CIm=[3], SFm=[1])\n",
        "print(TEST_electronnumber(AA))\n",
        "print(TEST_unquineness(AA))"
      ],
      "metadata": {
        "colab": {
          "base_uri": "https://localhost:8080/"
        },
        "id": "buaJbigl_BLU",
        "outputId": "e3554f70-efc9-4162-efe5-417e5830639e"
      },
      "execution_count": null,
      "outputs": [
        {
          "output_type": "stream",
          "name": "stdout",
          "text": [
            "True\n",
            "True\n",
            "True\n",
            "[[[1 1 0 0 0]\n",
            "  [1 1 0 0 0]]\n",
            "\n",
            " [[1 0 0 1 0]\n",
            "  [1 1 0 0 0]]\n",
            "\n",
            " [[1 1 0 0 0]\n",
            "  [1 0 0 0 1]]]\n",
            "True\n",
            "True\n",
            "True\n"
          ]
        }
      ]
    },
    {
      "cell_type": "markdown",
      "source": [
        "## MO Excitation"
      ],
      "metadata": {
        "id": "-bumzeh4ydmk"
      }
    },
    {
      "cell_type": "code",
      "source": [
        "def MO_X(MO_p, m, SF=False):\n",
        "    \"\"\" \n",
        "    m-level CI excitations on an MO \n",
        "    m=0 should return the reference\n",
        "    \"\"\"\n",
        "\n",
        "    occ = np.asarray([ np.where(MO_p == 1)[0] ]) ## occupied space\n",
        "    vac = np.asarray([ np.where(MO_p == 0)[0] ]) ## vacant   space\n",
        "\n",
        "    if SF: ### do SF-calculation\n",
        "        if m < 0 and abs(m) <= len(occ[0]): ## if m is negative, then we do all combinations deleting occupied orbital(s) \n",
        "            Occ_choices = np.asarray( list(combinations(  occ[0], len(occ[0]) + m ) ) , dtype=np.int8)\n",
        "            return ΛMOgetB(Occ_choices, len(MO_p))\n",
        "        if m == 0: ## if m = 0 , return reference\n",
        "            return np.asarray([MO_p])\n",
        "        if m > 0 and m <= len(vac[0]): ## if m is positive, we will do all combinations by adding occupied orbital(s) \n",
        "            Vac_choices = np.asarray( list(combinations(  vac[0], m ) ) , dtype=np.int8)\n",
        "            return ΛMOgetB(combine_arrays(occ, Vac_choices), len(MO_p))\n",
        "        else:\n",
        "            return None\n",
        "\n",
        "    else: ### MO-conserved-calculation\n",
        "        ## excitation order must be less than avaiable orbitals\n",
        "        if m <= len(occ[0]) and m <= len(vac[0]): \n",
        "            Occ_choices = np.asarray( list(combinations(  occ[0], len(occ[0]) - m ) ) , dtype=np.int8)\n",
        "            Vac_choices = np.asarray( list(combinations(  vac[0], m ) ) , dtype=np.int8)\n",
        "            return ΛMOgetB(combine_arrays(Occ_choices, Vac_choices), len(MO_p))\n",
        "        else:\n",
        "            return None\n",
        "\n",
        "reff = np.array([1, 1, 1, 0, 1, 0, 0, 1, 0, 0]) ## ref3_sp[0] #\n",
        "print(reff)\n",
        "MOexcite = MO_X(reff, 0, SF=True)\n",
        "\n",
        "### Test 1\n",
        "print( np.all(np.einsum(\"Ip -> I\", MOexcite) == np.sum(reff)) ) ## 5 electrons\n",
        "\n",
        "### Test 2\n",
        "print( MOexcite.shape[0] == (np.unique( MOexcite, axis=1)).shape[0] )\n",
        "\n",
        "\n",
        "print( MO_X(reff, -6, SF=True) )"
      ],
      "metadata": {
        "colab": {
          "base_uri": "https://localhost:8080/"
        },
        "id": "twPGsAH4ydLP",
        "outputId": "9c031670-d981-41ae-d95e-5d0521bab8b4"
      },
      "execution_count": null,
      "outputs": [
        {
          "output_type": "stream",
          "name": "stdout",
          "text": [
            "[1 1 1 0 1 0 0 1 0 0]\n",
            "True\n",
            "True\n",
            "None\n"
          ]
        }
      ]
    },
    {
      "cell_type": "markdown",
      "source": [
        "# SO Excitation"
      ],
      "metadata": {
        "id": "z7YRShciXxn8"
      }
    },
    {
      "cell_type": "code",
      "source": [
        "def SO_X_m(ref_SO, m):\n",
        "\n",
        "    D     = None\n",
        "    first = True\n",
        "    for j in range(m+1):\n",
        "        A = MO_X(ref_SO[0],   j)\n",
        "        B = MO_X(ref_SO[1], m-j)\n",
        "        if A is not None and B is not None:\n",
        "            C = SpinOuterProduct(A, B, stack=True)\n",
        "            if first:\n",
        "                D = C\n",
        "                first = False\n",
        "            else:\n",
        "                D = np.append(D, C, axis=1)\n",
        "        else:\n",
        "            continue\n",
        "    return D\n",
        "\n",
        "SO_X_m(ref3_sp, 1).shape"
      ],
      "metadata": {
        "colab": {
          "base_uri": "https://localhost:8080/"
        },
        "id": "MMUXdufIXwXl",
        "outputId": "a3b9aefd-8dc3-454a-8e62-bc8d7dc0dead"
      },
      "execution_count": null,
      "outputs": [
        {
          "output_type": "execute_result",
          "data": {
            "text/plain": [
              "(2, 40, 9)"
            ]
          },
          "metadata": {},
          "execution_count": 8
        }
      ]
    },
    {
      "cell_type": "code",
      "source": [
        "def SO_X_SF(ref_SO, m):\n",
        "    C = None\n",
        "    D = None\n",
        "    ## +3 & -3\n",
        "    A = MO_X(ref_SO[0],  m, SF=True)\n",
        "    B = MO_X(ref_SO[1], -m, SF=True)\n",
        "    if A is not None and B is not None:\n",
        "        C = SpinOuterProduct(A, B, stack=True)\n",
        "    \n",
        "    ## -3 & +3\n",
        "    A = MO_X(ref_SO[0], -m, SF=True)\n",
        "    B = MO_X(ref_SO[1],  m, SF=True)\n",
        "    if A is not None and B is not None:\n",
        "        D = SpinOuterProduct(A, B, stack=True)\n",
        "    \n",
        "    if C is not None and D is not None:\n",
        "        return np.append(D, C, axis=1)\n",
        "    if C is not None:\n",
        "        return C\n",
        "    if D is not None:\n",
        "        return D\n",
        "    else:\n",
        "        return None\n",
        "\n",
        "print( ref4_sp )\n",
        "print( SO_X_SF(ref4_sp, 2) )"
      ],
      "metadata": {
        "colab": {
          "base_uri": "https://localhost:8080/"
        },
        "id": "iMI1rj2faTRH",
        "outputId": "343b68f5-91d5-4fc8-9c6e-433c5fff342b"
      },
      "execution_count": null,
      "outputs": [
        {
          "output_type": "stream",
          "name": "stdout",
          "text": [
            "[[1 1 0 0 0]\n",
            " [1 1 0 0 0]]\n",
            "[[[0 0 0 0 0]\n",
            "  [0 0 0 0 0]\n",
            "  [0 0 0 0 0]\n",
            "  [1 1 1 1 0]\n",
            "  [1 1 1 0 1]\n",
            "  [1 1 0 1 1]]\n",
            "\n",
            " [[1 1 1 1 0]\n",
            "  [1 1 1 0 1]\n",
            "  [1 1 0 1 1]\n",
            "  [0 0 0 0 0]\n",
            "  [0 0 0 0 0]\n",
            "  [0 0 0 0 0]]]\n"
          ]
        }
      ]
    },
    {
      "cell_type": "code",
      "source": [
        "def SO_X(ref_SO, m, SF=False):\n",
        "\n",
        "    if SF:\n",
        "        C = None\n",
        "        D = None\n",
        "        ## +3 & -3\n",
        "        A = MO_X(ref_SO[0],  m, SF=True)\n",
        "        B = MO_X(ref_SO[1], -m, SF=True)\n",
        "        if A is not None and B is not None:\n",
        "            C = SpinOuterProduct(A, B, stack=True)\n",
        "        \n",
        "        ## -3 & +3\n",
        "        A = MO_X(ref_SO[0], -m, SF=True)\n",
        "        B = MO_X(ref_SO[1],  m, SF=True)\n",
        "        if A is not None and B is not None:\n",
        "            D = SpinOuterProduct(A, B, stack=True)\n",
        "        \n",
        "        if C is not None and D is not None:\n",
        "            return np.append(D, C, axis=1)\n",
        "        if C is not None:\n",
        "            return C\n",
        "        if D is not None:\n",
        "            return D\n",
        "        else:\n",
        "            return None\n",
        "\n",
        "    else:\n",
        "        D     = None\n",
        "        first = True\n",
        "        for j in range(m+1):\n",
        "            A = MO_X(ref_SO[0],   j)\n",
        "            B = MO_X(ref_SO[1], m-j)\n",
        "            if A is not None and B is not None:\n",
        "                C = SpinOuterProduct(A, B, stack=True)\n",
        "                if first:\n",
        "                    D = C\n",
        "                    first = False\n",
        "                else:\n",
        "                    D = np.append(D, C, axis=1)\n",
        "            else:\n",
        "                continue\n",
        "        return D\n",
        "\n",
        "SO_X(ref4_sp, 2, SF=False)"
      ],
      "metadata": {
        "colab": {
          "base_uri": "https://localhost:8080/"
        },
        "id": "nEeHKmXngQuY",
        "outputId": "a7907d5c-47e2-458a-9520-c166627cfdc7"
      },
      "execution_count": null,
      "outputs": [
        {
          "output_type": "execute_result",
          "data": {
            "text/plain": [
              "array([[[1, 1, 0, 0, 0],\n",
              "        [1, 1, 0, 0, 0],\n",
              "        [1, 1, 0, 0, 0],\n",
              "        [1, 0, 1, 0, 0],\n",
              "        [1, 0, 1, 0, 0],\n",
              "        [1, 0, 1, 0, 0],\n",
              "        [1, 0, 1, 0, 0],\n",
              "        [1, 0, 1, 0, 0],\n",
              "        [1, 0, 1, 0, 0],\n",
              "        [1, 0, 0, 1, 0],\n",
              "        [1, 0, 0, 1, 0],\n",
              "        [1, 0, 0, 1, 0],\n",
              "        [1, 0, 0, 1, 0],\n",
              "        [1, 0, 0, 1, 0],\n",
              "        [1, 0, 0, 1, 0],\n",
              "        [1, 0, 0, 0, 1],\n",
              "        [1, 0, 0, 0, 1],\n",
              "        [1, 0, 0, 0, 1],\n",
              "        [1, 0, 0, 0, 1],\n",
              "        [1, 0, 0, 0, 1],\n",
              "        [1, 0, 0, 0, 1],\n",
              "        [0, 1, 1, 0, 0],\n",
              "        [0, 1, 1, 0, 0],\n",
              "        [0, 1, 1, 0, 0],\n",
              "        [0, 1, 1, 0, 0],\n",
              "        [0, 1, 1, 0, 0],\n",
              "        [0, 1, 1, 0, 0],\n",
              "        [0, 1, 0, 1, 0],\n",
              "        [0, 1, 0, 1, 0],\n",
              "        [0, 1, 0, 1, 0],\n",
              "        [0, 1, 0, 1, 0],\n",
              "        [0, 1, 0, 1, 0],\n",
              "        [0, 1, 0, 1, 0],\n",
              "        [0, 1, 0, 0, 1],\n",
              "        [0, 1, 0, 0, 1],\n",
              "        [0, 1, 0, 0, 1],\n",
              "        [0, 1, 0, 0, 1],\n",
              "        [0, 1, 0, 0, 1],\n",
              "        [0, 1, 0, 0, 1],\n",
              "        [0, 0, 1, 1, 0],\n",
              "        [0, 0, 1, 0, 1],\n",
              "        [0, 0, 0, 1, 1]],\n",
              "\n",
              "       [[0, 0, 1, 1, 0],\n",
              "        [0, 0, 1, 0, 1],\n",
              "        [0, 0, 0, 1, 1],\n",
              "        [1, 0, 1, 0, 0],\n",
              "        [1, 0, 0, 1, 0],\n",
              "        [1, 0, 0, 0, 1],\n",
              "        [0, 1, 1, 0, 0],\n",
              "        [0, 1, 0, 1, 0],\n",
              "        [0, 1, 0, 0, 1],\n",
              "        [1, 0, 1, 0, 0],\n",
              "        [1, 0, 0, 1, 0],\n",
              "        [1, 0, 0, 0, 1],\n",
              "        [0, 1, 1, 0, 0],\n",
              "        [0, 1, 0, 1, 0],\n",
              "        [0, 1, 0, 0, 1],\n",
              "        [1, 0, 1, 0, 0],\n",
              "        [1, 0, 0, 1, 0],\n",
              "        [1, 0, 0, 0, 1],\n",
              "        [0, 1, 1, 0, 0],\n",
              "        [0, 1, 0, 1, 0],\n",
              "        [0, 1, 0, 0, 1],\n",
              "        [1, 0, 1, 0, 0],\n",
              "        [1, 0, 0, 1, 0],\n",
              "        [1, 0, 0, 0, 1],\n",
              "        [0, 1, 1, 0, 0],\n",
              "        [0, 1, 0, 1, 0],\n",
              "        [0, 1, 0, 0, 1],\n",
              "        [1, 0, 1, 0, 0],\n",
              "        [1, 0, 0, 1, 0],\n",
              "        [1, 0, 0, 0, 1],\n",
              "        [0, 1, 1, 0, 0],\n",
              "        [0, 1, 0, 1, 0],\n",
              "        [0, 1, 0, 0, 1],\n",
              "        [1, 0, 1, 0, 0],\n",
              "        [1, 0, 0, 1, 0],\n",
              "        [1, 0, 0, 0, 1],\n",
              "        [0, 1, 1, 0, 0],\n",
              "        [0, 1, 0, 1, 0],\n",
              "        [0, 1, 0, 0, 1],\n",
              "        [1, 1, 0, 0, 0],\n",
              "        [1, 1, 0, 0, 0],\n",
              "        [1, 1, 0, 0, 0]]], dtype=int8)"
            ]
          },
          "metadata": {},
          "execution_count": 10
        }
      ]
    },
    {
      "cell_type": "markdown",
      "source": [
        "# Reference Excitation"
      ],
      "metadata": {
        "id": "jwzVr6jYg2Tu"
      }
    },
    {
      "cell_type": "code",
      "source": [
        "CIm = [0,1,2]\n",
        "SFm = [1,3]\n",
        "\n",
        "def Ref_X(ref_SO, RAS=None, CIm=None, SFm=None):\n",
        "\n",
        "    if RAS is None:\n",
        "        RAS = np.arange(0, ref_SO.shape[1], 1, dtype=int)\n",
        "\n",
        "    RASref = ref_SO[:, RAS]\n",
        "    #loop   = Ext(reference, RASCI.shape[1]).swapaxes(1,2)\n",
        "    \n",
        "\n",
        "    ### CIm Loop\n",
        "    if CIm is not None:\n",
        "        first = True\n",
        "        for i in range(len(CIm)):\n",
        "            CIm_sIp = SO_X(RASref, CIm[i], SF=False)\n",
        "            if first and CIm_sIp is not None:\n",
        "                outCI = CIm_sIp\n",
        "                first = False\n",
        "                continue\n",
        "            if CIm_sIp is not None:\n",
        "                outCI = np.append(outCI, CIm_sIp, axis=1)\n",
        "            else:\n",
        "                continue\n",
        "        out = Ext(ref_SO, outCI.shape[1])\n",
        "        out[:,:,RAS]\n",
        "        print(out.shape)\n",
        "\n",
        "    ### SFm Loop\n",
        "    if SFm is not None:\n",
        "        first = True\n",
        "        for i in range(len(SFm)):\n",
        "            SFm_sIp = SO_X(RASref, SFm[i], SF=True)\n",
        "            if first and CIm_sIp is not None:\n",
        "                outSF = SFm_sIp\n",
        "                first = False\n",
        "                continue\n",
        "            if SFm_sIp is not None:\n",
        "                outSF = np.append(outSF, SFm_sIp, axis=1)\n",
        "            else:\n",
        "                continue\n",
        "    \n",
        "\n",
        "\n",
        "    return outCI, outSF\n",
        "\n",
        "outCI, outSF = Ref_X(ref4_sp, CIm=CIm, SFm=SFm)\n",
        "outSF.shape"
      ],
      "metadata": {
        "colab": {
          "base_uri": "https://localhost:8080/"
        },
        "id": "eIqPvVCgg4Fs",
        "outputId": "11345b66-e4f4-4f6d-d357-e7546162daea"
      },
      "execution_count": null,
      "outputs": [
        {
          "output_type": "stream",
          "name": "stdout",
          "text": [
            "(2, 5, 55)\n"
          ]
        },
        {
          "output_type": "execute_result",
          "data": {
            "text/plain": [
              "(2, 12, 5)"
            ]
          },
          "metadata": {},
          "execution_count": 11
        }
      ]
    },
    {
      "cell_type": "markdown",
      "source": [
        "# "
      ],
      "metadata": {
        "id": "L97guGlDaPaJ"
      }
    },
    {
      "cell_type": "code",
      "source": [
        "ref4_sp"
      ],
      "metadata": {
        "colab": {
          "base_uri": "https://localhost:8080/"
        },
        "id": "6eIfqgeXWIfn",
        "outputId": "fa67d4d6-7e74-4511-e1d1-9911b3e9bef8"
      },
      "execution_count": null,
      "outputs": [
        {
          "output_type": "execute_result",
          "data": {
            "text/plain": [
              "array([[1, 1, 0, 0, 0],\n",
              "       [1, 1, 0, 0, 0]], dtype=int8)"
            ]
          },
          "metadata": {},
          "execution_count": 12
        }
      ]
    },
    {
      "cell_type": "markdown",
      "source": [
        "!!! this is wrong!!!"
      ],
      "metadata": {
        "id": "n3rA5MLCQhK9"
      }
    },
    {
      "cell_type": "code",
      "source": [
        "print(ref1_sp[0])\n",
        "MO_Excitation(ref1_sp[0], 5, SF=False)"
      ],
      "metadata": {
        "colab": {
          "base_uri": "https://localhost:8080/"
        },
        "id": "jJft1fW9Mv2n",
        "outputId": "32c2ad76-8d5d-4808-d103-440407323853"
      },
      "execution_count": null,
      "outputs": [
        {
          "output_type": "stream",
          "name": "stdout",
          "text": [
            "[1 1 1 1 1 0 0]\n"
          ]
        },
        {
          "output_type": "execute_result",
          "data": {
            "text/plain": [
              "array([[0, 0, 0, 0, 0, 0, 0]], dtype=int8)"
            ]
          },
          "metadata": {},
          "execution_count": 13
        }
      ]
    },
    {
      "cell_type": "code",
      "source": [
        "len(np.where(ref1_sp[0] == 1)[0]) > j-1"
      ],
      "metadata": {
        "colab": {
          "base_uri": "https://localhost:8080/"
        },
        "id": "XTn0ZrfoRpEg",
        "outputId": "483746b2-3b0d-4f7e-be21-5490ef23f54f"
      },
      "execution_count": null,
      "outputs": [
        {
          "output_type": "execute_result",
          "data": {
            "text/plain": [
              "True"
            ]
          },
          "metadata": {},
          "execution_count": 14
        }
      ]
    },
    {
      "cell_type": "markdown",
      "source": [
        "Now we would like to feed the result from above into a CI class to compute nonzero elements of the CI Hamiltonian Matrix."
      ],
      "metadata": {
        "id": "gdeVXdcy_wZn"
      }
    },
    {
      "cell_type": "code",
      "source": [
        "class CIraw(object):\n",
        "    # 1/10/22\n",
        "    ''' A class to compute CI Matrix Elements '''\n",
        "    def __init__(self, Binary):\n",
        "\n",
        "        CI_dt = np.int16\n",
        "        if len(Binary) < 125:\n",
        "            CI_dt  = np.int8\n",
        "        if len(Binary) > 32700:\n",
        "            CI_dt  = np.int32\n",
        "\n",
        "        Na   = np.einsum(\"Ip -> p\", Binary[:,0,:])\n",
        "        Nb   = np.einsum(\"Ip -> p\", Binary[:,1,:])\n",
        "        sign = np.cumsum( Binary, axis=2)\n",
        "        for I in range(len(Binary)):\n",
        "            ΛA = np.where(Binary[I,0,:]==1)[0]\n",
        "            ΛB = np.where(Binary[I,1,:]==1)[0]\n",
        "            sign[I, 0, ΛA] = np.arange(0, len(ΛA), 1)\n",
        "            sign[I, 1, ΛB] = np.arange(0, len(ΛB), 1)\n",
        "\n",
        "        self.sign = ( (-1)**(sign) ).astype(np.int8)\n",
        "\n",
        "        ### basics\n",
        "        Difference     = np.einsum(\"Isp, J -> IJsp\", Binary, np.ones(len(Binary), dtype=np.int8)) - np.einsum(\"Isp, J -> JIsp\", Binary, np.ones(len(Binary), dtype=np.int8))\n",
        "        Sum            = np.einsum(\"Isp, J -> IJsp\", Binary, np.ones(len(Binary), dtype=np.int8)) + np.einsum(\"Isp, J -> JIsp\", Binary, np.ones(len(Binary), dtype=np.int8))\n",
        "        SpinDifference = np.einsum(\"IJsp -> IJs\", np.abs(Difference))//2\n",
        "\n",
        "        print(SpinDifference.shape)\n",
        "\n",
        "        I_A, J_A = np.where( np.all(SpinDifference==np.array([1,0], dtype=np.int8), axis=2) )\n",
        "        I_B, J_B = np.where( np.all(SpinDifference==np.array([0,1], dtype=np.int8), axis=2) )\n",
        "        self.I_A = I_A.astype(CI_dt)\n",
        "        self.J_A = J_A.astype(CI_dt)\n",
        "        self.I_B = I_B.astype(CI_dt)\n",
        "        self.J_B = J_B.astype(CI_dt)\n",
        "\n",
        "\n",
        "        CC_A = ( Binary[self.I_A, 0] + Binary[self.J_A, 0] )//2\n",
        "        CC_B = ( Binary[self.I_B, 1] + Binary[self.J_B, 1] )//2\n",
        "        print(CC_B.dtype)\n",
        "\n",
        "        self.A_t  = (np.where( Difference[self.I_A, self.J_A, 0] ==  1 )[1]).astype(CI_dt)\n",
        "        self.A    = (np.where( Difference[self.I_A, self.J_A, 0] == -1 )[1]).astype(CI_dt)\n",
        "        self.B_t  = (np.where( Difference[self.I_B, self.J_B, 1] ==  1 )[1]).astype(CI_dt)\n",
        "        self.B    = (np.where( Difference[self.I_B, self.J_B, 1] == -1 )[1]).astype(CI_dt)\n",
        "        #self.CA_i = ((np.where( Sum[self.I_A, self.J_A, 0] == 2 )[1]).reshape(len(self.I_A), Na[0]-1)).astype(CI_dt)\n",
        "        #self.CB_i = ((np.where( Sum[self.I_B, self.J_B, 1] == 2 )[1]).reshape(len(self.I_B), Nb[0]-1)).astype(CI_dt)\n",
        "\n",
        "        \n",
        "\n",
        "\n",
        "\n",
        "        I_AA, J_AA = np.where( np.all(SpinDifference==np.array([2,0], dtype=np.int8), axis=2) )\n",
        "        I_BB, J_BB = np.where( np.all(SpinDifference==np.array([0,2], dtype=np.int8), axis=2) )\n",
        "        I_AB, J_AB = np.where( np.all(SpinDifference==np.array([1,1], dtype=np.int8), axis=2) )\n",
        "        self.I_AA = I_AA.astype(CI_dt)\n",
        "        self.J_AA = J_AA.astype(CI_dt)\n",
        "        self.I_BB = I_BB.astype(CI_dt)\n",
        "        self.J_BB = J_BB.astype(CI_dt)\n",
        "        self.I_AB = I_AB.astype(CI_dt)\n",
        "        self.J_AB = J_AB.astype(CI_dt)\n",
        "\n",
        "        self.AA   = (np.where( Difference[self.I_AA, self.J_AA, 0] == -1)[1].reshape(len(self.I_AA),2).T).astype(CI_dt)\n",
        "        self.AA_t = (np.where( Difference[self.I_AA, self.J_AA, 0] ==  1)[1].reshape(len(self.I_AA),2).T).astype(CI_dt)\n",
        "        self.BB   = (np.where( Difference[self.I_BB, self.J_BB, 1] == -1)[1].reshape(len(self.I_BB),2).T).astype(CI_dt)\n",
        "        self.BB_t = (np.where( Difference[self.I_BB, self.J_BB, 1] ==  1)[1].reshape(len(self.I_BB),2).T).astype(CI_dt)\n",
        "        self.AB   = np.asarray([ np.where( Difference[self.I_AB, self.J_AB, 0] == -1 )[1], np.where( Difference[self.I_AB, self.J_AB, 1] == -1 )[1] ], dtype=CI_dt)\n",
        "        self.AB_t = np.asarray([ np.where( Difference[self.I_AB, self.J_AB, 0] ==  1 )[1], np.where( Difference[self.I_AB, self.J_AB, 1] ==  1 )[1] ], dtype=CI_dt)\n",
        "\n",
        "    def H1CI(self, H1_so):\n",
        "\n",
        "        Rule0  = np.einsum(\"Ip, pp -> I\", Binary[:,0,:], H1_so[0])\n",
        "        Rule0 += np.einsum(\"Ip, pp -> I\", Binary[:,1,:], H1_so[1]) \n",
        "        H1CI   = np.diag(Rule0)\n",
        "        if (self.I_A).size > 0:\n",
        "            H1CI[self.I_A, self.J_A]  = H1_so[0, self.A, self.A_t]\n",
        "            H1CI[self.I_A, self.J_A] *= self.sign[self.I_A, 0, self.A_t] * self.sign[self.J_A, 0, self.A]\n",
        "        if (self.I_B).size > 0:\n",
        "            H1CI[self.I_B, self.J_B]  = H1_so[1, self.B, self.B_t]\n",
        "            H1CI[self.I_B, self.J_B] *= self.sign[self.I_B, 1, self.B_t] * self.sign[self.J_B, 1, self.B]\n",
        "\n",
        "\n",
        "        return H1CI\n",
        "\n",
        "\n",
        "    def H2CI(self, H2_so):\n",
        "\n",
        "        Rule0 += np.einsum(\"Ip, Iq, ppqq -> I\", Binary[:,0,:], Binary[:,0,:], H2_so[0,0])/2 \n",
        "        Rule0 += np.einsum(\"Ip, Iq, ppqq -> I\", Binary[:,1,:], Binary[:,0,:], H2_so[1,0])/2 \n",
        "        Rule0 += np.einsum(\"Ip, Iq, ppqq -> I\", Binary[:,0,:], Binary[:,1,:], H2_so[0,1])/2\n",
        "        Rule0 += np.einsum(\"Ip, Iq, ppqq -> I\", Binary[:,1,:], Binary[:,1,:], H2_so[1,1])/2 \n",
        "        H2CI   = np.diag(Rule0)\n",
        "\n",
        "        if (self.I_A).size > 0:\n",
        "            H_CI[self.I_A, self.J_A] += np.einsum(\"In -> I\", H2_so[0, 0, Ext(A, N_s[0]-1), Ext(A_t, Na[0]-1), self.CA_i, self.CA_i])\n",
        "            H_CI[self.I_A, self.J_A] += np.einsum(\"Ii -> I\", H2_so[0, 1, Ext(A, N_s[1]  ), Ext(A_t, Nb[0]  ), ΛB[I_A], ΛB[J_A]])\n",
        "            H_CI[self.I_A, self.J_A] *= self.sign[self.I_A, 0, self.A_t] * self.sign[self.J_A, 0, self.A]\n",
        "\n",
        "        if (self.I_B).size > 0:\n",
        "            H_CI[self.I_B, self.J_B] += np.einsum(\"In -> I\", H2_so[1, 1, Ext(self.B, N_s[1]-1), Ext(self.B_t, Nb[0]-1), self.CB_i, self.CB_i])\n",
        "            H_CI[self.I_B, self.J_B] += np.einsum(\"Ii -> I\", H2_so[1, 0, Ext(self.B, N_s[0]  ), Ext(self.B_t, Na[0]  ), self.ΛA[I_B], self.ΛA[J_B]])\n",
        "            H_CI[self.I_B, self.J_B] *= self.sign[self.I_B, 1, self.B_t] * self.sign[self.J_B, 1, self.B]\n",
        "\n",
        "        if (self.I_AA).size > 0:\n",
        "            H2CI[self.I_AA, self.J_AA]  = H2_so[0, 0, self.AA[0], self.AA_t[0], self.AA[1], self.AA_t[1]]\n",
        "            H2CI[self.I_AA, self.J_AA] *= self.sign[self.I_AA, 0, self.AA[0]] * self.sign[self.J_AA, 0, self.AA_t[0]] \n",
        "            H2CI[self.I_AA, self.J_AA] *= self.sign[self.I_AA, 0, self.AA[1]] * self.sign[self.J_AA, 0, self.AA_t[1]]\n",
        "\n",
        "        if (self.I_BB).size > 0:\n",
        "            H2CI[self.I_BB, self.J_BB]  = H2_so[1, 1, self.BB[0], self.BB_t[0], self.BB[1], self.BB_t[1]]\n",
        "            H2CI[self.I_BB, self.J_BB] *= self.sign[self.I_BB, 1, self.BB[0]] * self.sign[self.J_BB, 1, self.BB_t[0]] \n",
        "            H2CI[self.I_BB, self.J_BB] *= self.sign[self.I_BB, 1, self.BB[1]] * self.sign[self.J_BB, 1, self.BB_t[1]]\n",
        "\n",
        "        if (self.I_AB).size > 0:\n",
        "            H2CI[self.I_AB, self.J_AB]  = H2_so[0, 1, self.AB[0], self.AB_t[0], self.AB[1], self.AB_t[1]]\n",
        "            H2CI[self.I_AB, self.J_AB] *= self.sign[self.I_AB, 0, self.AB[0]] * self.sign[self.J_AB, 0, self.AB_t[0]] \n",
        "            H2CI[self.I_AB, self.J_AB] *= self.sign[self.I_AB, 1, self.AB[1]] * self.sign[self.J_AB, 1, self.AB_t[1]]\n",
        "\n",
        "\n",
        "        return H2CI\n",
        "\n",
        "\n",
        "    def HCI(self, H1_so, H2_so):\n",
        "        return self.H1CI(H1_so) + self.H2CI(H2_so)\n",
        "\n",
        "print( AA.shape )\n",
        "\n",
        "asd = CIraw(AA.swapaxes(0,1))\n",
        "asd.A_t"
      ],
      "metadata": {
        "colab": {
          "base_uri": "https://localhost:8080/",
          "height": 391
        },
        "id": "_oa_VxqzALgf",
        "outputId": "9aa950e6-7279-4fe8-dd13-5e2081b96ce4"
      },
      "execution_count": null,
      "outputs": [
        {
          "output_type": "stream",
          "name": "stdout",
          "text": [
            "(2, 327, 7)\n",
            "(327, 327, 2)\n",
            "int8\n"
          ]
        },
        {
          "output_type": "error",
          "ename": "ValueError",
          "evalue": "ignored",
          "traceback": [
            "\u001b[0;31m---------------------------------------------------------------------------\u001b[0m",
            "\u001b[0;31mValueError\u001b[0m                                Traceback (most recent call last)",
            "\u001b[0;32m<ipython-input-15-f47dbc3d38d2>\u001b[0m in \u001b[0;36m<module>\u001b[0;34m()\u001b[0m\n\u001b[1;32m    126\u001b[0m \u001b[0mprint\u001b[0m\u001b[0;34m(\u001b[0m \u001b[0mAA\u001b[0m\u001b[0;34m.\u001b[0m\u001b[0mshape\u001b[0m \u001b[0;34m)\u001b[0m\u001b[0;34m\u001b[0m\u001b[0;34m\u001b[0m\u001b[0m\n\u001b[1;32m    127\u001b[0m \u001b[0;34m\u001b[0m\u001b[0m\n\u001b[0;32m--> 128\u001b[0;31m \u001b[0masd\u001b[0m \u001b[0;34m=\u001b[0m \u001b[0mCIraw\u001b[0m\u001b[0;34m(\u001b[0m\u001b[0mAA\u001b[0m\u001b[0;34m.\u001b[0m\u001b[0mswapaxes\u001b[0m\u001b[0;34m(\u001b[0m\u001b[0;36m0\u001b[0m\u001b[0;34m,\u001b[0m\u001b[0;36m1\u001b[0m\u001b[0;34m)\u001b[0m\u001b[0;34m)\u001b[0m\u001b[0;34m\u001b[0m\u001b[0;34m\u001b[0m\u001b[0m\n\u001b[0m\u001b[1;32m    129\u001b[0m \u001b[0masd\u001b[0m\u001b[0;34m.\u001b[0m\u001b[0mA_t\u001b[0m\u001b[0;34m\u001b[0m\u001b[0;34m\u001b[0m\u001b[0m\n",
            "\u001b[0;32m<ipython-input-15-f47dbc3d38d2>\u001b[0m in \u001b[0;36m__init__\u001b[0;34m(self, Binary)\u001b[0m\n\u001b[1;32m     61\u001b[0m         \u001b[0mself\u001b[0m\u001b[0;34m.\u001b[0m\u001b[0mJ_AB\u001b[0m \u001b[0;34m=\u001b[0m \u001b[0mJ_AB\u001b[0m\u001b[0;34m.\u001b[0m\u001b[0mastype\u001b[0m\u001b[0;34m(\u001b[0m\u001b[0mCI_dt\u001b[0m\u001b[0;34m)\u001b[0m\u001b[0;34m\u001b[0m\u001b[0;34m\u001b[0m\u001b[0m\n\u001b[1;32m     62\u001b[0m \u001b[0;34m\u001b[0m\u001b[0m\n\u001b[0;32m---> 63\u001b[0;31m         \u001b[0mself\u001b[0m\u001b[0;34m.\u001b[0m\u001b[0mAA\u001b[0m   \u001b[0;34m=\u001b[0m \u001b[0;34m(\u001b[0m\u001b[0mnp\u001b[0m\u001b[0;34m.\u001b[0m\u001b[0mwhere\u001b[0m\u001b[0;34m(\u001b[0m \u001b[0mDifference\u001b[0m\u001b[0;34m[\u001b[0m\u001b[0mself\u001b[0m\u001b[0;34m.\u001b[0m\u001b[0mI_AA\u001b[0m\u001b[0;34m,\u001b[0m \u001b[0mself\u001b[0m\u001b[0;34m.\u001b[0m\u001b[0mJ_AA\u001b[0m\u001b[0;34m,\u001b[0m \u001b[0;36m0\u001b[0m\u001b[0;34m]\u001b[0m \u001b[0;34m==\u001b[0m \u001b[0;34m-\u001b[0m\u001b[0;36m1\u001b[0m\u001b[0;34m)\u001b[0m\u001b[0;34m[\u001b[0m\u001b[0;36m1\u001b[0m\u001b[0;34m]\u001b[0m\u001b[0;34m.\u001b[0m\u001b[0mreshape\u001b[0m\u001b[0;34m(\u001b[0m\u001b[0mlen\u001b[0m\u001b[0;34m(\u001b[0m\u001b[0mself\u001b[0m\u001b[0;34m.\u001b[0m\u001b[0mI_AA\u001b[0m\u001b[0;34m)\u001b[0m\u001b[0;34m,\u001b[0m\u001b[0;36m2\u001b[0m\u001b[0;34m)\u001b[0m\u001b[0;34m.\u001b[0m\u001b[0mT\u001b[0m\u001b[0;34m)\u001b[0m\u001b[0;34m.\u001b[0m\u001b[0mastype\u001b[0m\u001b[0;34m(\u001b[0m\u001b[0mCI_dt\u001b[0m\u001b[0;34m)\u001b[0m\u001b[0;34m\u001b[0m\u001b[0;34m\u001b[0m\u001b[0m\n\u001b[0m\u001b[1;32m     64\u001b[0m         \u001b[0mself\u001b[0m\u001b[0;34m.\u001b[0m\u001b[0mAA_t\u001b[0m \u001b[0;34m=\u001b[0m \u001b[0;34m(\u001b[0m\u001b[0mnp\u001b[0m\u001b[0;34m.\u001b[0m\u001b[0mwhere\u001b[0m\u001b[0;34m(\u001b[0m \u001b[0mDifference\u001b[0m\u001b[0;34m[\u001b[0m\u001b[0mself\u001b[0m\u001b[0;34m.\u001b[0m\u001b[0mI_AA\u001b[0m\u001b[0;34m,\u001b[0m \u001b[0mself\u001b[0m\u001b[0;34m.\u001b[0m\u001b[0mJ_AA\u001b[0m\u001b[0;34m,\u001b[0m \u001b[0;36m0\u001b[0m\u001b[0;34m]\u001b[0m \u001b[0;34m==\u001b[0m  \u001b[0;36m1\u001b[0m\u001b[0;34m)\u001b[0m\u001b[0;34m[\u001b[0m\u001b[0;36m1\u001b[0m\u001b[0;34m]\u001b[0m\u001b[0;34m.\u001b[0m\u001b[0mreshape\u001b[0m\u001b[0;34m(\u001b[0m\u001b[0mlen\u001b[0m\u001b[0;34m(\u001b[0m\u001b[0mself\u001b[0m\u001b[0;34m.\u001b[0m\u001b[0mI_AA\u001b[0m\u001b[0;34m)\u001b[0m\u001b[0;34m,\u001b[0m\u001b[0;36m2\u001b[0m\u001b[0;34m)\u001b[0m\u001b[0;34m.\u001b[0m\u001b[0mT\u001b[0m\u001b[0;34m)\u001b[0m\u001b[0;34m.\u001b[0m\u001b[0mastype\u001b[0m\u001b[0;34m(\u001b[0m\u001b[0mCI_dt\u001b[0m\u001b[0;34m)\u001b[0m\u001b[0;34m\u001b[0m\u001b[0;34m\u001b[0m\u001b[0m\n\u001b[1;32m     65\u001b[0m         \u001b[0mself\u001b[0m\u001b[0;34m.\u001b[0m\u001b[0mBB\u001b[0m   \u001b[0;34m=\u001b[0m \u001b[0;34m(\u001b[0m\u001b[0mnp\u001b[0m\u001b[0;34m.\u001b[0m\u001b[0mwhere\u001b[0m\u001b[0;34m(\u001b[0m \u001b[0mDifference\u001b[0m\u001b[0;34m[\u001b[0m\u001b[0mself\u001b[0m\u001b[0;34m.\u001b[0m\u001b[0mI_BB\u001b[0m\u001b[0;34m,\u001b[0m \u001b[0mself\u001b[0m\u001b[0;34m.\u001b[0m\u001b[0mJ_BB\u001b[0m\u001b[0;34m,\u001b[0m \u001b[0;36m1\u001b[0m\u001b[0;34m]\u001b[0m \u001b[0;34m==\u001b[0m \u001b[0;34m-\u001b[0m\u001b[0;36m1\u001b[0m\u001b[0;34m)\u001b[0m\u001b[0;34m[\u001b[0m\u001b[0;36m1\u001b[0m\u001b[0;34m]\u001b[0m\u001b[0;34m.\u001b[0m\u001b[0mreshape\u001b[0m\u001b[0;34m(\u001b[0m\u001b[0mlen\u001b[0m\u001b[0;34m(\u001b[0m\u001b[0mself\u001b[0m\u001b[0;34m.\u001b[0m\u001b[0mI_BB\u001b[0m\u001b[0;34m)\u001b[0m\u001b[0;34m,\u001b[0m\u001b[0;36m2\u001b[0m\u001b[0;34m)\u001b[0m\u001b[0;34m.\u001b[0m\u001b[0mT\u001b[0m\u001b[0;34m)\u001b[0m\u001b[0;34m.\u001b[0m\u001b[0mastype\u001b[0m\u001b[0;34m(\u001b[0m\u001b[0mCI_dt\u001b[0m\u001b[0;34m)\u001b[0m\u001b[0;34m\u001b[0m\u001b[0;34m\u001b[0m\u001b[0m\n",
            "\u001b[0;31mValueError\u001b[0m: cannot reshape array of size 3960 into shape (1800,2)"
          ]
        }
      ]
    },
    {
      "cell_type": "code",
      "source": [
        "Difference     = np.einsum(\"Isp, J -> IJsp\", Binary, np.ones(len(Binary), dtype=np.int8)) - np.einsum(\"Isp, J -> JIsp\", Binary, np.ones(len(Binary), dtype=np.int8))\n",
        "Sum            = np.einsum(\"Isp, J -> IJsp\", Binary, np.ones(len(Binary), dtype=np.int8)) + np.einsum(\"Isp, J -> JIsp\", Binary, np.ones(len(Binary), dtype=np.int8))\n",
        "SpinDifference = np.einsum(\"IJsp -> IJs\", np.abs(Difference))//2"
      ],
      "metadata": {
        "id": "GmFG1-lj_ffG"
      },
      "execution_count": null,
      "outputs": []
    },
    {
      "cell_type": "code",
      "source": [
        "( np.ones(5)/2 ).astype(np.int8)"
      ],
      "metadata": {
        "id": "Q1yZ__-14bXT"
      },
      "execution_count": null,
      "outputs": []
    },
    {
      "cell_type": "code",
      "source": [
        ""
      ],
      "metadata": {
        "id": "ZKTf4n-n4cXY"
      },
      "execution_count": null,
      "outputs": []
    }
  ]
}