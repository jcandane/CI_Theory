{
  "nbformat": 4,
  "nbformat_minor": 0,
  "metadata": {
    "colab": {
      "name": "CIround1.ipynb",
      "provenance": [],
      "authorship_tag": "ABX9TyN4EuC92HbdZ3cShc6xIl6K",
      "include_colab_link": true
    },
    "kernelspec": {
      "name": "python3",
      "display_name": "Python 3"
    },
    "language_info": {
      "name": "python"
    }
  },
  "cells": [
    {
      "cell_type": "markdown",
      "metadata": {
        "id": "view-in-github",
        "colab_type": "text"
      },
      "source": [
        "<a href=\"https://colab.research.google.com/github/jcandane/CI_Theory/blob/main/CIround1.ipynb\" target=\"_parent\"><img src=\"https://colab.research.google.com/assets/colab-badge.svg\" alt=\"Open In Colab\"/></a>"
      ]
    },
    {
      "cell_type": "markdown",
      "source": [
        "# The Goal of this notebook is to introduce a standalone FCI program in Python."
      ],
      "metadata": {
        "id": "-MMV4gC98AaQ"
      }
    },
    {
      "cell_type": "markdown",
      "source": [
        "Import Libraries, set defaults"
      ],
      "metadata": {
        "id": "Yp1hG5oE8JK9"
      }
    },
    {
      "cell_type": "code",
      "execution_count": 1,
      "metadata": {
        "colab": {
          "base_uri": "https://localhost:8080/"
        },
        "id": "xjfamiUfzRLq",
        "outputId": "6144b93a-8fe7-4403-e3b6-e4b99d9bcdde"
      },
      "outputs": [
        {
          "output_type": "stream",
          "name": "stdout",
          "text": [
            "Requirement already satisfied: pyscf in /usr/local/lib/python3.7/dist-packages (2.0.1)\n",
            "Requirement already satisfied: h5py>=2.7 in /usr/local/lib/python3.7/dist-packages (from pyscf) (3.1.0)\n",
            "Requirement already satisfied: numpy!=1.16,!=1.17,>=1.13 in /usr/local/lib/python3.7/dist-packages (from pyscf) (1.19.5)\n",
            "Requirement already satisfied: scipy!=1.5.0,!=1.5.1 in /usr/local/lib/python3.7/dist-packages (from pyscf) (1.4.1)\n",
            "Requirement already satisfied: cached-property in /usr/local/lib/python3.7/dist-packages (from h5py>=2.7->pyscf) (1.5.2)\n"
          ]
        }
      ],
      "source": [
        "!pip install pyscf\n",
        "\n",
        "import numpy as np\n",
        "from itertools import combinations, permutations\n",
        "from pyscf import fci, ao2mo, scf, gto\n",
        "\n",
        "π = np.pi\n",
        "α = 0.007297352\n",
        "c = 1.0/α\n",
        "np.set_printoptions(precision=4, linewidth=200, threshold=2000, suppress=True)\n",
        "\n",
        "### for proformance reasons, list of determinants should be in np.int8 (1 B, upto 127 dets), np.int16 (2 B, upto 32,767 dets)), np.int32 (4 B, upto 2 billon dets)\n",
        "CI_dt  = np.int16 ### index that labels CI states, i.e. I, J, K in notes"
      ]
    },
    {
      "cell_type": "markdown",
      "source": [
        "Import defintions"
      ],
      "metadata": {
        "id": "myzsj52g8RZ7"
      }
    },
    {
      "cell_type": "code",
      "source": [
        "def ΛMOgetB(Λ, N_mo):\n",
        "  \"Given Λ (i occupied orbitals for each determinant) get B (binary rep.)\"\n",
        "\n",
        "  Binary  = np.zeros((Λ.shape[0], N_mo), dtype=np.int8)\n",
        "  for I in range(len(Binary)):\n",
        "      Binary[I, Λ[I,:]] = 1\n",
        "\n",
        "  return Binary\n",
        "\n",
        "def givenΛgetB(ΛA, ΛB, N_mo):\n",
        "  \"Given Λ (i occupied orbitals for each determinant) get B (binary rep.)\"\n",
        "\n",
        "  Binary  = np.zeros((ΛA.shape[0], 2, N_mo), dtype=np.int8)\n",
        "  for I in range(len(Binary)):\n",
        "      Binary[I, 0, ΛA[I,:]] = 1\n",
        "      Binary[I, 1, ΛB[I,:]] = 1\n",
        "\n",
        "  return Binary\n",
        "\n",
        "def givenBgetΛ(B):\n",
        "  \"Given B (entire MO binary occupation) get Λ (i occupied)\"\n",
        "\n",
        "  numA = len( (B[0,0])[ B[0,0] == 1 ] ) ## count num. of A occupied\n",
        "  numB = len( (B[0,1])[ B[0,1] == 1 ] ) ## count num. of B occupied\n",
        "\n",
        "  ΛA = np.zeros((B.shape[0], numA), dtype=np.int8)\n",
        "  ΛB = np.zeros((B.shape[0], numB), dtype=np.int8)\n",
        "  for I in range(len(Λ)):\n",
        "    ΛA[I] = np.where(B == 1)[1]\n",
        "    ΛB[I] = np.where(B == 1)[1]\n",
        "\n",
        "  return ΛA, ΛB\n",
        "\n",
        "def Ext(A, N, numtype=np.int8):\n",
        "    if A.ndim == 1:\n",
        "      return np.einsum(\"I, j -> Ij\", A, np.ones( N, dtype=numtype))\n",
        "    if A.ndim == 2:\n",
        "      return np.einsum(\"uI, j -> uIj\", A, np.ones( N, dtype=numtype))\n",
        "\n",
        "def SpinOuterProduct(A, B, stack=False):\n",
        "  ΛA = np.einsum(\"Ii, J -> IJi\", A, np.ones(B.shape[0], dtype=np.int8)).reshape( (A.shape[0]*B.shape[0], A.shape[1]) )\n",
        "  ΛB = np.einsum(\"Ii, J -> JIi\", B, np.ones(A.shape[0], dtype=np.int8)).reshape( (A.shape[0]*B.shape[0], B.shape[1]) )\n",
        "  \n",
        "  if stack:\n",
        "    return np.array([ΛA,ΛB])\n",
        "  else:\n",
        "    return ΛA, ΛB\n",
        "\n",
        "def get_SO_matrix(uhf_pyscf, SF=False, H1=None, H2=None):\n",
        "    \"\"\" Given a PySCF uhf object get SO Matrices \"\"\"\n",
        "\n",
        "    Ca, Cb = (uhf_pyscf).mo_coeff\n",
        "    S = (uhf_pyscf.mol).intor(\"int1e_ovlp\")\n",
        "    eig, v = np.linalg.eigh(S)\n",
        "    A = (v) @ np.diag(eig**(-0.5)) @ np.linalg.inv(v) \n",
        "    H = (uhf_pyscf.mol).intor('int1e_kin') + (uhf_pyscf.mol).intor('int1e_nuc') + (uhf_pyscf.mol).intor(\"ECPscalar\")\n",
        "\n",
        "    n = Ca.shape[1]\n",
        "    eri_aa = (ao2mo.general( (uhf_pyscf)._eri , (Ca, Ca, Ca, Ca), compact=False)).reshape((n,n,n,n), order=\"C\")\n",
        "    eri_aa -= eri_aa.swapaxes(1,3)\n",
        "    eri_bb = (ao2mo.general( (uhf_pyscf)._eri , (Cb, Cb, Cb, Cb), compact=False)).reshape((n,n,n,n), order=\"C\")\n",
        "    eri_bb -= eri_bb.swapaxes(1,3)\n",
        "    eri_ab = (ao2mo.general( (uhf_pyscf)._eri , (Ca, Ca, Cb, Cb), compact=False)).reshape((n,n,n,n), order=\"C\")\n",
        "    #eri_ba = (1.*eri_ab).swapaxes(0,3).swapaxes(1,2) ## !! caution depends on symmetry\n",
        "    eri_ba = (ao2mo.general( (uhf_pyscf)._eri , (Cb, Cb, Ca, Ca), compact=False)).reshape((n,n,n,n), order=\"C\")\n",
        "    H2 = np.stack(( np.stack((eri_aa, eri_ab)), np.stack((eri_ba, eri_bb)) ))\n",
        "\n",
        "    H1 = np.asarray([np.einsum(\"AB, Ap, Bq -> pq\", H, Ca, Ca), np.einsum(\"AB, Ap, Bq -> pq\", H, Cb, Cb)])\n",
        "\n",
        "    if SF:\n",
        "      eri_abab = (ao2mo.general( (uhf_pyscf)._eri , (Ca, Cb, Ca, Cb), compact=False)).reshape((n,n,n,n), order=\"C\")\n",
        "      eri_abba = (ao2mo.general( (uhf_pyscf)._eri , (Ca, Cb, Cb, Ca), compact=False)).reshape((n,n,n,n), order=\"C\")\n",
        "      eri_baab = (ao2mo.general( (uhf_pyscf)._eri , (Cb, Ca, Ca, Cb), compact=False)).reshape((n,n,n,n), order=\"C\")\n",
        "      eri_baba = (ao2mo.general( (uhf_pyscf)._eri , (Cb, Ca, Cb, Ca), compact=False)).reshape((n,n,n,n), order=\"C\")\n",
        "      H2_SF = np.stack(( np.stack((eri_abab, eri_abba)), np.stack((eri_baab, eri_baba)) ))\n",
        "      return H1, H2, H2_SF\n",
        "\n",
        "    else:\n",
        "      return H1, H2"
      ],
      "metadata": {
        "id": "-gkQF6nMzX1g"
      },
      "execution_count": 2,
      "outputs": []
    },
    {
      "cell_type": "markdown",
      "source": [
        "# Let's now do a PySCF HF Calculation"
      ],
      "metadata": {
        "id": "kDXmer_mzltr"
      }
    },
    {
      "cell_type": "code",
      "source": [
        "mol = gto.M(atom='He 0.0 0.0 0.0; H 1.5 0.0 0.0; He 0.0 1.5 0.0; N 0.0, 0.0, 1.5', spin=0, basis=\"sto-3g\")\n",
        "uhf = scf.UHF(mol)\n",
        "uhf.kernel()\n",
        "\n",
        "### information about occupation\n",
        "O_sp   = np.asarray((uhf).mo_occ, dtype=np.int8)\n",
        "N_s    = np.einsum(\"sp -> s\", O_sp)"
      ],
      "metadata": {
        "colab": {
          "base_uri": "https://localhost:8080/"
        },
        "id": "rOXs5jJxzek9",
        "outputId": "4e1b6d47-9f0d-4ab6-fe97-5ce2d1208c64"
      },
      "execution_count": 3,
      "outputs": [
        {
          "output_type": "stream",
          "name": "stdout",
          "text": [
            "converged SCF energy = -59.3998556537129  <S^2> = 1.5861234e-06  2S+1 = 1.0000032\n"
          ]
        }
      ]
    },
    {
      "cell_type": "markdown",
      "source": [
        "# Configuration Generation (fCI)"
      ],
      "metadata": {
        "id": "dm-H-P8Kz5ex"
      }
    },
    {
      "cell_type": "code",
      "source": [
        "N   = O_sp.shape[1]\n",
        "Λ_α = np.asarray( list(combinations(  np.arange(0, N, 1, dtype=np.int8)  , N_s[0] ) ) ) \n",
        "Λ_β = np.asarray( list(combinations(  np.arange(0, N, 1, dtype=np.int8)  , N_s[1] ) ) ) \n",
        "ΛA, ΛB = SpinOuterProduct(Λ_α, Λ_β)\n",
        "Binary = givenΛgetB(ΛA, ΛB, N)\n",
        "\n",
        "if len(Binary) < 125:\n",
        "    CI_dt  = np.int8\n",
        "if len(Binary) > 32700:\n",
        "    CI_dt  = np.int32"
      ],
      "metadata": {
        "id": "811a8CjYz-Ui"
      },
      "execution_count": 4,
      "outputs": []
    },
    {
      "cell_type": "markdown",
      "source": [
        "Determine Determinant Signs"
      ],
      "metadata": {
        "id": "eg8iU_2Lz-35"
      }
    },
    {
      "cell_type": "code",
      "source": [
        "sign  = np.cumsum( Binary, axis=2)\n",
        "for I in range(len(Binary)):\n",
        "    sign[I, 0, ΛA[I]] = np.arange(0, N_s[0], 1)\n",
        "    sign[I, 1, ΛB[I]] = np.arange(0, N_s[1], 1)\n",
        "\n",
        "Γ_Isp = ( (-1)**(sign) ).astype(np.int8)"
      ],
      "metadata": {
        "id": "udUSp5BQ0J4C"
      },
      "execution_count": 5,
      "outputs": []
    },
    {
      "cell_type": "markdown",
      "source": [
        "Determine Differences"
      ],
      "metadata": {
        "id": "FuBzw44b0XPc"
      }
    },
    {
      "cell_type": "code",
      "source": [
        "Binary         = givenΛgetB(ΛA, ΛB, N)\n",
        "Difference     = np.einsum(\"Isp, J -> IJsp\", Binary, np.ones(len(Binary), dtype=np.int8)) - np.einsum(\"Isp, J -> JIsp\", Binary, np.ones(len(Binary), dtype=np.int8))\n",
        "Sum            = np.einsum(\"Isp, J -> IJsp\", Binary, np.ones(len(Binary), dtype=np.int8)) + np.einsum(\"Isp, J -> JIsp\", Binary, np.ones(len(Binary), dtype=np.int8))\n",
        "SpinDifference = np.einsum(\"IJsp -> IJs\", np.abs(Difference))//2"
      ],
      "metadata": {
        "id": "VrSdi-Y10XXi"
      },
      "execution_count": 6,
      "outputs": []
    },
    {
      "cell_type": "markdown",
      "source": [
        "# Let's now get SO Matrix Elements"
      ],
      "metadata": {
        "id": "1mf2YRmjzqfq"
      }
    },
    {
      "cell_type": "code",
      "source": [
        "H1, H2 = get_SO_matrix(uhf)"
      ],
      "metadata": {
        "id": "9bKzm9-dzqA7"
      },
      "execution_count": 7,
      "outputs": []
    },
    {
      "cell_type": "markdown",
      "source": [
        "# Let's now get CI Matrix Elements\n",
        "\n",
        "Slater-Condon Rule 0 & 3"
      ],
      "metadata": {
        "id": "Ddodv5Jx0l2M"
      }
    },
    {
      "cell_type": "code",
      "source": [
        "AB = Ext(ΛA, N_s[1])\n",
        "BA = Ext(ΛB, N_s[0])\n",
        "AA = Ext(ΛA, N_s[0])\n",
        "BB = Ext(ΛB, N_s[1])\n",
        "\n",
        "Rule0  = np.einsum(\"Ii  -> I\", H1[0, ΛA, ΛA]) \n",
        "Rule0 += np.einsum(\"Ii  -> I\", H1[1, ΛB, ΛB])\n",
        "Rule0 += np.einsum(\"Iij -> I\", H2[0, 0, AA, AA, AA.swapaxes(1,2), AA.swapaxes(1,2)])/2\n",
        "Rule0 += np.einsum(\"Iij -> I\", H2[1, 0, BA, BA, AB.swapaxes(1,2), AB.swapaxes(1,2)])/2\n",
        "Rule0 += np.einsum(\"Iij -> I\", H2[0, 1, AB, AB, BA.swapaxes(1,2), BA.swapaxes(1,2)])/2\n",
        "Rule0 += np.einsum(\"Iij -> I\", H2[1, 1, BB, BB, BB.swapaxes(1,2), BB.swapaxes(1,2)])/2\n",
        "\n",
        "H_CI = np.diag(Rule0)"
      ],
      "metadata": {
        "id": "g6iSTYVw0bW9"
      },
      "execution_count": 8,
      "outputs": []
    },
    {
      "cell_type": "markdown",
      "source": [
        "Slater-Condon Rule 1"
      ],
      "metadata": {
        "id": "olxpOo_i0quk"
      }
    },
    {
      "cell_type": "code",
      "source": [
        "##  indices for 1-difference\n",
        "I_A, J_A = np.where( np.all(SpinDifference==np.array([1,0], dtype=CI_dt), axis=2) )\n",
        "I_B, J_B = np.where( np.all(SpinDifference==np.array([0,1], dtype=CI_dt), axis=2) )\n",
        "I_A = I_A.astype(CI_dt)\n",
        "J_A = J_A.astype(CI_dt)\n",
        "I_B = I_B.astype(CI_dt)\n",
        "J_B = J_B.astype(CI_dt)\n",
        "\n",
        "A_t  = (np.where( Difference[I_A, J_A, 0] ==  1 )[1]).astype(CI_dt)\n",
        "A    = (np.where( Difference[I_A, J_A, 0] == -1 )[1]).astype(CI_dt)\n",
        "B_t  = (np.where( Difference[I_B, J_B, 1] ==  1 )[1]).astype(CI_dt)\n",
        "B    = (np.where( Difference[I_B, J_B, 1] == -1 )[1]).astype(CI_dt)\n",
        "CA_i = ((np.where( Sum[I_A, J_A, 0] == 2 )[1]).reshape(len(I_A), N_s[0]-1)).astype(CI_dt)\n",
        "CB_i = ((np.where( Sum[I_B, J_B, 1] == 2 )[1]).reshape(len(I_B), N_s[1]-1)).astype(CI_dt)\n",
        "\n",
        "if I_A.size > 0:\n",
        "  H_CI[I_A, J_A]  = H1[0, A, A_t]\n",
        "  H_CI[I_A, J_A] += np.einsum(\"In -> I\", H2[0, 0, Ext(A, N_s[0]-1), Ext(A_t, N_s[0]-1), CA_i, CA_i])\n",
        "  H_CI[I_A, J_A] += np.einsum(\"Ii -> I\", H2[0, 1, Ext(A, N_s[1]  ), Ext(A_t, N_s[1]  ), ΛB[I_A], ΛB[J_A]])\n",
        "  H_CI[I_A, J_A] *= Γ_Isp[I_A, 0, A_t] * Γ_Isp[J_A, 0, A]\n",
        "\n",
        "if I_B.size > 0:\n",
        "  H_CI[I_B, J_B]  = H1[1, B, B_t]\n",
        "  H_CI[I_B, J_B] += np.einsum(\"In -> I\", H2[1, 1, Ext(B, N_s[1]-1), Ext(B_t, N_s[1]-1), CB_i, CB_i])\n",
        "  H_CI[I_B, J_B] += np.einsum(\"Ii -> I\", H2[1, 0, Ext(B, N_s[0]  ), Ext(B_t, N_s[0]  ), ΛA[I_B], ΛA[J_B]])\n",
        "  H_CI[I_B, J_B] *= Γ_Isp[I_B, 1, B_t] * Γ_Isp[J_B, 1, B]"
      ],
      "metadata": {
        "id": "aFpI24UQ0q00"
      },
      "execution_count": 9,
      "outputs": []
    },
    {
      "cell_type": "markdown",
      "source": [
        "Slater-Condon Rule 2"
      ],
      "metadata": {
        "id": "BIuOKokA0v8t"
      }
    },
    {
      "cell_type": "code",
      "source": [
        "## indices for 2-differences\n",
        "I_AA, J_AA = np.where( np.all(SpinDifference==np.array([2,0], dtype=CI_dt), axis=2) )\n",
        "I_BB, J_BB = np.where( np.all(SpinDifference==np.array([0,2], dtype=CI_dt), axis=2) )\n",
        "I_AB, J_AB = np.where( np.all(SpinDifference==np.array([1,1], dtype=CI_dt), axis=2) )\n",
        "I_AA = I_AA.astype(CI_dt)\n",
        "J_AA = J_AA.astype(CI_dt)\n",
        "I_BB = I_BB.astype(CI_dt)\n",
        "J_BB = J_BB.astype(CI_dt)\n",
        "I_AB = I_AB.astype(CI_dt)\n",
        "J_AB = J_AB.astype(CI_dt)\n",
        "\n",
        "AA   = (np.where( Difference[I_AA, J_AA, 0] == -1)[1].reshape(len(I_AA),2).T).astype(CI_dt)\n",
        "AA_t = (np.where( Difference[I_AA, J_AA, 0] ==  1)[1].reshape(len(I_AA),2).T).astype(CI_dt)\n",
        "BB   = (np.where( Difference[I_BB, J_BB, 1] == -1)[1].reshape(len(I_BB),2).T).astype(CI_dt)\n",
        "BB_t = (np.where( Difference[I_BB, J_BB, 1] ==  1)[1].reshape(len(I_BB),2).T).astype(CI_dt)\n",
        "AB   = np.asarray([ np.where( Difference[I_AB, J_AB, 0] == -1 )[1], np.where( Difference[I_AB, J_AB, 1] == -1 )[1] ], dtype=CI_dt)\n",
        "AB_t = np.asarray([ np.where( Difference[I_AB, J_AB, 0] ==  1 )[1], np.where( Difference[I_AB, J_AB, 1] ==  1 )[1] ], dtype=CI_dt)\n",
        "\n",
        "if I_AA.size > 0: \n",
        "    H_CI[I_AA, J_AA]  = H2[0, 0, AA[0], AA_t[0], AA[1], AA_t[1]]\n",
        "    H_CI[I_AA, J_AA] *= Γ_Isp[I_AA, 0, AA[0]] * Γ_Isp[J_AA, 0, AA_t[0]] * Γ_Isp[I_AA, 0, AA[1]] * Γ_Isp[J_AA, 0, AA_t[1]]\n",
        "if I_BB.size > 0: \n",
        "    H_CI[I_BB, J_BB]  = H2[1, 1, BB[0], BB_t[0], BB[1], BB_t[1]]\n",
        "    H_CI[I_BB, J_BB] *= Γ_Isp[I_BB, 1, BB[0]] * Γ_Isp[J_BB, 1, BB_t[0]] * Γ_Isp[I_BB, 1, BB[1]] * Γ_Isp[J_BB, 1, BB_t[1]]\n",
        "if I_AB.size > 0:\n",
        "    H_CI[I_AB, J_AB]  = H2[0, 1, AB[0], AB_t[0], AB[1], AB_t[1]]\n",
        "    H_CI[I_AB, J_AB] *= Γ_Isp[I_AB, 0, AB[0]] * Γ_Isp[J_AB, 0, AB_t[0]] * Γ_Isp[I_AB, 1, AB[1]] * Γ_Isp[J_AB, 1, AB_t[1]]"
      ],
      "metadata": {
        "id": "qIukuQtZ0xSW"
      },
      "execution_count": 10,
      "outputs": []
    },
    {
      "cell_type": "markdown",
      "source": [
        "Comparison"
      ],
      "metadata": {
        "id": "RKdot0k-0xy1"
      }
    },
    {
      "cell_type": "code",
      "source": [
        "cisolver = fci.FCI(uhf,singlet=False)\n",
        "cisolver.nroots = 100 # 100\n",
        "cisolver.spin = 0\n",
        "cisolver.davidson_only = False\n",
        "pyscf_fci_energy = cisolver.kernel()[0]\n",
        "\n",
        "nuclear_rep = uhf.energy_nuc()\n",
        "e_fci_my, X_IJ = np.linalg.eigh(H_CI)\n",
        "\n",
        "print(\"pyscf : \" + str(pyscf_fci_energy[0] ))\n",
        "print(\"Mine  : \" + str( e_fci_my[0] + nuclear_rep ))"
      ],
      "metadata": {
        "colab": {
          "base_uri": "https://localhost:8080/"
        },
        "id": "R_n_jjto0x6F",
        "outputId": "92dfed2e-84f0-4fca-d9b3-f9afe8c9418e"
      },
      "execution_count": 11,
      "outputs": [
        {
          "output_type": "stream",
          "name": "stdout",
          "text": [
            "pyscf : -59.68748824964669\n",
            "Mine  : -59.68748824964675\n"
          ]
        }
      ]
    }
  ]
}