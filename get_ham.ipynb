{
  "nbformat": 4,
  "nbformat_minor": 0,
  "metadata": {
    "colab": {
      "name": "get_ham.ipynb",
      "provenance": [],
      "collapsed_sections": [],
      "authorship_tag": "ABX9TyPWxTCJIv3xAJzW13l2n7ms",
      "include_colab_link": true
    },
    "kernelspec": {
      "name": "python3",
      "display_name": "Python 3"
    },
    "language_info": {
      "name": "python"
    }
  },
  "cells": [
    {
      "cell_type": "markdown",
      "metadata": {
        "id": "view-in-github",
        "colab_type": "text"
      },
      "source": [
        "<a href=\"https://colab.research.google.com/github/jcandane/CI_Theory/blob/main/get_ham.ipynb\" target=\"_parent\"><img src=\"https://colab.research.google.com/assets/colab-badge.svg\" alt=\"Open In Colab\"/></a>"
      ]
    },
    {
      "cell_type": "code",
      "execution_count": 1,
      "metadata": {
        "colab": {
          "base_uri": "https://localhost:8080/"
        },
        "id": "HFJ2_pb4aU15",
        "outputId": "0d913cd6-056a-4d9b-ab5a-ae3bd575d7a9"
      },
      "outputs": [
        {
          "output_type": "stream",
          "name": "stdout",
          "text": [
            "Collecting pyscf\n",
            "  Downloading pyscf-2.0.1-cp37-cp37m-manylinux1_x86_64.whl (37.5 MB)\n",
            "\u001b[K     |████████████████████████████████| 37.5 MB 12.1 MB/s \n",
            "\u001b[?25hRequirement already satisfied: scipy!=1.5.0,!=1.5.1 in /usr/local/lib/python3.7/dist-packages (from pyscf) (1.4.1)\n",
            "Requirement already satisfied: numpy!=1.16,!=1.17,>=1.13 in /usr/local/lib/python3.7/dist-packages (from pyscf) (1.21.5)\n",
            "Requirement already satisfied: h5py>=2.7 in /usr/local/lib/python3.7/dist-packages (from pyscf) (3.1.0)\n",
            "Requirement already satisfied: cached-property in /usr/local/lib/python3.7/dist-packages (from h5py>=2.7->pyscf) (1.5.2)\n",
            "Installing collected packages: pyscf\n",
            "Successfully installed pyscf-2.0.1\n",
            "Cloning into 'CI_Theory'...\n",
            "remote: Enumerating objects: 58, done.\u001b[K\n",
            "remote: Counting objects: 100% (39/39), done.\u001b[K\n",
            "remote: Compressing objects: 100% (38/38), done.\u001b[K\n",
            "remote: Total 58 (delta 14), reused 0 (delta 0), pack-reused 19\u001b[K\n",
            "Unpacking objects: 100% (58/58), done.\n"
          ]
        }
      ],
      "source": [
        "import numpy as np\n",
        "\n",
        "np.set_printoptions(precision=4, linewidth=200, threshold=2000, suppress=True)\n",
        "\n",
        "!pip install pyscf\n",
        "!git clone https://github.com/jcandane/CI_Theory\n",
        "\n",
        "from pyscf import fci, ao2mo, scf, gto\n",
        "from CI_Theory.CI_combos import MR_X, Ext\n",
        "from CI_Theory.SlaterCondon import SlaterCondon, givenBgetΛ"
      ]
    },
    {
      "cell_type": "code",
      "source": [
        "def get_SO_H1(H_ao, uhf_pyscf):\n",
        "    Ca, Cb = (uhf_pyscf).mo_coeff\n",
        "    return np.asarray([np.einsum(\"AB, Ap, Bq -> pq\", H_ao, Ca, Ca), np.einsum(\"AB, Ap, Bq -> pq\", H_ao, Cb, Cb)])\n",
        "\n",
        "def get_SO_H2(uhf_pyscf):\n",
        "    Ca, Cb = (uhf_pyscf).mo_coeff\n",
        "    n = Ca.shape[1]\n",
        "    eri_aa = (ao2mo.general( (uhf_pyscf)._eri , (Ca, Ca, Ca, Ca), compact=False)).reshape((n,n,n,n), order=\"C\")\n",
        "    eri_aa -= eri_aa.swapaxes(1,3)\n",
        "    eri_bb = (ao2mo.general( (uhf_pyscf)._eri , (Cb, Cb, Cb, Cb), compact=False)).reshape((n,n,n,n), order=\"C\")\n",
        "    eri_bb -= eri_bb.swapaxes(1,3)\n",
        "    eri_ab = (ao2mo.general( (uhf_pyscf)._eri , (Ca, Ca, Cb, Cb), compact=False)).reshape((n,n,n,n), order=\"C\")\n",
        "    #eri_ba = (1.*eri_ab).swapaxes(0,3).swapaxes(1,2) ## !! caution depends on symmetry\n",
        "    eri_ba = (ao2mo.general( (uhf_pyscf)._eri , (Cb, Cb, Ca, Ca), compact=False)).reshape((n,n,n,n), order=\"C\")\n",
        "    return np.stack(( np.stack((eri_aa, eri_ab)), np.stack((eri_ba, eri_bb)) ))\n",
        "\n",
        "def get_SO_H(H_ao, uhf_pyscf):\n",
        "    return get_SO_H1(H_ao, uhf_pyscf), get_SO_H2(uhf_pyscf)\n",
        "\n",
        "def get_CI_H1(H1_SO, SC1, Binary):\n",
        "    I_A, J_A, a, a_t, I_B, J_B, b, b_t = SC1\n",
        "\n",
        "    H1_CI   = np.diag( np.einsum(\"spp, sIp -> I\", H1_SO, Binary) )\n",
        "    H1_CI[I_A, J_A] += np.einsum(\"pq, Kp, Kq -> K\", H1_SO[0], a_t, a)\n",
        "    H1_CI[I_B, J_B] += np.einsum(\"pq, Kp, Kq -> K\", H1_SO[1], b_t, b)\n",
        "\n",
        "    return H1_CI\n",
        "\n",
        "def get_CI_H2(H2_SO, SC1, SC2, Binary):\n",
        "    I_A, J_A, a, a_t, I_B, J_B, b, b_t = SC1\n",
        "    I_AA, J_AA, aa_T, I_AB, J_AB, ab_T, I_BB, J_BB, bb_T, ca, cb = SC2\n",
        "\n",
        "    H2_CI    = np.diag( np.einsum(\"stppqq, sIp, tIq -> I\", H2_SO, Binary, Binary, optimize=True)/2 )\n",
        "    H2_CI[I_A, J_A]   = np.einsum(\"sprqq, Kp, Kr, sKq -> K\", H2_SO[0], a_t, a, ca, optimize=True)\n",
        "    H2_CI[I_B, J_B]   = np.einsum(\"sprqq, Kp, Kr, sKq -> K\", H2_SO[1], b_t, b, cb, optimize=True)\n",
        "    H2_CI[I_AA, J_AA] = np.einsum(\"pqrs, Kp, Kq, Kr, Ks -> K\", H2_SO[0,0], aa_T[0], aa_T[1], aa_T[2], aa_T[3], optimize=True)\n",
        "    H2_CI[I_BB, J_BB] = np.einsum(\"pqrs, Kp, Kq, Kr, Ks -> K\", H2_SO[1,1], bb_T[0], bb_T[1], bb_T[2], bb_T[3], optimize=True)\n",
        "    H2_CI[I_AB, J_AB] = np.einsum(\"pqrs, Kp, Kq, Kr, Ks -> K\", H2_SO[0,1], ab_T[0], ab_T[1], ab_T[2], ab_T[3], optimize=True)\n",
        "\n",
        "    return H2_CI\n",
        "\n",
        "def get_CI_H(H1_SO, H2_SO, SC1, SC2, Binary, sign):\n",
        "    return get_CI_H1(H1_SO, SC1, Binary, sign), get_CI_H2(H2_SO, SC2, Binary, sign)"
      ],
      "metadata": {
        "id": "ZfUi1KHyahw4"
      },
      "execution_count": 4,
      "outputs": []
    },
    {
      "cell_type": "code",
      "source": [
        "    I_A, J_A, A, A_t, I_B, J_B, B, B_t, CA_i, CB_i = SC1\n",
        "\n",
        "    ll      = np.arange(0, len(A), 1, dtype=int)\n",
        "    a   = np.zeros((len(A), Binary.shape[2]), dtype=int)\n",
        "    a_t = np.zeros((len(A), Binary.shape[2]), dtype=int)\n",
        "    a[ll, A]     = sign[J_A, 0, A]\n",
        "    a_t[ll, A_t] = sign[I_A, 0, A_t]\n",
        "\n",
        "    ll      = np.arange(0, len(B), 1, dtype=int)\n",
        "    b   = np.zeros((len(B), Binary.shape[2]), dtype=int)\n",
        "    b_t = np.zeros((len(B), Binary.shape[2]), dtype=int)\n",
        "    b[ll, B]     = sign[J_B, 1, B]\n",
        "    b_t[ll, B_t] = sign[I_B, 1, B_t] "
      ],
      "metadata": {
        "id": "13VktUnHouTf"
      },
      "execution_count": null,
      "outputs": []
    }
  ]
}