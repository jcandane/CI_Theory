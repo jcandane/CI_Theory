{
  "nbformat": 4,
  "nbformat_minor": 0,
  "metadata": {
    "colab": {
      "name": "FCI.ipynb",
      "provenance": [],
      "collapsed_sections": [],
      "authorship_tag": "ABX9TyOG1Xd95/0idFKxiof0pK40",
      "include_colab_link": true
    },
    "kernelspec": {
      "name": "python3",
      "display_name": "Python 3"
    },
    "language_info": {
      "name": "python"
    }
  },
  "cells": [
    {
      "cell_type": "markdown",
      "metadata": {
        "id": "view-in-github",
        "colab_type": "text"
      },
      "source": [
        "<a href=\"https://colab.research.google.com/github/jcandane/CI_Theory/blob/main/FCI.ipynb\" target=\"_parent\"><img src=\"https://colab.research.google.com/assets/colab-badge.svg\" alt=\"Open In Colab\"/></a>"
      ]
    },
    {
      "cell_type": "markdown",
      "source": [
        "# The Goal of this notebook is to introduce a standalone FCI program in Python."
      ],
      "metadata": {
        "id": "-MMV4gC98AaQ"
      }
    },
    {
      "cell_type": "markdown",
      "source": [
        "## Import Libraries, set defaults"
      ],
      "metadata": {
        "id": "Yp1hG5oE8JK9"
      }
    },
    {
      "cell_type": "code",
      "execution_count": 1,
      "metadata": {
        "colab": {
          "base_uri": "https://localhost:8080/"
        },
        "id": "xjfamiUfzRLq",
        "outputId": "45f22901-3592-450c-b204-7456170bc26b"
      },
      "outputs": [
        {
          "output_type": "stream",
          "name": "stdout",
          "text": [
            "Collecting pyscf\n",
            "  Downloading pyscf-2.0.1-cp37-cp37m-manylinux1_x86_64.whl (37.5 MB)\n",
            "\u001b[K     |████████████████████████████████| 37.5 MB 1.7 MB/s \n",
            "\u001b[?25hRequirement already satisfied: numpy!=1.16,!=1.17,>=1.13 in /usr/local/lib/python3.7/dist-packages (from pyscf) (1.21.6)\n",
            "Requirement already satisfied: h5py>=2.7 in /usr/local/lib/python3.7/dist-packages (from pyscf) (3.1.0)\n",
            "Requirement already satisfied: scipy!=1.5.0,!=1.5.1 in /usr/local/lib/python3.7/dist-packages (from pyscf) (1.4.1)\n",
            "Requirement already satisfied: cached-property in /usr/local/lib/python3.7/dist-packages (from h5py>=2.7->pyscf) (1.5.2)\n",
            "Installing collected packages: pyscf\n",
            "Successfully installed pyscf-2.0.1\n"
          ]
        }
      ],
      "source": [
        "!pip install pyscf\n",
        "\n",
        "import numpy as np\n",
        "from itertools import combinations, permutations\n",
        "from pyscf import fci, ao2mo, scf, gto\n",
        "\n",
        "π = np.pi\n",
        "α = 0.007297352\n",
        "c = 1.0/α\n",
        "np.set_printoptions(precision=4, linewidth=200, threshold=2000, suppress=True)"
      ]
    },
    {
      "cell_type": "markdown",
      "source": [
        "## Let's define a few useful python functions:"
      ],
      "metadata": {
        "id": "myzsj52g8RZ7"
      }
    },
    {
      "cell_type": "code",
      "source": [
        "def givenΛgetB(ΛA, ΛB, N_mo):\n",
        "  \"Given Λ (i occupied orbitals for each determinant) get B (binary rep.)\"\n",
        "\n",
        "  Binary  = np.zeros((ΛA.shape[0], 2, N_mo), dtype=np.int8)\n",
        "  for I in range(len(Binary)):\n",
        "      Binary[I, 0, ΛA[I,:]] = 1\n",
        "      Binary[I, 1, ΛB[I,:]] = 1\n",
        "\n",
        "  return Binary\n",
        "\n",
        "def SpinOuterProduct(A, B, stack=False):\n",
        "  ΛA = np.einsum(\"Ii, J -> IJi\", A, np.ones(B.shape[0], dtype=np.int8)).reshape( (A.shape[0]*B.shape[0], A.shape[1]) )\n",
        "  ΛB = np.einsum(\"Ii, J -> JIi\", B, np.ones(A.shape[0], dtype=np.int8)).reshape( (A.shape[0]*B.shape[0], B.shape[1]) )\n",
        "  \n",
        "  if stack:\n",
        "    return np.array([ΛA,ΛB])\n",
        "  else:\n",
        "    return ΛA, ΛB\n",
        "\n",
        "def get_SO_matrix(uhf_pyscf, SF=False, H1=None, H2=None):\n",
        "    \"\"\" Given a PySCF uhf object get SO Matrices \"\"\"\n",
        "\n",
        "    Ca, Cb = (uhf_pyscf).mo_coeff\n",
        "    S = (uhf_pyscf.mol).intor(\"int1e_ovlp\")\n",
        "    eig, v = np.linalg.eigh(S)\n",
        "    A = (v) @ np.diag(eig**(-0.5)) @ np.linalg.inv(v) \n",
        "    H = uhf_pyscf.get_hcore() \n",
        "\n",
        "    n = Ca.shape[1]\n",
        "    eri_aa = (ao2mo.general( (uhf_pyscf)._eri , (Ca, Ca, Ca, Ca), compact=False)).reshape((n,n,n,n), order=\"C\")\n",
        "    eri_aa -= eri_aa.swapaxes(1,3)\n",
        "    eri_bb = (ao2mo.general( (uhf_pyscf)._eri , (Cb, Cb, Cb, Cb), compact=False)).reshape((n,n,n,n), order=\"C\")\n",
        "    eri_bb -= eri_bb.swapaxes(1,3)\n",
        "    eri_ab = (ao2mo.general( (uhf_pyscf)._eri , (Ca, Ca, Cb, Cb), compact=False)).reshape((n,n,n,n), order=\"C\")\n",
        "    #eri_ba = (1.*eri_ab).swapaxes(0,3).swapaxes(1,2) ## !! caution depends on symmetry\n",
        "    eri_ba = (ao2mo.general( (uhf_pyscf)._eri , (Cb, Cb, Ca, Ca), compact=False)).reshape((n,n,n,n), order=\"C\")\n",
        "    H2 = np.stack(( np.stack((eri_aa, eri_ab)), np.stack((eri_ba, eri_bb)) ))\n",
        "\n",
        "    H1 = np.asarray([np.einsum(\"AB, Ap, Bq -> pq\", H, Ca, Ca), np.einsum(\"AB, Ap, Bq -> pq\", H, Cb, Cb)])\n",
        "\n",
        "    if SF:\n",
        "      eri_abab = (ao2mo.general( (uhf_pyscf)._eri , (Ca, Cb, Ca, Cb), compact=False)).reshape((n,n,n,n), order=\"C\")\n",
        "      eri_abba = (ao2mo.general( (uhf_pyscf)._eri , (Ca, Cb, Cb, Ca), compact=False)).reshape((n,n,n,n), order=\"C\")\n",
        "      eri_baab = (ao2mo.general( (uhf_pyscf)._eri , (Cb, Ca, Ca, Cb), compact=False)).reshape((n,n,n,n), order=\"C\")\n",
        "      eri_baba = (ao2mo.general( (uhf_pyscf)._eri , (Cb, Ca, Cb, Ca), compact=False)).reshape((n,n,n,n), order=\"C\")\n",
        "      H2_SF = np.stack(( np.stack((eri_abab, eri_abba)), np.stack((eri_baab, eri_baba)) ))\n",
        "      return H1, H2, H2_SF\n",
        "\n",
        "    else:\n",
        "      return H1, H2\n",
        "\n",
        "def get_excitation_op(i, j, binary, sign, spin=0):\n",
        "    Difference = binary[i,spin] - binary[j, spin]\n",
        "    #a_t  =    (Difference[i, j, spin] + 0.5).astype(np.int8)\n",
        "    #a    = -1*(Difference[i, j, spin] - 0.5).astype(np.int8)\n",
        "    a_t =    (Difference + 0.5).astype(np.int8)\n",
        "    a   = -1*(Difference - 0.5).astype(np.int8)\n",
        "    if np.sum(a[0]) > 1: ### this is a double excitation\n",
        "        å_t = 1*a_t ## make copy\n",
        "        å_t[ np.arange(len(å_t)),(å_t!=0).argmax(axis=1) ] = 0 ## zero first 1\n",
        "        a_t = np.abs(å_t - a_t) ## absolute difference from orginal\n",
        "        a_t = np.asarray([sign[j, spin]*å_t,sign[j, spin]*a_t]) ## stack\n",
        "\n",
        "        å = 1*a ## make copy\n",
        "        å[ np.arange(len(å)),(å!=0).argmax(axis=1) ] = 0 ## zero first 1\n",
        "        a = np.abs(å - a) ## absolute difference from orginal\n",
        "        a = np.asarray([sign[i, spin]*å,sign[i, spin]*a]) ## stack\n",
        "\n",
        "        return a_t, a\n",
        "\n",
        "    return sign[j, spin]*a_t, sign[i, spin]*a"
      ],
      "metadata": {
        "id": "-gkQF6nMzX1g"
      },
      "execution_count": 2,
      "outputs": []
    },
    {
      "cell_type": "markdown",
      "source": [
        "## Let's now do a PySCF HF Calculation"
      ],
      "metadata": {
        "id": "kDXmer_mzltr"
      }
    },
    {
      "cell_type": "code",
      "source": [
        "mol = gto.M(atom='He 0.0 0.0 0.0; H 1.5 0.0 0.0; He 0.0 1.5 0.0; N 0.0, 0.0, 1.5', spin=0, basis=\"sto-3g\")\n",
        "uhf = scf.UHF(mol)\n",
        "uhf.kernel()\n",
        "\n",
        "### information about occupation\n",
        "O_sp   = np.asarray((uhf).mo_occ, dtype=np.int8)\n",
        "N_s    = np.einsum(\"sp -> s\", O_sp)"
      ],
      "metadata": {
        "colab": {
          "base_uri": "https://localhost:8080/"
        },
        "id": "rOXs5jJxzek9",
        "outputId": "4ca1da36-da34-4b97-a0cf-86f6853b315c"
      },
      "execution_count": 3,
      "outputs": [
        {
          "output_type": "stream",
          "name": "stdout",
          "text": [
            "converged SCF energy = -59.3998556537129  <S^2> = 1.5861251e-06  2S+1 = 1.0000032\n"
          ]
        }
      ]
    },
    {
      "cell_type": "markdown",
      "source": [
        "## Configuration Generation (fCI)"
      ],
      "metadata": {
        "id": "dm-H-P8Kz5ex"
      }
    },
    {
      "cell_type": "code",
      "source": [
        "N   = O_sp.shape[1]\n",
        "Λ_α = np.asarray( list(combinations(  np.arange(0, N, 1, dtype=np.int8)  , N_s[0] ) ) ) \n",
        "Λ_β = np.asarray( list(combinations(  np.arange(0, N, 1, dtype=np.int8)  , N_s[1] ) ) ) \n",
        "ΛA, ΛB = SpinOuterProduct(Λ_α, Λ_β)\n",
        "Binary = givenΛgetB(ΛA, ΛB, N)"
      ],
      "metadata": {
        "id": "811a8CjYz-Ui"
      },
      "execution_count": 4,
      "outputs": []
    },
    {
      "cell_type": "markdown",
      "source": [
        "Determine Determinant Signs"
      ],
      "metadata": {
        "id": "eg8iU_2Lz-35"
      }
    },
    {
      "cell_type": "code",
      "source": [
        "sign  = np.cumsum( Binary, axis=2)\n",
        "for I in range(len(Binary)):\n",
        "    iia = np.where( Binary[I,0] == 1)[0]\n",
        "    iib = np.where( Binary[I,1] == 1)[0]\n",
        "    sign[I, 0, iia] = np.arange(0, len(iia), 1)\n",
        "    sign[I, 1, iib] = np.arange(0, len(iib), 1)\n",
        "\n",
        "sign = ( (-1)**(sign) ).astype(np.int8)"
      ],
      "metadata": {
        "id": "udUSp5BQ0J4C"
      },
      "execution_count": 5,
      "outputs": []
    },
    {
      "cell_type": "markdown",
      "source": [
        "## Let's now get SO Matrix Elements"
      ],
      "metadata": {
        "id": "1mf2YRmjzqfq"
      }
    },
    {
      "cell_type": "code",
      "source": [
        "H1, H2 = get_SO_matrix(uhf)"
      ],
      "metadata": {
        "id": "9bKzm9-dzqA7"
      },
      "execution_count": 6,
      "outputs": []
    },
    {
      "cell_type": "markdown",
      "source": [
        "## Let's now get CI Matrix Elements\n",
        "\n",
        "Slater-Condon Rule 0 & 3"
      ],
      "metadata": {
        "id": "Ddodv5Jx0l2M"
      }
    },
    {
      "cell_type": "code",
      "source": [
        "## Rule 0 & 3\n",
        "H_CI  = np.einsum(\"Spp, ISp -> I\", H1, Binary, optimize=True)\n",
        "H_CI += np.einsum(\"STppqq, ISp, ITq -> I\", H2, Binary, Binary, optimize=True)/2\n",
        "H_CI  = np.diag(H_CI)"
      ],
      "metadata": {
        "id": "wtboOjGMKPqW"
      },
      "execution_count": 7,
      "outputs": []
    },
    {
      "cell_type": "markdown",
      "source": [
        "Calclate Spin Differences between all determinants to determine the applicable rule."
      ],
      "metadata": {
        "id": "lsq4FLyJK2jE"
      }
    },
    {
      "cell_type": "code",
      "source": [
        "SpinDifference = np.sum( np.abs(Binary[:, None, :, :] - Binary[None, :, :, :]), axis=3)//2"
      ],
      "metadata": {
        "id": "vdoPliSBK2vj"
      },
      "execution_count": 8,
      "outputs": []
    },
    {
      "cell_type": "markdown",
      "source": [
        "Slater-Condon Rule 1"
      ],
      "metadata": {
        "id": "olxpOo_i0quk"
      }
    },
    {
      "cell_type": "code",
      "source": [
        "## indices for 1-difference\n",
        "I_A, J_A = np.where( np.all(SpinDifference==np.array([1,0], dtype=np.int8), axis=2) )\n",
        "I_B, J_B = np.where( np.all(SpinDifference==np.array([0,1], dtype=np.int8), axis=2) )\n",
        "\n",
        "### get excitation operators\n",
        "a_t , a  = get_excitation_op(I_A , J_A , Binary, sign, spin=0)\n",
        "b_t , b  = get_excitation_op(I_B , J_B , Binary, sign, spin=1)\n",
        "ca       = ((Binary[I_A,0,:] + Binary[J_A,0,:])/2).astype(np.int8)\n",
        "cb       = ((Binary[I_B,1,:] + Binary[J_B,1,:])/2).astype(np.int8)\n",
        "\n",
        "## Rule 1\n",
        "H_CI[I_A , J_A ] -= np.einsum(\"pq, Kp, Kq -> K\", H1[0], a_t, a, optimize=True)\n",
        "H_CI[I_A , J_A ] -= np.einsum(\"pqrr, Kp, Kq, Kr -> K\", H2[0,0], a_t, a, ca, optimize=True)\n",
        "H_CI[I_A , J_A ] -= np.einsum(\"pqrr, Kp, Kq, Kr -> K\", H2[0,1], a_t, a, Binary[I_A,1], optimize=True)\n",
        "\n",
        "H_CI[I_B , J_B ] -= np.einsum(\"pq, Kp, Kq -> K\", H1[1], b_t, b, optimize=True)\n",
        "H_CI[I_B , J_B ] -= np.einsum(\"pqrr, Kp, Kq, Kr -> K\", H2[1,1], b_t, b, cb, optimize=True)\n",
        "H_CI[I_B , J_B ] -= np.einsum(\"pqrr, Kp, Kq, Kr -> K\", H2[1,0], b_t, b, Binary[I_B,0], optimize=True)"
      ],
      "metadata": {
        "id": "w7vBdhEyKRV2"
      },
      "execution_count": 9,
      "outputs": []
    },
    {
      "cell_type": "markdown",
      "source": [
        "Slater-Condon Rule 2"
      ],
      "metadata": {
        "id": "BIuOKokA0v8t"
      }
    },
    {
      "cell_type": "code",
      "source": [
        "## indices for 2-differences\n",
        "I_AA, J_AA = np.where( np.all(SpinDifference==np.array([2,0], dtype=np.int8), axis=2) )\n",
        "I_BB, J_BB = np.where( np.all(SpinDifference==np.array([0,2], dtype=np.int8), axis=2) )\n",
        "I_AB, J_AB = np.where( np.all(SpinDifference==np.array([1,1], dtype=np.int8), axis=2) )\n",
        "\n",
        "aa_t, aa = get_excitation_op(I_AA, J_AA, Binary, sign, spin=0)\n",
        "bb_t, bb = get_excitation_op(I_BB, J_BB, Binary, sign, spin=1)\n",
        "ab_t, ab = get_excitation_op(I_AB, J_AB, Binary, sign, spin=0)\n",
        "ba_t, ba = get_excitation_op(I_AB, J_AB, Binary, sign, spin=1)\n",
        "\n",
        "## Rule 2\n",
        "H_CI[I_AA, J_AA]  = np.einsum(\"pqrs, Kp, Kq, Kr, Ks -> K\", H2[0,0], aa_t[0], aa[0], aa_t[1], aa[1], optimize=True)\n",
        "H_CI[I_BB, J_BB]  = np.einsum(\"pqrs, Kp, Kq, Kr, Ks -> K\", H2[1,1], bb_t[0], bb[0], bb_t[1], bb[1], optimize=True)\n",
        "H_CI[I_AB, J_AB]  = np.einsum(\"pqrs, Kp, Kq, Kr, Ks -> K\", H2[0,1], ab_t, ab, ba_t, ba, optimize=True)"
      ],
      "metadata": {
        "id": "Ayu572fuqikd"
      },
      "execution_count": 10,
      "outputs": []
    },
    {
      "cell_type": "markdown",
      "source": [
        "## Calculation"
      ],
      "metadata": {
        "id": "FmeIK-5wKDGC"
      }
    },
    {
      "cell_type": "markdown",
      "source": [
        "### PySCF FCI"
      ],
      "metadata": {
        "id": "RKdot0k-0xy1"
      }
    },
    {
      "cell_type": "code",
      "source": [
        "cisolver = fci.FCI(uhf,singlet=False)\n",
        "cisolver.nroots = 100 # 100\n",
        "cisolver.spin = 0\n",
        "cisolver.davidson_only = False\n",
        "pyscf_fci_energy = cisolver.kernel()[0]"
      ],
      "metadata": {
        "id": "R_n_jjto0x6F"
      },
      "execution_count": 11,
      "outputs": []
    },
    {
      "cell_type": "markdown",
      "source": [
        "### Comparison"
      ],
      "metadata": {
        "id": "WiBSiywDAt3N"
      }
    },
    {
      "cell_type": "code",
      "source": [
        "nuclear_rep = uhf.energy_nuc()\n",
        "e_fci_my, X_IJ = np.linalg.eigh(H_CI)\n",
        "\n",
        "print(\"PySCF : \" + str(pyscf_fci_energy[0] ))\n",
        "print(\"Mine  : \" + str( e_fci_my[0] + nuclear_rep ))\n",
        "\n",
        "from scipy.sparse.linalg import eigs\n",
        "vals, vecs = eigs(H_CI, k=6) ## for sparse matrix get 1st 6 eigenvectors and eigenvalues\n",
        "print(\"MineSp: \" + str( vals[0].real + nuclear_rep )) "
      ],
      "metadata": {
        "colab": {
          "base_uri": "https://localhost:8080/"
        },
        "id": "OLwQhAWpApdt",
        "outputId": "739f9bcf-e03d-4a4b-fb43-a5bfd51e5b68"
      },
      "execution_count": 15,
      "outputs": [
        {
          "output_type": "stream",
          "name": "stdout",
          "text": [
            "PySCF : -59.687488249646734\n",
            "Mine  : -59.68748824964679\n",
            "MineSp: -59.68748824964665\n"
          ]
        }
      ]
    }
  ]
}